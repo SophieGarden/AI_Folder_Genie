{
 "cells": [
  {
   "cell_type": "code",
   "execution_count": 185,
   "metadata": {
    "scrolled": true
   },
   "outputs": [],
   "source": [
    "'''\n",
    "Ref:Multi-Class Text Classification with Scikit-Learn\n",
    "https://towardsdatascience.com/multi-class-text-classification-with-scikit-learn-12f1e60e0a9f\n",
    "\n",
    "'''\n",
    "import pandas as pd\n",
    "import numpy as np\n",
    "import matplotlib.pyplot as plt\n",
    "import seaborn as sns\n",
    "\n",
    "import os\n",
    "import glob\n",
    "import random\n",
    "import string\n",
    "import html\n",
    "import re\n",
    "import pickle\n",
    "\n",
    "from nltk.stem import PorterStemmer\n",
    "\n",
    "\n",
    "from sklearn.feature_extraction.text import TfidfVectorizer, CountVectorizer, TfidfTransformer\n",
    "from sklearn.feature_selection import chi2\n",
    "\n",
    "from sklearn.model_selection import train_test_split,cross_val_score\n",
    "from sklearn.naive_bayes import MultinomialNB\n",
    "from sklearn.linear_model import LogisticRegression\n",
    "from sklearn.ensemble import RandomForestClassifier\n",
    "from sklearn.svm import LinearSVC\n",
    "from sklearn.exceptions import NotFittedError"
   ]
  },
  {
   "cell_type": "markdown",
   "metadata": {},
   "source": [
    "# read file structure and get features and labels(df_paths)"
   ]
  },
  {
   "cell_type": "code",
   "execution_count": 186,
   "metadata": {},
   "outputs": [],
   "source": [
    "root_dir = '/Users/wentingchen/Documents/Folder_Sophie/' # '/' in the end!!!\n",
    "data = []\n",
    "for filename in glob.iglob(root_dir + '**/*', recursive=True):\n",
    "     data.append(os.path.relpath(filename, root_dir))  \n",
    "        "
   ]
  },
  {
   "cell_type": "code",
   "execution_count": 187,
   "metadata": {},
   "outputs": [
    {
     "data": {
      "text/plain": [
       "['Research/Hg/Hg-references/Hg_Dimer_states/JPB_1986_Laser-induced fluorescence spectrum arising from G0u+-X0g+ bound-free transitions in Hg2.pdf',\n",
       " 'CS/Udacity/DS_Nanodegree/DSND_Term1-master/lessons/DeepLearning/3_PyTorch/assets/dog.128.jpg',\n",
       " 'Research/Hg/HgData_Processing/HgCellwithVaccum/248nmPumped/11-2015V2/195C/335-5.csv',\n",
       " 'Research/Hg/HgData_Processing/Hg-two-color-pump/10-05-2016/410-411nm/data1_4.lvm',\n",
       " 'Research/Hg/HgData_Processing/HgCellwithVaccum/266nmPumped/05-27-2015/average 256 times/600c-335.csv',\n",
       " 'Research/Hg/HgData_Processing/HgCellwithVaccum/248nmPumped/11-2015V2/229C/271-15.csv',\n",
       " 'Research/Hg/HgData_Processing/HgCellwithVaccum/248nmPumped/11-10-2015/348C/271-5.csv',\n",
       " 'Research/XeI/XeI_SpectralSimulations/XeI_code_wendy/old_codes/gen_mommatrix.m',\n",
       " 'Research/Hg/HgData_Processing/HgCellwithVaccum/266nmPumped/05-01-2015-Hg data-266 pumped/500c-5s/Spreadsheet_050115151649.xls',\n",
       " 'CS/Insight/ai-download-manager/Sophie_AI_download_manager/older/flask_part/flaskexample/static/css/bootstrap.min.css.map',\n",
       " 'Research/Hg/HgData_Processing/HgCellwithVaccum/266nmPumped/07-06-2015/298C/335nm-200uj-4.csv',\n",
       " 'Research/YI/YI Data/Jan 14/800c/IMAGE_011415113839.png',\n",
       " 'Research/Hg/HgData_Processing/HgCellwithVaccum/248nmPumped/11-2015V4/107C/520-3.csv',\n",
       " 'Research/Hg/HgData_Processing/Hg-two-color-pump/10-15-2016/436/data_599.lvm',\n",
       " 'Research/Hg/HgData_Processing/Hg-two-color-pump/10-16-2016/433-436nm/data_428.lvm',\n",
       " 'Research/YI/YI Data/Feb 10/varied pump length/14-143/YI3_2979_To_3025A_Time10-Feb-2015 17_15_58.jpg',\n",
       " 'Research/Hg/HgData_Processing/Hg-two-color-pump/Hg_TwoColor_Data_before_Oct_2016/09-17-2016/09-17-2016/430-435/test_1059.lvm',\n",
       " 'Research/XeI/XeI_Tom/Not_XeI/Xe2FreeFree/suppression-spectra/suppression-spectrum-823-3nm-b.eps',\n",
       " 'Research/YI/YI Data/Jan 30 filter compare/950 C/YI3_6750_To_8200A_Time30-Jan-2015 16_45_36.mat',\n",
       " 'Research/XeI/XeI_Tom/Not_XeI/Xe2FreeFree/Publication_Figures/5_Oum.csv',\n",
       " 'CS/Udacity/DS_Nanodegree/DSND_Term1-master/lessons/Unsupervised/1_Clustering/Feature Scaling.ipynb',\n",
       " 'Research/Hg/HgData_Processing/HgCellwithVaccum/248nmPumped/07-30-2015/266C/485nm-3.csv',\n",
       " 'Research/XeI/XeI_SpectralSimulations/XeI_FayeShen/XeI_Shen/XeI_Shen/Debug/XeI_Shen.tlog/CL.command.1.tlog',\n",
       " 'Research/Hg/HgData_Processing/Hg-two-color-pump/10-13-2016/fist-time-data/420-430/data_26.lvm',\n",
       " 'Research/Hg/Hg-presentation/ISMS2016_talk',\n",
       " 'Research/Hg/HgData_Processing/HgCellwithVaccum/248nmPumped/11-21-2015/365C/380-7.csv',\n",
       " 'Research/Hg/HgData_Processing/Hg-two-color-pump/Hg_TwoColor_Data_before_Oct_2016/09-17-2016/09-17-2016/430-435/test_982.lvm',\n",
       " 'Research/Hg/HgData_Processing/Hg-two-color-pump/10-17-2016/435-439nm1017/data_17.lvm',\n",
       " 'Research/Hg/HgData_Processing/Hg-two-color-pump/10-05-2016/390-404nm/data1_43.lvm',\n",
       " 'pictures/vocation/Morocco_Sep2017/IMG_20170911_101828',\n",
       " 'Research/YI/YI Data/Feb 12/1900V 30 shots 7 units',\n",
       " 'Research/Hg/HgData_Processing/Hg-two-color-pump/10-13-2016/430-440nm/data_93.lvm',\n",
       " 'music/Classica/35 Concerto Grosso in G Minor _Chris.mp3',\n",
       " 'CS/Udacity/DS_Nanodegree/exercises/deep-learning-master/first-neural-network/Bike-Sharing-Dataset/hour.csv',\n",
       " 'Research/Hg/HgData_Processing/HgCellwithVaccum/266nmPumped/05-01-2015-Hg data-266 pumped/noise/noise reason.txt',\n",
       " 'Research/Hg/HgData_Processing/Hg-two-color-pump/Hg_TwoColor_Data_before_Oct_2016/09-17-2016/09-17-2016/430-435/test_762.lvm',\n",
       " 'Research/Hg/HgData_Processing/Hg-two-color-pump/10-15-2016/436/data_517.lvm',\n",
       " 'Research/YI/YI Data/Jan 14/950c/blackbody/Spreadsheet_011415171019.xls',\n",
       " 'Research/Hg/HgData_Processing/Hg-two-color-pump/10-05-2016/402-413nm/data1_205.lvm',\n",
       " 'Research/Hg/HgData_Processing/HgCellwithVaccum/266nmPumped/07-07-2015/162C/485nm-20uj-3.csv',\n",
       " 'Research/Hg/HgData_Processing/Hg-two-color-pump/Hg_TwoColor_Data_before_Oct_2016/09-17-2016/09-17-2016/430-435/test_1498.lvm',\n",
       " 'Research/Hg/HgData_Processing/Hg-two-color-pump/10-17-2016/435-439nm1017/data_627.lvm',\n",
       " 'Research/YI/YI Data/old/16720.png',\n",
       " 'CS/Insight/ai-download-manager/Sophie_AI_download_manager/older/flask_part/flaskexample/views.py',\n",
       " 'Research/Hg/HgData_Processing/HgCellwithVaccum/266nmPumped/06-24-2015/107C/60uj-335-2.csv',\n",
       " 'Research/Hg/HgData_Processing/HgCellwithVaccum/248nmPumped/08-07-2015/229C/485nm-7.csv',\n",
       " 'Research/Hg/HgData_Processing/Hg-two-color-pump/matlab-code-data/SE_organize.m',\n",
       " 'CS/Git_hub_folders/DataScience_NanoDegree/supervised_learning/Diabetes Case Study.ipynb',\n",
       " 'Research/Hg/HgData_Processing/Hg-two-color-pump/10-17-2016/435-439nm1017/data_538.lvm',\n",
       " 'Research/Hg/HgData_Processing/Hg-two-color-pump/10-05-2016/410-411nm/data1_52.lvm',\n",
       " 'Research/Hg/HgData_Processing/HgCellwithVaccum/248nmPumped/08-06-2015/218C/335nm-5.csv',\n",
       " 'Research/Hg/HgData_Processing/Hg-two-color-pump/Hg_TwoColor_Data_before_Oct_2016/09-17-2016/09-17-2016/430-435/test_218.lvm',\n",
       " 'CS/Udacity/DS_Nanodegree/exercises/deep-learning-master/face_generation/problem_unittests.py',\n",
       " 'Research/Hg/HgData_Processing/Hg-two-color-pump/10-12-2016/part3-412nm-423nm/data_98.lvm',\n",
       " 'Research/Hg/HgData_Processing/Hg-two-color-pump/10-17-2016/435-439nm1017/data_380.lvm',\n",
       " 'Research/Hg/HgData_Processing/Hg-two-color-pump/10-16-2016/433-436nm/data_214.lvm',\n",
       " 'Research/Hg/HgData_Processing/Hg-two-color-pump/matlab-code-data/Suppresion_value_V3_4035_406nm.asv',\n",
       " 'Research/Hg/HgData_Processing/Hg-two-color-pump/10-15-2016/436/data_33.lvm',\n",
       " 'CS/Udacity/DS_Nanodegree/projects/p1_charityml/visuals.py',\n",
       " 'pictures/vocation/Crystal_lake_2016/IMG_5248.JPG',\n",
       " 'Research/YI/YI paper writing/Wendy_YI_writing/apstemplate.tex',\n",
       " 'Research/XeI/XeI_SpectralSimulations/XeI_FayeShen/XeI_Shen',\n",
       " 'Research/Hg/HgData_Processing/HgCellwithVaccum/248nmPumped/11-06-2015/218C/271-14.csv',\n",
       " 'Research/Hg/Hg-references/Hg_Dimer_states/CR1987Excited mercury complexes.pdf',\n",
       " 'Research/Hg/HgData_Processing/HgCellwithVaccum/248nmPumped/11-2015V2/237C/271-12.csv',\n",
       " 'Research/Hg/HgData_Processing/Hg-two-color-pump/Hg_TwoColor_Data_before_Oct_2016/09-17-2016/09-17-2016/430-435/test_366.lvm',\n",
       " 'Research/YI/YI Data/Jan 14/850c/blackbody',\n",
       " 'Research/Hg/HgData_Processing/HgCellwithVaccum/193nmPumped/IMAGE_112415133853.png',\n",
       " 'Research/Hg/HgData_Processing/Hg-two-color-pump/10-17-2016/435-439nm1017/data_262.lvm',\n",
       " 'Research/Hg/HgData_Processing/HgCellwithVaccum/248nmPumped/11-08-2015/284C/271-3.csv',\n",
       " 'Research/Hg/HgData_Processing/Hg-two-color-pump/Hg_TwoColor_Data_before_Oct_2016/09-17-2016/09-17-2016/430-435/test_282.lvm',\n",
       " 'Research/Hg/HgData_Processing/HgCellwithVaccum/266nmPumped/Hg lifetime measurement summary_266nm/old/Hg-lifetime-final.opj',\n",
       " 'Research/Hg/HgData_Processing/HgCellwithVaccum/266nmPumped/07-08-2015/237C/485nm-20uj-3.csv',\n",
       " 'Research/XeI/XeI_SpectralSimulations/XeI_FayeShen/XeI Work/BSomegaEM.OGG',\n",
       " 'Research/Hg/HgData_Processing/Hg-two-color-pump/10-15-2016/436/data_143.lvm',\n",
       " 'Research/Hg/HgData_Processing/Hg-two-color-pump/10-13-2016/420-430nm/data_17.lvm',\n",
       " 'pictures/image/doraemon.jpg',\n",
       " 'pictures/vocation/09-19-2016-Indianapolis-IN/IMG_5355.JPG',\n",
       " 'Research/XeI/reference_and_previous_work/KrF/Improved KrF(B) and KrF(X) state potentials.pdf',\n",
       " 'Research/Hg/HgData_Processing/Hg-two-color-pump/10-15-2016/436/data_432.lvm',\n",
       " 'Research/Hg/HgData_Processing/HgCellwithVaccum/248nmPumped/335EmissionBOthAt348C.png',\n",
       " 'CS/renter_eviction_project/eviction_analysis/data/unemployment/ACS_13_5YR_S2301_with_ann.csv',\n",
       " 'Research/Hg/HgData_Processing/Hg-two-color-pump/10-16-2016/433-436nm/data_600.lvm',\n",
       " 'Research/Hg/HgData_Processing/HgCellwithVaccum/248nmPumped/08-06-2015/204C/485nm-1.csv',\n",
       " 'Research/Hg/HgData_Processing/HgCellwithVaccum/248nmPumped/11-08-2015/284C/485-2.csv',\n",
       " 'Research/Hg/HgData_Processing/HgCellwithVaccum/266nmPumped/finaldata/327C',\n",
       " 'pictures/vocation/09-19-2016-Indianapolis-IN/IMG_5412.JPG',\n",
       " 'Research/YI/YI paper writing/Wendy_YI_writing/14000-peaks.png',\n",
       " 'pictures/vocation/Morocco_Sep2017/IMG_20170909_124954.jpg',\n",
       " 'Research/Hg/HgData_Processing/HgCellwithVaccum/248nmPumped/11-06-2015/229C/271-15.csv',\n",
       " 'videos/DS_Videos/Gaussian+Mixture+Models+and+Cluster+Validation+Subtitles/1 - MLND - Unsupervised Learning - L3 01 Gaussian Mixture Model MAINv1 V3 - lang_en.srt',\n",
       " 'Research/Hg/HgData_Processing/HgCellwithVaccum/248nmPumped/11-2015V2/218C/335-2.csv',\n",
       " 'Research/Hg/HgData_Processing/Hg-two-color-pump/10-16-2016/433-436nm/data_129.lvm',\n",
       " 'Research/Books/OCT/PS 1997 Laser spectroscopy of Hg2 excimers.pdf',\n",
       " 'Research/Hg/HgData_Processing/Hg-two-color-pump/10-17-2016/435-439nm1017/data_614.lvm',\n",
       " 'Research/XeI/XeI_SpectralSimulations/XeI_FayeShen/XeI Work/PF.OGG',\n",
       " 'CS/renter_eviction_project/eviction_analysis/data/unemployment/ACS_06_EST_S2301/ACS_06_EST_S2301_metadata.csv',\n",
       " 'Research/Hg/HgData_Processing/HgCellwithVaccum/248nmPumped/11-11-2015/284C/485-3.csv',\n",
       " 'Research/Hg/HgData_Processing/Hg-two-color-pump/10-16-2016/433-436nm/data_74.lvm',\n",
       " 'Research/Hg/HgData_Processing/Hg-two-color-pump/Hg_TwoColor_Data_before_Oct_2016/09-17-2016/09-17-2016/430-435/test_746.lvm']"
      ]
     },
     "execution_count": 187,
     "metadata": {},
     "output_type": "execute_result"
    }
   ],
   "source": [
    "random.sample(data,100)"
   ]
  },
  {
   "cell_type": "code",
   "execution_count": 4,
   "metadata": {},
   "outputs": [],
   "source": [
    "# file_names_txt = 'file-path-classifier-data.txt'\n",
    "# file = open(file_names_txt,'r') \n",
    "\n",
    "# data = file.read().split('\\n')"
   ]
  },
  {
   "cell_type": "code",
   "execution_count": 5,
   "metadata": {},
   "outputs": [],
   "source": [
    "data_split = list(map(lambda x: os.path.normpath(x).split(os.sep), data))\n",
    "data_drop_single = list(filter(lambda x: len(x)>1, data_split)) #change to len(x)>1 since solver needs >=2 classes!!!!\n",
    "\n",
    "# file name engineering\n",
    "file_name = list(map(lambda x: x[-1], data_drop_single))\n",
    "\n",
    "file_name_html = [html.unescape(x) for x in file_name]\n",
    "file_name_underscore = [x.lower().replace(\"_\", \" \") for x in file_name_html]\n",
    "file_name_word_split = [re.findall(r\"[\\w']+\", x) for x in file_name_underscore]\n",
    "ps = PorterStemmer()\n",
    "word_stemmed = [(ps.stem(y) for y in x) for x in file_name_word_split]\n",
    "\n",
    "word_stemmed_list = [list(x) for x in word_stemmed]\n",
    "file_name_final = [' '.join(x) for x in word_stemmed_list]        \n",
    "\n",
    "# file labels engineering\n",
    "file_labels = list(map(lambda x: x[:-1], data_drop_single))\n",
    "df_labels = pd.DataFrame(data = file_labels)\n",
    "df_paths = pd.DataFrame(data = df_labels[0])\n",
    "for i in range(1, df_labels.shape[1]):\n",
    "    df_paths[i] = df_labels[i]\n",
    "\n",
    "    df_paths.loc[pd.notna(df_labels[i]), i] = df_paths[i-1].map(str) + '/' + df_paths[i]\n",
    "    \n",
    "df_paths.replace('None', np.nan, inplace=True)\n",
    "df_paths[-1] = 'dummy'\n",
    "df_paths = df_paths.astype('category', copy = False)"
   ]
  },
  {
   "cell_type": "code",
   "execution_count": 6,
   "metadata": {},
   "outputs": [
    {
     "data": {
      "text/plain": [
       "['data_23.lvm',\n",
       " 'data1_58.lvm',\n",
       " 'data_367.lvm',\n",
       " '8_2g.angstrom.unscaled.csv',\n",
       " '485-5.csv',\n",
       " '298C',\n",
       " 'data_431.lvm',\n",
       " '485nm-4.csv',\n",
       " 'yag_laser_manual-continuum.pdf',\n",
       " 'charseq.jpeg',\n",
       " 'data_220.lvm',\n",
       " '335nm-200uj-2.csv',\n",
       " '335-4.csv',\n",
       " 'apstemplateNotes.bib',\n",
       " 'NRS 1994 Molecular beam spectroscopy of the  and  transitions in Hg2.pdf',\n",
       " 'test_1328.lvm',\n",
       " 'zn222.mat',\n",
       " 'IMAGE_011415113600.png',\n",
       " 'spectra17800.png',\n",
       " 'data_611.lvm']"
      ]
     },
     "execution_count": 6,
     "metadata": {},
     "output_type": "execute_result"
    }
   ],
   "source": [
    "random.sample(file_name,20)"
   ]
  },
  {
   "cell_type": "markdown",
   "metadata": {},
   "source": [
    "# file name engineering"
   ]
  },
  {
   "cell_type": "code",
   "execution_count": 180,
   "metadata": {},
   "outputs": [],
   "source": [
    "def file_name_processing(file_name):\n",
    "    \n",
    "\n",
    "    file_name_html = [html.unescape(x) for x in file_name]\n",
    "    print(file_name_html)\n",
    "    file_name_underscore = [x.lower().replace(\"_\", \" \") for x in file_name_html]\n",
    "    print(file_name_underscore)\n",
    "    file_name_word_split = [re.findall(r\"[\\w']+\", x) for x in file_name_underscore]\n",
    "    print(file_name_word_split)\n",
    "    ps = PorterStemmer()\n",
    "    word_stemmed = [(ps.stem(y) for y in x) for x in file_name_word_split]\n",
    "    word_stemmed_list = [list(x) for x in word_stemmed]\n",
    "    \n",
    "    print(word_stemmed_list)\n",
    "    file_name_final = [' '.join(x) for x in word_stemmed_list]    \n",
    "    print(file_name_final)\n",
    "    \n",
    "    count_vect = pickle.load(open('count_vect', 'rb'))\n",
    "\n",
    "    file_name_vect = count_vect.transform(file_name_final)\n",
    "    \n",
    "    print(file_name_vect)\n",
    "    \n",
    "#     print(count_vect.get_feature_names())\n",
    "#     print(count_vect.get_stop_words())"
   ]
  },
  {
   "cell_type": "code",
   "execution_count": 181,
   "metadata": {},
   "outputs": [
    {
     "name": "stdout",
     "output_type": "stream",
     "text": [
      "['CP 2006 Theoretical potential energy surfaces for excited mercury trimers.pdf']\n",
      "['cp 2006 theoretical potential energy surfaces for excited mercury trimers.pdf']\n",
      "[['cp', '2006', 'theoretical', 'potential', 'energy', 'surfaces', 'for', 'excited', 'mercury', 'trimers', 'pdf']]\n",
      "[['cp', '2006', 'theoret', 'potenti', 'energi', 'surfac', 'for', 'excit', 'mercuri', 'trimer', 'pdf']]\n",
      "['cp 2006 theoret potenti energi surfac for excit mercuri trimer pdf']\n",
      "  (0, 145)\t1\n",
      "  (0, 568)\t1\n",
      "  (0, 709)\t1\n",
      "  (0, 721)\t1\n",
      "  (0, 722)\t1\n",
      "  (0, 868)\t1\n",
      "  (0, 933)\t1\n",
      "  (0, 947)\t1\n",
      "  (0, 948)\t1\n",
      "  (0, 1042)\t1\n",
      "  (0, 1078)\t1\n"
     ]
    }
   ],
   "source": [
    "name_example=['CP 2006 Theoretical potential energy surfaces for excited mercury trimers.pdf']\n",
    "file_name_processing(name_example)"
   ]
  },
  {
   "cell_type": "code",
   "execution_count": 9,
   "metadata": {},
   "outputs": [
    {
     "name": "stdout",
     "output_type": "stream",
     "text": [
      "['JPD 2006 Optical emission studies of the mercury plasma generated by the fundamental, second and third harmonics of a Nd \\u2009YAG laser.pdf']\n",
      "['jpd 2006 optical emission studies of the mercury plasma generated by the fundamental, second and third harmonics of a nd \\u2009yag laser.pdf']\n",
      "[['jpd', '2006', 'optical', 'emission', 'studies', 'of', 'the', 'mercury', 'plasma', 'generated', 'by', 'the', 'fundamental', 'second', 'and', 'third', 'harmonics', 'of', 'a', 'nd', 'yag', 'laser', 'pdf']]\n",
      "[['jpd', '2006', 'optic', 'emiss', 'studi', 'of', 'the', 'mercuri', 'plasma', 'gener', 'by', 'the', 'fundament', 'second', 'and', 'third', 'harmon', 'of', 'a', 'nd', 'yag', 'laser', 'pdf']]\n",
      "['jpd 2006 optic emiss studi of the mercuri plasma gener by the fundament second and third harmon of a nd yag laser pdf']\n",
      "  (0, 145)\t1\n",
      "  (0, 705)\t1\n",
      "  (0, 746)\t1\n",
      "  (0, 751)\t1\n",
      "  (0, 838)\t1\n",
      "  (0, 868)\t1\n",
      "  (0, 913)\t1\n",
      "  (0, 933)\t1\n",
      "  (0, 1026)\t1\n",
      "  (0, 1136)\t1\n",
      "['00', '01', '02', '02 11', '03', '04', '05', '052703', '052703 mscan', '06', '07', '07 22', '08', '09', '0g', '0g angstrom', '0u', '10', '10 1g', '10 csv', '10 lvm', '10 png', '10 txt', '100', '100 lvm', '100n', '100n 200ccd', '100uj', '100uj 335', '100uj csv', '100um', '100um seq', '100x', '100x 100n', '101', '101 lvm', '1012', '102', '102 lvm', '103', '103 lvm', '104', '104 lvm', '105', '105 lvm', '106', '106 lvm', '107', '107c', '108', '108 lvm', '109', '109 lvm', '10uj', '10uj 485', '11', '11 csv', '11 lvm', '110', '110 lvm', '111', '112', '112 lvm', '114', '114 lvm', '115', '117', '118', '118 lvm', '119', '119 lvm', '12', '12 csv', '12 lvm', '120', '121', '121 lvm', '122', '122 lvm', '123', '123 lvm', '124', '124 lvm', '125', '126', '126 lvm', '129', '13', '13 csv', '13 lvm', '130', '135', '138c', '139', '14', '14 csv', '14 lvm', '140', '141', '143', '144', '148', '15', '15 csv', '15 lvm', '15 png', '152c', '16', '16 lvm', '165', '17', '17 lvm', '18', '18 lvm', '18 png', '182c', '183', '19', '19 lvm', '19 png', '190', '1900v', '196', '1961', '1961 pure', '1977', '1978', '1980', '1983', '1994', '1d', '1g', '1g angstrom', '1g csv', '1gb', '1gb angstrom', '1s', '1u', '1u csv', '1x', '1x 2s', '20', '20 jpg', '20 lvm', '200', '2006', '200ccd', '200ccd 100um', '200uj', '200uj csv', '2012', '2014', '2014 15', '2014 16', '2015', '2015 10', '2015 11', '2015 13', '2015 14', '2015 15', '2015 16', '2015 17', '2015 18', '2015 19', '2015 20', '2015 march', '2016', '2017', '20170909', '20170910', '20170911', '20170912', '20170913', '20170914', '20180113', '20180114', '204c', '205', '208', '20uj', '20uj 485', '20uj csv', '21', '21 lvm', '212', '218c', '22', '22 lvm', '229c', '22uj', '22uj csv', '23', '23 lvm', '237c', '24', '24 lvm', '2480', '248nm', '25', '25 lvm', '250', '250c', '26', '26 lvm', '266', '266c', '266nm', '27', '27 lvm', '271', '271 11', '271 12', '271 13', '271 14', '271 15', '271 csv', '28', '28 lvm', '284c', '29', '29 lvm', '2975', '2975 3025a', '2975 3060a', '2979', '2979 3025a', '2980', '2981', '2981 2983a', '2983a', '2983a time06', '298c', '298c lvm', '2d', '2d main', '2e', '2e dat', '2g', '2g angstrom', '2gb', '2gb angstrom', '2s', '2u', '2u csv', '30', '30 lvm', '300c', '3025a', '3025a time03', '3025a time04', '3025a time10', '3060a', '3060a time04', '309c', '30uj', '30uj 335', '31', '31 lvm', '319c', '32', '32 lvm', '320', '327c', '33', '33 lvm', '335', '335 22uj', '335 csv', '335nm', '335nm 200uj', '335nm 500uj', '335nm csv', '34', '34 lvm', '341c', '35', '35 lvm', '350c', '355', '355 csv', '36', '36 lvm', '37', '37 lvm', '37 mat', '38', '38 lvm', '380', '380 csv', '39', '39 lvm', '391c', '3yr', '3yr s2301', '40', '40 lvm', '400', '400c', '400c 485', '400torr', '400torr 733', '406', '406nm', '41', '41 lvm', '410', '410 411nm', '411nm', '412', '42', '42 lvm', '420', '43', '43 lvm', '430', '433', '433 436nm', '435', '436nm', '439', '44', '44 lvm', '4400', '4400 4650a', '45', '45 lvm', '46', '46 lvm', '4650a', '4650a time18', '47', '47 lvm', '48', '48 lvm', '48335nm', '48335nm 200uj', '485', '485 22uj', '485 csv', '485nm', '485nm 100uj', '485nm 200uj', '485nm 20uj', '485nm 50uj', '485nm csv', '49', '49 lvm', '50', '50 lvm', '500', '500c', '500c 335', '500c 485', '500uj', '500uj csv', '50uj', '50uj csv', '51', '51 lvm', '52', '52 lvm', '520', '520 csv', '53', '53 lvm', '54', '54 lvm', '549', '55', '55 lvm', '56', '56 lvm', '57', '57 lvm', '58', '58 lvm', '59', '59 lvm', '5s', '5s png', '5yr', '5yr b16010', '5yr s2301', '60', '60 lvm', '600', '600c', '60uj', '60uj 335', '61', '61 lvm', '62', '62 lvm', '63', '63 lvm', '64', '64 lvm', '65', '65 lvm', '650', '650 850', '66', '66 lvm', '67', '67 lvm', '675', '68', '68 lvm', '69', '69 lvm', '70', '70 lvm', '700c', '700n', '71', '71 lvm', '72', '72 lvm', '7200', '7200 7300a', '720p', '720p hdtv', '73', '73 lvm', '7300a', '7300a time10', '733', '733 771', '74', '74 lvm', '75', '75 lvm', '758', '76', '76 lvm', '7600', '77', '77 lvm', '771', '771 avepoint', '771 baselin', '78', '78 lvm', '7800a', '79', '79 lvm', '797', '80', '80 lvm', '800c', '81', '81 lvm', '82', '82 lvm', '823', '83', '83 lvm', '84', '84 lvm', '85', '85 lvm', '850', '86', '86 lvm', '867', '87', '87 lvm', '88', '88 lvm', '89', '89 lvm', '90', '90 lvm', '900c', '91', '91 lvm', '92', '92 lvm', '93', '93 lvm', '94', '94 lvm', '95', '95 lvm', '96', '96 lvm', '97', '97 lvm', '98', '98 lvm', '99', '99 lvm', 'ab', 'absorpt', 'abstract', 'abstract wendi', 'ac', 'aff', 'aff download', 'algorithm', 'analysi', 'angstrom', 'angstrom csv', 'angstrom dat', 'angstrom unscal', 'ann', 'ann csv', 'ann txt', 'api', 'appli', 'appli physic', 'applic', 'applic main', 'argon', 'asset', 'asv', 'atom', 'autoencod', 'aux', 'avepoint', 'avepoint dat', 'b16010', 'background', 'bak', 'band', 'baselin', 'baselin dat', 'batch', 'bbl', 'bib', 'bin', 'blg', 'blue', 'bmp', 'book', 'bootstrap', 'bound', 'bound free', 'bound wvfn', 'br', 'br srt', 'calcul', 'cali', 'cd', 'ch', 'ch pdf', 'chapter', 'china', 'classif', 'classifi', 'cluster', 'cluster valid', 'cn', 'cn srt', 'code', 'collis', 'collision', 'color', 'compar', 'comparison', 'concerto', 'constant', 'contour', 'cooley', 'copi', 'counti', 'cover', 'cover jpg', 'cp', 'cpl', 'crime', 'crime counti', 'css', 'csv', 'curv', 'dark', 'dark png', 'dat', 'data', 'data 10', 'data 100', 'data 101', 'data 11', 'data 12', 'data 13', 'data 14', 'data 15', 'data 16', 'data 17', 'data 18', 'data 19', 'data 20', 'data 21', 'data 22', 'data 23', 'data 24', 'data 25', 'data 26', 'data 27', 'data 28', 'data 29', 'data 30', 'data 31', 'data 32', 'data 33', 'data 34', 'data 35', 'data 36', 'data 37', 'data 38', 'data 39', 'data 40', 'data 41', 'data 42', 'data 43', 'data 44', 'data 45', 'data 46', 'data 47', 'data 48', 'data 49', 'data 50', 'data 51', 'data 52', 'data 53', 'data 54', 'data 55', 'data 56', 'data 57', 'data 58', 'data 59', 'data 60', 'data 61', 'data 62', 'data 63', 'data 64', 'data 65', 'data 66', 'data 67', 'data 68', 'data 69', 'data 70', 'data 71', 'data 72', 'data 73', 'data 74', 'data 75', 'data 76', 'data 77', 'data 78', 'data 79', 'data 80', 'data 81', 'data 82', 'data 83', 'data 84', 'data 85', 'data 86', 'data 87', 'data 88', 'data 89', 'data 90', 'data 91', 'data 92', 'data 93', 'data 94', 'data 95', 'data 96', 'data 97', 'data 98', 'data 99', 'data csv', 'data lvm', 'data1', 'data1 lvm', 'datavi', 'dbscan', 'dec', 'dec 2014', 'decay', 'decay rate', 'decayr', 'delay', 'descent', 'diatom', 'diff', 'differ', 'diffet', 'diffet 298c', 'difft', 'dig', 'digitizeit', 'dimension', 'dimer', 'dimer pdf', 'distribut', 'dl', 'docx', 'download', 'download readm', 'dye', 'effect', 'electron', 'electron structur', 'element', 'emiss', 'en', 'en srt', 'en vs1', 'energi', 'energi curv', 'energymet', 'energymet lvm', 'ep', 'equat', 'est', 'est s2301', 'evict', 'exampl', 'excim', 'excim pdf', 'excit', 'excit mercuri', 'excit state', 'exercis', 'exercis ipynb', 'exp', 'expect', 'expect maxim', 'featur', 'featur scale', 'featur tabl', 'feb', 'feb 2015', 'fig', 'file', 'filter', 'final', 'fine', 'fine scan', 'fit', 'fit png', 'fluoresc', 'free', 'free wvfn', 'function', 'fundament', 'ga', 'gaussian', 'gaussian distribut', 'gaussian mixtur', 'gener', 'gif', 'glue', 'glue csv', 'gmm', 'gmm cluster', 'gothic', 'gradient', 'gradient descent', 'graph', 'grid', 'ground', 'ground state', 'gz', 'halid', 'hdtv', 'hdtv x264', 'height', 'helper', 'helper py', 'hene', 'hene 1x', 'hg', 'hg lifetim', 'hg trimer', 'hg2', 'hg2 pdf', 'hg3', 'hgcl', 'hgtrimer', 'hgwendi', 'hgwendi rate', 'hierarch', 'high', 'high resolut', 'htm', 'html', 'ica', 'imag', 'img', 'img 20170909', 'img 20170910', 'img 20170911', 'img 20170912', 'img 20170913', 'img 20170914', 'img 20180113', 'img 20180114', 'implement', 'index', 'induc', 'induc fluoresc', 'infer', 'interpret', 'intro', 'introduct', 'ipynb', 'ism', 'iter', 'jan', 'jan 2015', 'jcp', 'jcp 1977', 'jm', 'jone', 'jonin', 'jonin potenti', 'jonin0g', 'jonin0u', 'jpeg', 'jpg', 'js', 'kmean', 'krf', 'l2', 'l3', 'l3 gaussian', 'l5', 'l6', 'lab', 'lab ipynb', 'label', 'lang', 'lang en', 'lang pt', 'lang zh', 'larg', 'laser', 'laser induc', 'laser spectroscopi', 'lds821', 'lds867', 'learn', 'learn l2', 'learn l3', 'lifetim', 'lifetim png', 'line', 'linear', 'linearsweep', 'link', 'local', 'log', 'low', 'lvm', 'main', 'main v1', 'main v2', 'mainv1', 'mainv1 v1', 'map', 'march', 'march 02', 'mat', 'maxim', 'md', 'measur', 'mercuri', 'mercuri dimer', 'mercuri molecul', 'mercuri vapor', 'metadata', 'metadata csv', 'metadatastor', 'metadatastor bin', 'metal', 'method', 'method pdf', 'metric', 'mex', 'min', 'minor', 'mixtur', 'mixtur model', 'mlnd', 'mlnd unsupervis', 'mn', 'mn mat', 'model', 'molecul', 'molecul pdf', 'molecular', 'moment', 'mp3', 'mp4', 'mscan', 'mscan 400torr', 'nc', 'nc mex', 'network', 'neural', 'neural network', 'new', 'nm', 'nobl', 'numerov', 'numerov cooley', 'observ', 'ogg', 'old', 'old 2u', 'opj', 'optic', 'optim', 'organ', 'origin', 'oum', 'oum csv', 'oup', 'oup csv', 'output', 'output 15', 'output 18', 'output 19', 'output png', 'page', 'paper', 'part2', 'partial', 'path', 'pbm', 'pca', 'pdf', 'peak', 'peak png', 'perceptron', 'photoassoci', 'physic', 'physic pdf', 'physreva', 'plot', 'plt', 'pmt', 'png', 'posit', 'poster', 'potenti', 'potenti energi', 'potenti partial', 'pptx', 'predict', 'pressur', 'previou', 'process', 'project', 'properti', 'pstex', 'pt', 'pt br', 'pump', 'pure', 'pure appli', 'py', 'pytorch', 'qd', 'qd yag', 'quantum', 'random', 'rang', 'rare', 'rare ga', 'rate', 'rate png', 'readm', 'readm ann', 'readm md', 'regress', 'relax', 'renter', 'renter evict', 'report', 'requir', 'requir txt', 'resolut', 'resolut spectroscopi', 'result', 'rotat', 'rs', 's1', 's2301', 's2301 ann', 's2301 metadata', 's2301 txt', 's2301 zip', 's4', 's4 yag', 'scale', 'scan', 'scan png', 'sentiment', 'seq', 'seq csv', 'setup', 'shen', 'sim', 'simparam', 'simparam mat', 'simul', 'simul spectra', 'smsspamcollect', 'solut', 'solut ipynb', 'spectra', 'spectra 549', 'spectroscop', 'spectroscopi', 'spectroscopi pdf', 'spectrum', 'spreadsheet', 'srt', 'state', 'state hg2', 'state pdf', 'statist', 'structur', 'studi', 'summari', 'suppres', 'suppres dat', 'suppres valu', 'suppress', 'suppress spectra', 'sweep', 'synctex', 'synctex gz', 'tabl', 'tabl bin', 'temperatur', 'test', 'test1', 'tex', 'theoret', 'theori', 'thesi', 'time', 'time02', 'time03', 'time03 feb', 'time04', 'time04 dec', 'time04 feb', 'time06', 'time06 feb', 'time10', 'time10 dec', 'time10 feb', 'time11', 'time11 dec', 'time12', 'time13', 'time13 jan', 'time17', 'time17 feb', 'time18', 'time18 jan', 'time20', 'time20 dec', 'time28', 'time28 jan', 'time30', 'time30 jan', 'tlog', 'train', 'transit', 'transit moment', 'trigger', 'trigger pmt', 'trimer', 'tt79', 'tune', 'txt', 'udac', 'unemploy', 'unit', 'unscal', 'unscal csv', 'unsupervis', 'unsupervis learn', 'use', 'v1', 'v1 lang', 'v1 mp4', 'v1 v1', 'v1 v2', 'v2', 'v2 lang', 'v2 mp4', 'v3', 'v3 mp4', 'valid', 'valu', 'valu v3', 'vapor', 'vapor pressur', 'vapour', 'vibrat', 'video', 'vs', 'vs1', 'vs1 srt', 'waveform', 'wendi', 'wendyv2', 'wild', 'wild china', 'withbaselin', 'withbaselin avepoint', 'work', 'wref', 'write', 'wvfm', 'wvfm 335nm', 'wvfn', 'wvfn mat', 'wvfn nc', 'wvfn wendi', 'x264', 'x264 gothic', 'xe', 'xe 052703', 'xei', 'xei shen', 'xei wendi', 'xl', 'xlsx', 'yag', 'yag 100x', 'yag linearsweep', 'yag sweep', 'yi', 'yi3', 'yi3 2480', 'yi3 2975', 'yi3 2979', 'yi3 2980', 'yi3 2981', 'yi3 4400', 'yi3 7200', 'yi3 7600', 'yttrium', 'zh', 'zh cn', 'zip', 'zn']\n",
      "frozenset({'down', 'ltd', 'seemed', 'whence', 'serious', 'something', 'for', 'thus', 'rather', 'being', 'must', 'hereupon', 'although', 'besides', 'sometime', 'sometimes', 'six', 'anywhere', 'bill', 'whoever', 'them', 'amount', 'too', 'might', 'this', 'along', 'indeed', 'towards', 'whose', 'is', 'it', 'may', 'within', 'latterly', 'formerly', 'never', 'whither', 'less', 'ie', 'eleven', 'else', 'seeming', 'hereafter', 'three', 'we', 'move', 'who', 'our', 'almost', 'done', 'hasnt', 'across', 'back', 'however', 'beside', 'sixty', 'without', 'which', 'though', 'own', 'third', 'etc', 'empty', 'have', 'namely', 'seem', 'myself', 'toward', 'whereby', 'first', 'into', 'from', 'through', 'give', 'will', 'co', 'anyway', 'there', 'cannot', 'ever', 'via', 'whatever', 'herein', 'i', 'part', 'whether', 'inc', 'found', 'few', 'yours', 'with', 'elsewhere', 'over', 'are', 'de', 'describe', 'hereby', 'my', 'fifty', 'couldnt', 'together', 'please', 'take', 'otherwise', 'find', 'get', 'can', 'wherein', 'mill', 'due', 'thereafter', 'here', 'forty', 'then', 'moreover', 'several', 'during', 'should', 'other', 'these', 'has', 'latter', 'two', 'bottom', 'herself', 'somewhere', 'those', 'nor', 'afterwards', 'behind', 'he', 'am', 'nothing', 'to', 'five', 'show', 'an', 'his', 'would', 'perhaps', 'beyond', 'thin', 'con', 'per', 'yourself', 'therein', 'ours', 'became', 'everyone', 'up', 'do', 'of', 'only', 'such', 'thence', 'off', 'was', 'alone', 'mine', 'be', 'a', 'everything', 'whereas', 'enough', 'against', 'whom', 'neither', 'between', 'that', 'full', 'above', 'anything', 'before', 'cant', 'go', 'nine', 'himself', 'one', 'somehow', 'had', 'beforehand', 'becoming', 'fifteen', 'fill', 'on', 'out', 'twelve', 'while', 'ourselves', 'others', 'eg', 'as', 'its', 'none', 'among', 'itself', 'much', 'meanwhile', 'seems', 'since', 'their', 'thick', 'until', 'under', 'not', 'what', 'been', 'whenever', 'anyhow', 'detail', 'made', 'system', 'the', 'four', 'even', 'many', 'side', 'so', 'well', 'any', 'noone', 'themselves', 'twenty', 'every', 'why', 'no', 'some', 'whole', 're', 'than', 'all', 'whereafter', 'each', 'eight', 'hence', 'when', 'whereupon', 'hers', 'interest', 'top', 'now', 'yourselves', 'un', 'most', 'thereby', 'nevertheless', 'least', 'after', 'therefore', 'below', 'onto', 'cry', 'thru', 'former', 'at', 'wherever', 'last', 'about', 'anyone', 'around', 'if', 'but', 'becomes', 'fire', 'front', 'in', 'another', 'mostly', 'once', 'still', 'and', 'because', 'upon', 'next', 'again', 'were', 'your', 'her', 'amoungst', 'keep', 'someone', 'or', 'nobody', 'become', 'put', 'nowhere', 'they', 'either', 'us', 'very', 'amongst', 'always', 'also', 'call', 'see', 'yet', 'you', 'could', 'already', 'by', 'more', 'same', 'thereupon', 'throughout', 'sincere', 'everywhere', 'except', 'often', 'name', 'hundred', 'where', 'ten', 'how', 'she', 'both', 'further', 'me', 'him'})\n"
     ]
    }
   ],
   "source": [
    "name_example=['JPD 2006 Optical emission studies of the mercury plasma generated by the fundamental, second and third harmonics of a Nd  YAG laser.pdf']\n",
    "\n",
    "file_name_processing(name_example)"
   ]
  },
  {
   "cell_type": "code",
   "execution_count": null,
   "metadata": {},
   "outputs": [],
   "source": []
  },
  {
   "cell_type": "code",
   "execution_count": 10,
   "metadata": {
    "scrolled": false
   },
   "outputs": [
    {
     "data": {
      "image/png": "[encoded data removed]",
      "text/plain": [
       "<Figure size 576x432 with 1 Axes>"
      ]
     },
     "metadata": {
      "needs_background": "light"
     },
     "output_type": "display_data"
    }
   ],
   "source": [
    "import matplotlib.pyplot as plt\n",
    "fig = plt.figure(figsize=(8,6))\n",
    "df_paths[0].value_counts().plot.bar(ylim=0)\n",
    "plt.tick_params(which='major', labelsize=20)\n",
    "plt.show()"
   ]
  },
  {
   "cell_type": "code",
   "execution_count": 11,
   "metadata": {
    "scrolled": false
   },
   "outputs": [
    {
     "data": {
      "image/png": "[encoded data removed]",
      "text/plain": [
       "<Figure size 576x432 with 1 Axes>"
      ]
     },
     "metadata": {
      "needs_background": "light"
     },
     "output_type": "display_data"
    }
   ],
   "source": [
    "fig = plt.figure(figsize=(8,6))\n",
    "df_paths.loc[:,1].value_counts().plot.bar(ylim=0)\n",
    "plt.tick_params(which='major', labelsize=20)\n",
    "plt.show()"
   ]
  },
  {
   "cell_type": "code",
   "execution_count": null,
   "metadata": {},
   "outputs": [],
   "source": []
  },
  {
   "cell_type": "code",
   "execution_count": null,
   "metadata": {},
   "outputs": [],
   "source": []
  },
  {
   "cell_type": "code",
   "execution_count": null,
   "metadata": {},
   "outputs": [],
   "source": []
  },
  {
   "cell_type": "code",
   "execution_count": 35,
   "metadata": {},
   "outputs": [
    {
     "data": {
      "text/plain": [
       "Research    13632\n",
       "CS           1262\n",
       "pictures     1150\n",
       "videos        307\n",
       "music          51\n",
       "Name: 0, dtype: int64"
      ]
     },
     "execution_count": 35,
     "metadata": {},
     "output_type": "execute_result"
    }
   ],
   "source": [
    "df_paths[0].value_counts()\n"
   ]
  },
  {
   "cell_type": "code",
   "execution_count": 36,
   "metadata": {},
   "outputs": [
    {
     "data": {
      "text/plain": [
       "pandas.core.series.Series"
      ]
     },
     "execution_count": 36,
     "metadata": {},
     "output_type": "execute_result"
    }
   ],
   "source": [
    "type(_)"
   ]
  },
  {
   "cell_type": "code",
   "execution_count": 47,
   "metadata": {},
   "outputs": [
    {
     "data": {
      "text/plain": [
       "array([<matplotlib.axes._subplots.AxesSubplot object at 0x119919358>],\n",
       "      dtype=object)"
      ]
     },
     "execution_count": 47,
     "metadata": {},
     "output_type": "execute_result"
    },
    {
     "data": {
      "image/png": "[encoded data removed]",
      "text/plain": [
       "<Figure size 432x288 with 1 Axes>"
      ]
     },
     "metadata": {},
     "output_type": "display_data"
    }
   ],
   "source": [
    "df_1_level = pd.DataFrame(data = df_paths[0].value_counts())\n",
    "\n",
    "df_1_level.apply(pd.value_counts).plot(kind='pie', subplots=True)"
   ]
  },
  {
   "cell_type": "code",
   "execution_count": 49,
   "metadata": {},
   "outputs": [
    {
     "data": {
      "text/plain": [
       "[13632, 1262, 1150, 307, 51]"
      ]
     },
     "execution_count": 49,
     "metadata": {},
     "output_type": "execute_result"
    }
   ],
   "source": [
    "df_paths[0].value_counts().tolist()"
   ]
  },
  {
   "cell_type": "code",
   "execution_count": 52,
   "metadata": {},
   "outputs": [
    {
     "data": {
      "text/plain": [
       "CategoricalIndex(['Research', 'CS', 'pictures', 'videos', 'music'], categories=['CS', 'Research', 'music', 'pictures', 'videos'], ordered=False, dtype='category')"
      ]
     },
     "execution_count": 52,
     "metadata": {},
     "output_type": "execute_result"
    }
   ],
   "source": [
    "df_paths[0].value_counts().index"
   ]
  },
  {
   "cell_type": "markdown",
   "metadata": {},
   "source": [
    "# Pie Chart"
   ]
  },
  {
   "cell_type": "code",
   "execution_count": 60,
   "metadata": {},
   "outputs": [
    {
     "data": {
      "image/png": "[encoded data removed]",
      "text/plain": [
       "<Figure size 576x576 with 1 Axes>"
      ]
     },
     "metadata": {},
     "output_type": "display_data"
    }
   ],
   "source": [
    "import matplotlib.pyplot as plt\n",
    " \n",
    "# Data to plot\n",
    "labels = 'Research', 'CS', 'pictures', 'videos', 'music'\n",
    "sizes = [13632, 1262, 1150, 307, 51]\n",
    "colors = ['lightskyblue', 'yellowgreen', 'lightcoral', 'gold']\n",
    "explode = (0.1, 0, 0, 0,0)  # explode 1st slice\n",
    " \n",
    "# Plot\n",
    "fig = plt.figure(figsize=(8,8))\n",
    "plt.pie(sizes, explode=explode, labels=labels, colors=colors,\n",
    "        autopct='%1.1f%%', shadow=True, startangle=90)\n",
    " \n",
    "plt.axis('equal')\n",
    "\n",
    "plt.show()"
   ]
  },
  {
   "cell_type": "markdown",
   "metadata": {},
   "source": [
    "# Train the model"
   ]
  },
  {
   "cell_type": "code",
   "execution_count": 12,
   "metadata": {},
   "outputs": [],
   "source": [
    "def Hierarchical_train(file_name_final, df_paths):\n",
    "    \n",
    "    count_vect = CountVectorizer(min_df=8, encoding='latin-1', \\\n",
    "                    ngram_range=(1, 2), stop_words='english')\n",
    "\n",
    "    X_train_counts = count_vect.fit_transform(file_name_final)\n",
    "    features = X_train_counts.toarray()\n",
    "    \n",
    "# works better without tf-idf\n",
    "#     tfidf_transformer = TfidfTransformer(norm='l2', use_idf=True, smooth_idf=True, sublinear_tf=True)\n",
    "\n",
    "#     X_train_tfidf = tfidf_transformer.fit_transform(X_train_counts)\n",
    "\n",
    "#     features = X_train_tfidf.toarray()\n",
    "\n",
    "\n",
    "    depth = df_paths.shape[1]\n",
    "    folder_each_level = [df_paths[x].cat.categories.tolist() for x in range(-1,df_paths.shape[1]-1)]\n",
    "\n",
    "\n",
    "\n",
    "    clf = [[LogisticRegression(random_state = 0) for _ in range(len(folder_each_level[x]))] \\\n",
    "           for x in range(len(folder_each_level))]\n",
    "\n",
    "    for i in range(len(folder_each_level)-1):\n",
    "        for j in range(len(folder_each_level[i])):\n",
    "\n",
    "            # input control\n",
    "            ind = ((df_paths[i-1] == folder_each_level[i][j]) & (df_paths[i].notna())) # remove NAN paths at the same time          \n",
    "\n",
    "            # category / labels control: next col of df_paths\n",
    "            features_level = features[ind] # just pick the corresponding entries\n",
    "            labels_level = np.asarray(df_paths[i][ind], dtype=\"str\")\n",
    "            \n",
    "            if len(np.unique(labels_level)) > 1 and len(labels_level)>5:\n",
    "                clf[i][j] = LogisticRegression(random_state = 0)\n",
    "                clf[i][j].fit(features_level, labels_level)\n",
    "    \n",
    "    pickle.dump(clf, open('clf_folder_picker', 'wb'))\n",
    "    pickle.dump(count_vect, open('count_vect', 'wb'))\n",
    "    pickle.dump(folder_each_level, open('folder_each_level', 'wb'))\n"
   ]
  },
  {
   "cell_type": "code",
   "execution_count": null,
   "metadata": {},
   "outputs": [],
   "source": []
  },
  {
   "cell_type": "code",
   "execution_count": null,
   "metadata": {},
   "outputs": [],
   "source": []
  },
  {
   "cell_type": "code",
   "execution_count": null,
   "metadata": {},
   "outputs": [],
   "source": [
    "\n"
   ]
  },
  {
   "cell_type": "markdown",
   "metadata": {},
   "source": [
    "# Predict"
   ]
  },
  {
   "cell_type": "code",
   "execution_count": 13,
   "metadata": {},
   "outputs": [],
   "source": [
    "def Hierarchical_predict(file_names_input, prob_threshold):\n",
    "    # file_names_input should be an array\n",
    "#     clf = clf\n",
    "#     count_vect = count_vect\n",
    "    \n",
    "    prob_threshold = prob_threshold\n",
    "    \n",
    "    \n",
    "    clf = pickle.load(open('clf_folder_picker', 'rb'))\n",
    "    \n",
    "    \n",
    "    count_vect = pickle.load(open('count_vect', 'rb'))\n",
    "    folder_each_level = pickle.load(open('folder_each_level', 'rb'))\n",
    "    \n",
    "    \n",
    "    file_name_html = [html.unescape(x) for x in file_names_input]\n",
    "    file_name_underscore = [x.lower().replace(\"_\", \" \") for x in file_name_html]\n",
    "    file_name_word_split = [re.findall(r\"[\\w']+\", x) for x in file_name_underscore]\n",
    "    ps = PorterStemmer()\n",
    "    word_stemmed = [(ps.stem(y) for y in x) for x in file_name_word_split]\n",
    "\n",
    "    word_stemmed_list = [list(x) for x in word_stemmed]\n",
    "    file_name_final = [' '.join(x) for x in word_stemmed_list]   \n",
    "    \n",
    "    \n",
    "    \n",
    "\n",
    "    preds = []\n",
    "    for file_name_input in file_name_final:\n",
    "        \n",
    "        vect_name = count_vect.transform([file_name_input])\n",
    "        y_pred =  ['' for _ in range(len(folder_each_level)-1)]\n",
    "        prob = [0 for _ in range(len(folder_each_level)-1)]\n",
    "        prob_total = 1\n",
    "\n",
    "        current_folder = 'dummy'\n",
    "        for i in range(len(folder_each_level)-1):\n",
    "            for j in range(len(folder_each_level[i])):\n",
    "#                 print(i,j)\n",
    "\n",
    "                if current_folder != folder_each_level[i][j]: #make sure it is the right subfolder\n",
    "                    continue\n",
    "\n",
    "#                 print('folder_each_level:',folder_each_level[i][j])\n",
    "#                 print('current_folder:', current_folder)\n",
    "\n",
    "                try:\n",
    "                    clf[i][j].predict(vect_name)\n",
    "                except NotFittedError as e:\n",
    "                    #print('error')\n",
    "                    break\n",
    "                    \n",
    "                y_pred[i] = clf[i][j].predict(vect_name)[0]\n",
    "                current_folder = y_pred[i]\n",
    "                prob[i] = np.max(clf[i][j].predict_proba(vect_name))\n",
    "                prob_total *= prob[i]\n",
    "\n",
    "#                     print(y_pred[i], prob[i], prob_total,'\\n')\n",
    "\n",
    "\n",
    "    \n",
    "            if prob_total < prob_threshold or y_pred[i] == '':\n",
    "                break\n",
    "       \n",
    "        # if i > 0 and back up a level if prob_total < prob_threshold:\n",
    "        if (i > 0) and ((prob_total < prob_threshold) or (y_pred[i] == '')):\n",
    "            pred_folder = y_pred[i-1] \n",
    "            level = i\n",
    "        else:\n",
    "            pred_folder = y_pred[i]\n",
    "            level = i+1\n",
    "        \n",
    "        # when there is no pretrained clf available at this level\n",
    "        if pred_folder == '':\n",
    "            #print(i, j, current_folder,'\\n', y_pred[i-2], y_pred[i-1])\n",
    "            pred_folder = current_folder\n",
    "        preds.append((pred_folder, level))\n",
    "        \n",
    "        \n",
    "    return preds\n",
    "    "
   ]
  },
  {
   "cell_type": "code",
   "execution_count": 14,
   "metadata": {},
   "outputs": [],
   "source": [
    "def Hierarchical_predict_non_accum(file_names_input, prob_threshold):\n",
    "    # file_names_input should be an array\n",
    "#     clf = clf\n",
    "#     count_vect = count_vect\n",
    "    \n",
    "    prob_threshold = prob_threshold\n",
    "    \n",
    "    \n",
    "    clf = pickle.load(open('clf_folder_picker', 'rb'))\n",
    "    \n",
    "    \n",
    "    count_vect = pickle.load(open('count_vect', 'rb'))\n",
    "    folder_each_level = pickle.load(open('folder_each_level', 'rb'))\n",
    "    \n",
    "    \n",
    "    file_name_html = [html.unescape(x) for x in file_names_input]\n",
    "    file_name_underscore = [x.lower().replace(\"_\", \" \") for x in file_name_html]\n",
    "    file_name_word_split = [re.findall(r\"[\\w']+\", x) for x in file_name_underscore]\n",
    "    ps = PorterStemmer()\n",
    "    word_stemmed = [(ps.stem(y) for y in x) for x in file_name_word_split]\n",
    "\n",
    "    word_stemmed_list = [list(x) for x in word_stemmed]\n",
    "    file_name_final = [' '.join(x) for x in word_stemmed_list]   \n",
    "    \n",
    "    \n",
    "    \n",
    "\n",
    "    preds = []\n",
    "    for file_name_input in file_name_final:\n",
    "        \n",
    "        vect_name = count_vect.transform([file_name_input])\n",
    "        y_pred =  ['' for _ in range(len(folder_each_level)-1)]\n",
    "        prob = [0 for _ in range(len(folder_each_level)-1)]\n",
    "        prob_total = 1\n",
    "\n",
    "        current_folder = 'dummy'\n",
    "        for i in range(len(folder_each_level)-1):\n",
    "            for j in range(len(folder_each_level[i])):\n",
    "#                 print(i,j)\n",
    "\n",
    "                if current_folder != folder_each_level[i][j]: #make sure it is the right subfolder\n",
    "                    continue\n",
    "\n",
    "#                 print('folder_each_level:',folder_each_level[i][j])\n",
    "#                 print('current_folder:', current_folder)\n",
    "\n",
    "                try:\n",
    "                    clf[i][j].predict(vect_name)\n",
    "                except NotFittedError as e:\n",
    "                    #print('error')\n",
    "                    break\n",
    "                    \n",
    "                y_pred[i] = clf[i][j].predict(vect_name)[0]\n",
    "                current_folder = y_pred[i]\n",
    "                prob[i] = np.max(clf[i][j].predict_proba(vect_name))\n",
    "                \n",
    "                #change prob_total to prob[i] for non accumulated version!!!!!!!\n",
    "                prob_total = prob[i]\n",
    "\n",
    "#                     print(y_pred[i], prob[i], prob_total,'\\n')\n",
    "\n",
    "\n",
    "    \n",
    "            if prob_total < prob_threshold or y_pred[i] == '':\n",
    "                break\n",
    "       \n",
    "        # if i > 0 and back up a level if prob_total < prob_threshold:\n",
    "        if (i > 0) and ((prob_total < prob_threshold) or (y_pred[i] == '')):\n",
    "            pred_folder = y_pred[i-1] \n",
    "            level = i\n",
    "        else:\n",
    "            pred_folder = y_pred[i]\n",
    "            level = i+1\n",
    "        \n",
    "        # when there is no pretrained clf available at this level\n",
    "        if pred_folder == '':\n",
    "            #print(i, j, current_folder,'\\n', y_pred[i-2], y_pred[i-1])\n",
    "            pred_folder = current_folder\n",
    "        preds.append((pred_folder, level))\n",
    "        \n",
    "        \n",
    "    return preds\n",
    "    "
   ]
  },
  {
   "cell_type": "code",
   "execution_count": 15,
   "metadata": {},
   "outputs": [
    {
     "data": {
      "text/plain": [
       "10"
      ]
     },
     "execution_count": 15,
     "metadata": {},
     "output_type": "execute_result"
    }
   ],
   "source": [
    "df_paths.shape[1]"
   ]
  },
  {
   "cell_type": "markdown",
   "metadata": {},
   "source": [
    "# Evaluation\n",
    "\n",
    "\n",
    "## same path, not necessarily same folder"
   ]
  },
  {
   "cell_type": "code",
   "execution_count": 16,
   "metadata": {
    "scrolled": false
   },
   "outputs": [],
   "source": [
    "from collections import defaultdict\n",
    "\n",
    "def Hierarchical_auc(pred_folder, df_paths):\n",
    "    count_total = len(pred_folder)\n",
    "    count_right_path = 0\n",
    "    count_right_level = 0\n",
    "    #count_close_level = 0\n",
    "    \n",
    "    level_diff_max = df_paths.shape[1] - 1\n",
    "    count_diff = [0 for _ in range(level_diff_max)]\n",
    "    \n",
    "    file_folder_labels = pd.DataFrame(data = df_paths.count(axis=1)-1, columns=['level'])\n",
    "    file_folder_labels['labels'] = [set(df_paths.iloc[x,:]) for x in range(df_paths.shape[0])]\n",
    "\n",
    "    d = defaultdict(int)\n",
    "\n",
    "    for i in range(count_total):\n",
    "        if pred_folder[i][0] in file_folder_labels.iloc[i, 1]:\n",
    "            count_right_path +=1\n",
    "            d[pred_folder[i][1]] += 1\n",
    "            \n",
    "            if pred_folder[i][1] == file_folder_labels.iloc[i, 0]:\n",
    "                count_right_level +=1\n",
    "                \n",
    "            for j in range(level_diff_max):\n",
    "                if j == 0 :\n",
    "                    if pred_folder[i][1] == file_folder_labels.iloc[i, 0]:\n",
    "                        count_diff[j] +=1\n",
    "                else:\n",
    "                    if pred_folder[i][1] == file_folder_labels.iloc[i, 0]-j:# \\or pred_folder[i][1] == file_folder_labels.iloc[i, 0]+j:\n",
    "                        count_diff[j] +=1\n",
    "                \n",
    "            \n",
    "            \n",
    "                \n",
    "\n",
    "\n",
    "    b = defaultdict(int)\n",
    "    for i in d.keys():\n",
    "        b[i] = round(d[i]/count_total,3)\n",
    "    print(b.items())\n",
    "    \n",
    "    count_list = [count_right_path/count_total, count_right_level/count_total]\n",
    "    count_ratio = [round(x,3) for x in count_list]\n",
    "    print('Ratio of count_right_path', 'Ratio of count_right_level', count_ratio)\n",
    "\n",
    "    \n",
    "    print('\\n',[round(x/count_total,3) for x in count_diff])\n",
    "#     return b.items()\n",
    "    "
   ]
  },
  {
   "cell_type": "code",
   "execution_count": 17,
   "metadata": {},
   "outputs": [
    {
     "data": {
      "text/plain": [
       "(16402, 10)"
      ]
     },
     "execution_count": 17,
     "metadata": {},
     "output_type": "execute_result"
    }
   ],
   "source": [
    "df_paths.shape"
   ]
  },
  {
   "cell_type": "markdown",
   "metadata": {},
   "source": [
    "## train split data, vectorize features"
   ]
  },
  {
   "cell_type": "code",
   "execution_count": 18,
   "metadata": {},
   "outputs": [],
   "source": [
    "X_train, X_test, y_train, y_test = train_test_split(file_name_final, df_paths, \\\n",
    "                                                    test_size=0.1, random_state = 42)"
   ]
  },
  {
   "cell_type": "markdown",
   "metadata": {},
   "source": [
    "## train predict compare acccuracy"
   ]
  },
  {
   "cell_type": "code",
   "execution_count": 19,
   "metadata": {},
   "outputs": [],
   "source": [
    "Hierarchical_train(X_train, y_train)"
   ]
  },
  {
   "cell_type": "code",
   "execution_count": 20,
   "metadata": {},
   "outputs": [],
   "source": [
    "prob_threshold = 0.9\n",
    "preds = Hierarchical_predict(X_train, prob_threshold)"
   ]
  },
  {
   "cell_type": "code",
   "execution_count": 21,
   "metadata": {},
   "outputs": [
    {
     "name": "stdout",
     "output_type": "stream",
     "text": [
      "dict_items([(4, 0.248), (5, 0.181), (2, 0.076), (1, 0.28), (3, 0.064)])\n",
      "\n",
      " [0.035, 0.077, 0.439, 0.108, 0.081, 0.071, 0.031, 0.005, 0.002]\n"
     ]
    }
   ],
   "source": [
    "Hierarchical_auc(preds, y_train)"
   ]
  },
  {
   "cell_type": "code",
   "execution_count": 22,
   "metadata": {},
   "outputs": [
    {
     "data": {
      "text/plain": [
       "0.916"
      ]
     },
     "execution_count": 22,
     "metadata": {},
     "output_type": "execute_result"
    }
   ],
   "source": [
    "from functools import reduce\n",
    "reduce((lambda x, y: x + y), [0.244, 0.152, 0.138, 0.127, 0.086, 0.07, 0.068, 0.028, 0.003])"
   ]
  },
  {
   "cell_type": "code",
   "execution_count": 23,
   "metadata": {},
   "outputs": [
    {
     "data": {
      "text/plain": [
       "0.255"
      ]
     },
     "execution_count": 23,
     "metadata": {},
     "output_type": "execute_result"
    }
   ],
   "source": [
    "reduce((lambda x, y: x + y), [0.086, 0.07, 0.068, 0.028,0.003])"
   ]
  },
  {
   "cell_type": "code",
   "execution_count": 24,
   "metadata": {},
   "outputs": [
    {
     "data": {
      "text/plain": [
       "'Research/Hg/HgData_Processing/Hg-two-color-pump'"
      ]
     },
     "execution_count": 24,
     "metadata": {},
     "output_type": "execute_result"
    }
   ],
   "source": [
    "preds[0][0]"
   ]
  },
  {
   "cell_type": "code",
   "execution_count": 25,
   "metadata": {},
   "outputs": [],
   "source": [
    "# for i, pred in enumerate(preds):\n",
    "#     print(pred)\n",
    "#     #print(X_train[i],'\\n')"
   ]
  },
  {
   "cell_type": "code",
   "execution_count": 26,
   "metadata": {
    "scrolled": true
   },
   "outputs": [
    {
     "name": "stdout",
     "output_type": "stream",
     "text": [
      "dict_items([(1, 0.282), (2, 0.079), (5, 0.183), (4, 0.24), (3, 0.052)])\n",
      "\n",
      " [0.035, 0.066, 0.445, 0.102, 0.08, 0.064, 0.037, 0.007, 0.001]\n"
     ]
    }
   ],
   "source": [
    "preds_test = Hierarchical_predict(X_test, prob_threshold)\n",
    "\n",
    "Hierarchical_auc(preds_test, y_test)"
   ]
  },
  {
   "cell_type": "markdown",
   "metadata": {},
   "source": [
    "# accumulated prob_total version"
   ]
  },
  {
   "cell_type": "markdown",
   "metadata": {},
   "source": [
    "# right path & folder rate"
   ]
  },
  {
   "cell_type": "code",
   "execution_count": 27,
   "metadata": {
    "scrolled": false
   },
   "outputs": [
    {
     "name": "stdout",
     "output_type": "stream",
     "text": [
      "0.0\n",
      "train_set:\n",
      "dict_items([(1, 0.003), (3, 0.046), (4, 0.026), (5, 0.071), (6, 0.035), (2, 0.012), (7, 0.001)])\n",
      "\n",
      " [0.114, 0.067, 0.005, 0.004, 0.003, 0.0, 0.001, 0.0, 0.0]\n",
      "\n",
      "\n",
      "test_set\n",
      "dict_items([(3, 0.043), (4, 0.024), (2, 0.014), (5, 0.066), (1, 0.003), (6, 0.027), (7, 0.002)])\n",
      "\n",
      " [0.099, 0.068, 0.007, 0.004, 0.002, 0.0, 0.001, 0.0, 0.0]\n",
      "\n",
      "\n",
      "\n",
      "0.1\n",
      "train_set:\n",
      "dict_items([(1, 0.003), (3, 0.062), (5, 0.089), (6, 0.034), (4, 0.032), (2, 0.013), (7, 0.001)])\n",
      "\n",
      " [0.122, 0.086, 0.015, 0.006, 0.004, 0.0, 0.001, 0.0, 0.0]\n",
      "\n",
      "\n",
      "test_set\n",
      "dict_items([(3, 0.064), (4, 0.035), (2, 0.015), (5, 0.084), (1, 0.003), (6, 0.026)])\n",
      "\n",
      " [0.104, 0.091, 0.021, 0.007, 0.003, 0.0, 0.001, 0.0, 0.0]\n",
      "\n",
      "\n",
      "\n",
      "0.2\n",
      "train_set:\n",
      "dict_items([(5, 0.135), (1, 0.003), (3, 0.099), (6, 0.033), (4, 0.037), (2, 0.024)])\n",
      "\n",
      " [0.14, 0.127, 0.039, 0.015, 0.007, 0.001, 0.001, 0.0, 0.0]\n",
      "\n",
      "\n",
      "test_set\n",
      "dict_items([(3, 0.094), (2, 0.029), (4, 0.038), (5, 0.112), (1, 0.003), (6, 0.023)])\n",
      "\n",
      " [0.117, 0.115, 0.038, 0.019, 0.007, 0.001, 0.001, 0.0, 0.0]\n",
      "\n",
      "\n",
      "\n",
      "0.30000000000000004\n",
      "train_set:\n",
      "dict_items([(5, 0.2), (1, 0.007), (3, 0.102), (6, 0.023), (4, 0.049), (2, 0.046)])\n",
      "\n",
      " [0.128, 0.174, 0.087, 0.02, 0.013, 0.005, 0.002, 0.0, 0.0]\n",
      "\n",
      "\n",
      "test_set\n",
      "dict_items([(2, 0.051), (3, 0.098), (4, 0.046), (5, 0.164), (1, 0.004), (6, 0.017)])\n",
      "\n",
      " [0.103, 0.154, 0.083, 0.023, 0.013, 0.004, 0.001, 0.0, 0.0]\n",
      "\n",
      "\n",
      "\n",
      "0.4\n",
      "train_set:\n",
      "dict_items([(5, 0.232), (4, 0.227), (1, 0.066), (2, 0.042), (3, 0.119), (6, 0.018)])\n",
      "\n",
      " [0.113, 0.138, 0.347, 0.055, 0.033, 0.012, 0.007, 0.001, 0.0]\n",
      "\n",
      "\n",
      "test_set\n",
      "dict_items([(2, 0.045), (3, 0.121), (4, 0.221), (5, 0.218), (1, 0.072), (6, 0.013)])\n",
      "\n",
      " [0.094, 0.133, 0.346, 0.057, 0.037, 0.013, 0.009, 0.001, 0.0]\n",
      "\n",
      "\n",
      "\n",
      "0.5\n",
      "train_set:\n",
      "dict_items([(5, 0.243), (4, 0.226), (1, 0.096), (2, 0.053), (3, 0.122), (6, 0.014)])\n",
      "\n",
      " [0.093, 0.148, 0.373, 0.07, 0.041, 0.017, 0.01, 0.002, 0.0]\n",
      "\n",
      "\n",
      "test_set\n",
      "dict_items([(2, 0.062), (3, 0.119), (4, 0.217), (1, 0.102), (5, 0.233), (6, 0.012)])\n",
      "\n",
      " [0.079, 0.139, 0.379, 0.074, 0.044, 0.015, 0.014, 0.002, 0.0]\n",
      "\n",
      "\n",
      "\n",
      "0.6000000000000001\n",
      "train_set:\n",
      "dict_items([(5, 0.257), (4, 0.225), (1, 0.129), (2, 0.065), (3, 0.109), (6, 0.014)])\n",
      "\n",
      " [0.08, 0.139, 0.408, 0.078, 0.049, 0.025, 0.016, 0.003, 0.0]\n",
      "\n",
      "\n",
      "test_set\n",
      "dict_items([(1, 0.14), (3, 0.098), (5, 0.257), (4, 0.218), (2, 0.073), (6, 0.012)])\n",
      "\n",
      " [0.069, 0.132, 0.416, 0.076, 0.057, 0.027, 0.018, 0.003, 0.0]\n",
      "\n",
      "\n",
      "\n",
      "0.7000000000000001\n",
      "train_set:\n",
      "dict_items([(5, 0.248), (4, 0.215), (1, 0.169), (2, 0.088), (3, 0.087), (6, 0.012)])\n",
      "\n",
      " [0.057, 0.143, 0.416, 0.086, 0.057, 0.037, 0.02, 0.004, 0.001]\n",
      "\n",
      "\n",
      "test_set\n",
      "dict_items([(1, 0.174), (2, 0.091), (5, 0.246), (4, 0.21), (3, 0.081), (6, 0.011)])\n",
      "\n",
      " [0.047, 0.138, 0.42, 0.085, 0.065, 0.033, 0.022, 0.004, 0.0]\n",
      "\n",
      "\n",
      "\n",
      "0.8\n",
      "train_set:\n",
      "dict_items([(5, 0.239), (4, 0.207), (1, 0.215), (2, 0.083), (3, 0.087), (6, 0.005)])\n",
      "\n",
      " [0.047, 0.126, 0.425, 0.09, 0.066, 0.051, 0.024, 0.004, 0.001]\n",
      "\n",
      "\n",
      "test_set\n",
      "dict_items([(1, 0.215), (2, 0.091), (5, 0.23), (4, 0.213), (3, 0.075), (6, 0.005)])\n",
      "\n",
      " [0.041, 0.118, 0.431, 0.094, 0.067, 0.047, 0.027, 0.005, 0.0]\n",
      "\n",
      "\n",
      "\n",
      "0.9\n",
      "train_set:\n",
      "dict_items([(4, 0.248), (5, 0.181), (2, 0.076), (1, 0.28), (3, 0.064)])\n",
      "\n",
      " [0.035, 0.077, 0.439, 0.108, 0.081, 0.071, 0.031, 0.005, 0.002]\n",
      "\n",
      "\n",
      "test_set\n",
      "dict_items([(1, 0.282), (2, 0.079), (5, 0.183), (4, 0.24), (3, 0.052)])\n",
      "\n",
      " [0.035, 0.066, 0.445, 0.102, 0.08, 0.064, 0.037, 0.007, 0.001]\n",
      "\n",
      "\n",
      "\n",
      "1.0\n",
      "train_set:\n",
      "dict_items([(1, 0.968)])\n",
      "\n",
      " [0.0, 0.024, 0.116, 0.063, 0.085, 0.305, 0.245, 0.127, 0.003]\n",
      "\n",
      "\n",
      "test_set\n",
      "dict_items([(1, 0.973)])\n",
      "\n",
      " [0.001, 0.022, 0.113, 0.069, 0.08, 0.299, 0.245, 0.141, 0.002]\n",
      "\n",
      "\n",
      "\n"
     ]
    }
   ],
   "source": [
    "# accumulated prob_total version \n",
    "\n",
    "for prob_threshold in np.linspace(0,1,11):\n",
    "    print(prob_threshold)\n",
    "    print('train_set:')\n",
    "    preds = Hierarchical_predict(X_train, prob_threshold)\n",
    "\n",
    "    Hierarchical_auc(preds, y_train)\n",
    "    print('\\n')\n",
    "    print('test_set')\n",
    "    preds_test = Hierarchical_predict(X_test,prob_threshold)\n",
    "\n",
    "    Hierarchical_auc(preds_test, y_test)\n",
    "    print('\\n\\n')"
   ]
  },
  {
   "cell_type": "code",
   "execution_count": 63,
   "metadata": {},
   "outputs": [
    {
     "data": {
      "text/plain": [
       "0.849"
      ]
     },
     "execution_count": 63,
     "metadata": {},
     "output_type": "execute_result"
    }
   ],
   "source": [
    "# p = 0.9, test\n",
    "np.sum([0.035, 0.077, 0.439, 0.108, 0.081, 0.071, 0.031, 0.005, 0.002])"
   ]
  },
  {
   "cell_type": "code",
   "execution_count": 65,
   "metadata": {},
   "outputs": [
    {
     "data": {
      "text/plain": [
       "0.551"
      ]
     },
     "execution_count": 65,
     "metadata": {},
     "output_type": "execute_result"
    }
   ],
   "source": [
    "np.sum([0.035, 0.077, 0.439])"
   ]
  },
  {
   "cell_type": "code",
   "execution_count": 66,
   "metadata": {},
   "outputs": [
    {
     "data": {
      "text/plain": [
       "0.19"
      ]
     },
     "execution_count": 66,
     "metadata": {},
     "output_type": "execute_result"
    }
   ],
   "source": [
    "np.sum([0.081, 0.071, 0.031, 0.005, 0.002])"
   ]
  },
  {
   "cell_type": "code",
   "execution_count": 129,
   "metadata": {},
   "outputs": [
    {
     "data": {
      "text/plain": [
       "9"
      ]
     },
     "execution_count": 129,
     "metadata": {},
     "output_type": "execute_result"
    }
   ],
   "source": [
    "len([0.035, 0.077, 0.439, 0.108, 0.081, 0.071, 0.031, 0.005, 0.002])"
   ]
  },
  {
   "cell_type": "markdown",
   "metadata": {},
   "source": [
    "# Pie Chart"
   ]
  },
  {
   "cell_type": "code",
   "execution_count": null,
   "metadata": {},
   "outputs": [],
   "source": [
    "# import matplotlib.pyplot as plt\n",
    " \n",
    "# # Data to plot\n",
    "# labels = 'Python', 'C++', 'Ruby', 'Java'\n",
    "# sizes = [215, 130, 245, 210]\n",
    "# colors = ['gold', 'yellowgreen', 'lightcoral', 'lightskyblue']\n",
    "# explode = (0.1, 0, 0, 0)  # explode 1st slice\n",
    " \n",
    "# # Plot\n",
    "# plt.pie(sizes, explode=explode, labels=labels, colors=colors,\n",
    "#         autopct='%1.1f%%', shadow=True, startangle=140)\n",
    " \n",
    "# plt.axis('equal')\n",
    "# plt.show()"
   ]
  },
  {
   "cell_type": "code",
   "execution_count": 161,
   "metadata": {
    "scrolled": false
   },
   "outputs": [
    {
     "data": {
      "image/png": "[encoded data removed]",
      "text/plain": [
       "<Figure size 576x576 with 1 Axes>"
      ]
     },
     "metadata": {},
     "output_type": "display_data"
    }
   ],
   "source": [
    "# Data to plot\n",
    "labels = 'Wrong', 'Right Path'\n",
    "sizes = [1-0.849, 0.849]\n",
    "colors = ['lightgrey', 'lightgreen']\n",
    "explode = (0.1, 0)  # explode 1st slice\n",
    " \n",
    "# Plot\n",
    "fig = plt.figure(figsize=(8,8))\n",
    "plt.pie(sizes, explode=explode, labels=labels, colors=colors,\n",
    "        autopct='%1.1f%%', shadow=True, startangle=-115,textprops={'fontsize': 20})\n",
    " \n",
    "plt.axis('equal')\n",
    "plt.show()"
   ]
  },
  {
   "cell_type": "markdown",
   "metadata": {},
   "source": [
    "# how deep can the alg go?"
   ]
  },
  {
   "cell_type": "code",
   "execution_count": null,
   "metadata": {},
   "outputs": [],
   "source": [
    "(4, 0.248), (5, 0.181), (2, 0.076), (1, 0.28), (3, 0.064)"
   ]
  },
  {
   "cell_type": "code",
   "execution_count": 167,
   "metadata": {
    "scrolled": false
   },
   "outputs": [
    {
     "data": {
      "image/png": "[encoded data removed]",
      "text/plain": [
       "<Figure size 576x576 with 1 Axes>"
      ]
     },
     "metadata": {},
     "output_type": "display_data"
    }
   ],
   "source": [
    " \n",
    "# Data to plot\n",
    "labels = 'Wrong','Level 1', 'Level 2','Level 3','Level 4','Level 5'\n",
    "sizes = [1-0.849, 0.28, 0.076, 0.064, 0.248, 0.181]\n",
    "colors = ['lightgrey', 'deepskyblue','orange', 'yellowgreen','hotpink', 'gold']\n",
    "\n",
    "explode = (0.1, 0,0,0,0,0)  # explode 1st slice\n",
    " \n",
    "# Plot\n",
    "fig = plt.figure(figsize=(8,8))\n",
    "plt.pie(sizes, explode=explode, labels=labels, colors=colors,\n",
    "        autopct='%1.1f%%', shadow=True, startangle=-115,textprops={'fontsize': 20})\n",
    " \n",
    "plt.axis('equal')\n",
    "plt.show()"
   ]
  },
  {
   "cell_type": "code",
   "execution_count": 169,
   "metadata": {},
   "outputs": [
    {
     "data": {
      "text/plain": [
       "(16402, 10)"
      ]
     },
     "execution_count": 169,
     "metadata": {},
     "output_type": "execute_result"
    }
   ],
   "source": [
    "df_paths.shape"
   ]
  },
  {
   "cell_type": "code",
   "execution_count": null,
   "metadata": {},
   "outputs": [],
   "source": []
  },
  {
   "cell_type": "code",
   "execution_count": null,
   "metadata": {},
   "outputs": [],
   "source": []
  },
  {
   "cell_type": "markdown",
   "metadata": {},
   "source": [
    "# how diff are the Predicted wrt Actual Levels?"
   ]
  },
  {
   "cell_type": "code",
   "execution_count": 133,
   "metadata": {},
   "outputs": [
    {
     "data": {
      "text/plain": [
       "0.038"
      ]
     },
     "execution_count": 133,
     "metadata": {},
     "output_type": "execute_result"
    }
   ],
   "source": [
    "np.sum([0.031, 0.005, 0.002])"
   ]
  },
  {
   "cell_type": "code",
   "execution_count": 143,
   "metadata": {},
   "outputs": [
    {
     "data": {
      "text/plain": [
       "array([[0.89411765, 0.10196078, 0.10980392, 1.        ],\n",
       "       [0.21568627, 0.49411765, 0.72156863, 1.        ],\n",
       "       [0.30196078, 0.68627451, 0.29019608, 1.        ],\n",
       "       [0.59607843, 0.30588235, 0.63921569, 1.        ],\n",
       "       [1.        , 0.49803922, 0.        , 1.        ],\n",
       "       [1.        , 1.        , 0.2       , 1.        ],\n",
       "       [0.65098039, 0.3372549 , 0.15686275, 1.        ],\n",
       "       [0.96862745, 0.50588235, 0.74901961, 1.        ]])"
      ]
     },
     "execution_count": 143,
     "metadata": {},
     "output_type": "execute_result"
    }
   ],
   "source": [
    "cm.Set1(np.arange(8)/8.)"
   ]
  },
  {
   "cell_type": "code",
   "execution_count": 168,
   "metadata": {
    "scrolled": true
   },
   "outputs": [
    {
     "data": {
      "image/png": "[encoded data removed]",
      "text/plain": [
       "<Figure size 576x576 with 1 Axes>"
      ]
     },
     "metadata": {},
     "output_type": "display_data"
    }
   ],
   "source": [
    "import matplotlib.pyplot as plt\n",
    "from matplotlib import cm\n",
    "# Data to plot\n",
    "labels = 'Wrong','Level Diff=0', 'Level Diff=1','Level Diff=2','Level Diff=3','Level Diff=4',\\\n",
    "'Level Diff=5','Level Diff=6-8'\n",
    "sizes = [1-0.849, 0.035, 0.077, 0.439, 0.108, 0.081, 0.071, 0.038]\n",
    "colors = ['lightgrey','mediumturquoise','lightseagreen','mediumspringgreen','aquamarine',\\\n",
    "          'mediumaquamarine','turquoise','mediumseagreen']\n",
    "\n",
    "#colors = cm.Set1(np.arange(8)/8.)\n",
    "explode = (0.1, 0,0,0,0,0,0,0)  # explode 1st slice\n",
    " \n",
    "# Plot\n",
    "fig = plt.figure(figsize=(8,8))\n",
    "plt.pie(sizes, explode=explode, labels=labels, colors=colors,\n",
    "        autopct='%1.1f%%', shadow=True, startangle=-115,textprops={'fontsize': 20})\n",
    "\n",
    "\n",
    "plt.axis('equal')\n",
    "plt.show()"
   ]
  },
  {
   "cell_type": "code",
   "execution_count": 170,
   "metadata": {},
   "outputs": [
    {
     "data": {
      "text/html": [
       "<div>\n",
       "<style scoped>\n",
       "    .dataframe tbody tr th:only-of-type {\n",
       "        vertical-align: middle;\n",
       "    }\n",
       "\n",
       "    .dataframe tbody tr th {\n",
       "        vertical-align: top;\n",
       "    }\n",
       "\n",
       "    .dataframe thead th {\n",
       "        text-align: right;\n",
       "    }\n",
       "</style>\n",
       "<table border=\"1\" class=\"dataframe\">\n",
       "  <thead>\n",
       "    <tr style=\"text-align: right;\">\n",
       "      <th></th>\n",
       "      <th>0</th>\n",
       "      <th>1</th>\n",
       "      <th>2</th>\n",
       "      <th>3</th>\n",
       "      <th>4</th>\n",
       "      <th>5</th>\n",
       "      <th>6</th>\n",
       "      <th>7</th>\n",
       "      <th>8</th>\n",
       "      <th>-1</th>\n",
       "    </tr>\n",
       "  </thead>\n",
       "  <tbody>\n",
       "    <tr>\n",
       "      <th>0</th>\n",
       "      <td>Research</td>\n",
       "      <td>NaN</td>\n",
       "      <td>NaN</td>\n",
       "      <td>NaN</td>\n",
       "      <td>NaN</td>\n",
       "      <td>NaN</td>\n",
       "      <td>NaN</td>\n",
       "      <td>NaN</td>\n",
       "      <td>NaN</td>\n",
       "      <td>dummy</td>\n",
       "    </tr>\n",
       "    <tr>\n",
       "      <th>1</th>\n",
       "      <td>Research</td>\n",
       "      <td>NaN</td>\n",
       "      <td>NaN</td>\n",
       "      <td>NaN</td>\n",
       "      <td>NaN</td>\n",
       "      <td>NaN</td>\n",
       "      <td>NaN</td>\n",
       "      <td>NaN</td>\n",
       "      <td>NaN</td>\n",
       "      <td>dummy</td>\n",
       "    </tr>\n",
       "    <tr>\n",
       "      <th>2</th>\n",
       "      <td>Research</td>\n",
       "      <td>NaN</td>\n",
       "      <td>NaN</td>\n",
       "      <td>NaN</td>\n",
       "      <td>NaN</td>\n",
       "      <td>NaN</td>\n",
       "      <td>NaN</td>\n",
       "      <td>NaN</td>\n",
       "      <td>NaN</td>\n",
       "      <td>dummy</td>\n",
       "    </tr>\n",
       "    <tr>\n",
       "      <th>3</th>\n",
       "      <td>Research</td>\n",
       "      <td>NaN</td>\n",
       "      <td>NaN</td>\n",
       "      <td>NaN</td>\n",
       "      <td>NaN</td>\n",
       "      <td>NaN</td>\n",
       "      <td>NaN</td>\n",
       "      <td>NaN</td>\n",
       "      <td>NaN</td>\n",
       "      <td>dummy</td>\n",
       "    </tr>\n",
       "    <tr>\n",
       "      <th>4</th>\n",
       "      <td>Research</td>\n",
       "      <td>NaN</td>\n",
       "      <td>NaN</td>\n",
       "      <td>NaN</td>\n",
       "      <td>NaN</td>\n",
       "      <td>NaN</td>\n",
       "      <td>NaN</td>\n",
       "      <td>NaN</td>\n",
       "      <td>NaN</td>\n",
       "      <td>dummy</td>\n",
       "    </tr>\n",
       "  </tbody>\n",
       "</table>\n",
       "</div>"
      ],
      "text/plain": [
       "          0    1    2    3    4    5    6    7    8     -1\n",
       "0  Research  NaN  NaN  NaN  NaN  NaN  NaN  NaN  NaN  dummy\n",
       "1  Research  NaN  NaN  NaN  NaN  NaN  NaN  NaN  NaN  dummy\n",
       "2  Research  NaN  NaN  NaN  NaN  NaN  NaN  NaN  NaN  dummy\n",
       "3  Research  NaN  NaN  NaN  NaN  NaN  NaN  NaN  NaN  dummy\n",
       "4  Research  NaN  NaN  NaN  NaN  NaN  NaN  NaN  NaN  dummy"
      ]
     },
     "execution_count": 170,
     "metadata": {},
     "output_type": "execute_result"
    }
   ],
   "source": [
    "df_paths.head()"
   ]
  },
  {
   "cell_type": "markdown",
   "metadata": {},
   "source": [
    "# confustion matrix:"
   ]
  },
  {
   "cell_type": "code",
   "execution_count": 179,
   "metadata": {},
   "outputs": [
    {
     "data": {
      "image/png": "[encoded data removed]",
      "text/plain": [
       "<Figure size 720x576 with 2 Axes>"
      ]
     },
     "metadata": {
      "needs_background": "light"
     },
     "output_type": "display_data"
    }
   ],
   "source": [
    "count_vect = CountVectorizer(min_df=8, encoding='latin-1', \\\n",
    "                ngram_range=(1, 2), stop_words='english')\n",
    "\n",
    "X_train_counts = count_vect.fit_transform(file_name_final)\n",
    "features = X_train_counts.toarray()\n",
    "\n",
    "\n",
    "categ_labels = list(df_paths[0].unique())\n",
    "\n",
    "\n",
    "model = LogisticRegression()\n",
    "X_train, X_test, y_train, y_test, indices_train, indices_test = \\\n",
    "train_test_split(features, df_paths[0], df_paths.index, test_size=0.2, random_state=0)\n",
    "model.fit(X_train, y_train)\n",
    "y_pred = model.predict(X_test)\n",
    "\n",
    "\n",
    "from sklearn.metrics import confusion_matrix\n",
    "\n",
    "\n",
    "conf_mat = confusion_matrix(y_test, y_pred,labels=categ_labels)\n",
    "fig, ax = plt.subplots(figsize=(10,8))\n",
    "\n",
    "#if normalize:\n",
    "conf_mat = conf_mat.astype('float') / conf_mat.sum(axis=1)[:, np.newaxis]\n",
    "        \n",
    "#sns.heatmap(conf_mat, annot=True, fmt='d',xticklabels=categ_labels, yticklabels=categ_labels)\n",
    "sns.heatmap(conf_mat, annot=True,xticklabels=categ_labels, yticklabels=categ_labels)\n",
    "\n",
    "plt.ylabel('Actual')\n",
    "plt.xlabel('Predicted')\n",
    "plt.show()\n"
   ]
  },
  {
   "cell_type": "code",
   "execution_count": 174,
   "metadata": {},
   "outputs": [
    {
     "data": {
      "text/plain": [
       "array([[2740,    0,    0,    3,    0],\n",
       "       [   1,    8,    0,    0,    0],\n",
       "       [  27,    0,  192,    1,    1],\n",
       "       [  80,    0,    1,  160,    0],\n",
       "       [   2,    0,    0,    1,   64]])"
      ]
     },
     "execution_count": 174,
     "metadata": {},
     "output_type": "execute_result"
    }
   ],
   "source": [
    "conf_mat "
   ]
  },
  {
   "cell_type": "code",
   "execution_count": null,
   "metadata": {},
   "outputs": [],
   "source": []
  },
  {
   "cell_type": "code",
   "execution_count": null,
   "metadata": {},
   "outputs": [],
   "source": []
  },
  {
   "cell_type": "code",
   "execution_count": 28,
   "metadata": {},
   "outputs": [
    {
     "data": {
      "image/png": "[encoded data removed]",
      "text/plain": [
       "<Figure size 576x432 with 1 Axes>"
      ]
     },
     "metadata": {
      "needs_background": "light"
     },
     "output_type": "display_data"
    }
   ],
   "source": [
    "dist_hier = np.array([0.912, 0.227])*100\n",
    "dist_flat = [93.4, 0.2]\n",
    "\n",
    "\n",
    "x = np.array(range(len(dist_hier)))\n",
    "\n",
    "y1 = dist_hier\n",
    "y2 = dist_flat\n",
    "\n",
    "\n",
    "fig = plt.figure(figsize=(8,6))\n",
    "ax = plt.subplot(111)\n",
    "\n",
    "\n",
    "ax.bar(x-0.2, y1,width=0.2,color='g',align='center')\n",
    "ax.bar(x, y2,width=0.2,color='y',align='center')\n",
    "\n",
    "\n",
    "ind = np.arange(1)  # the x locations for the groups\n",
    "width = 0.27       # the width of the bars\n",
    "\n",
    "\n",
    "\n",
    "\n",
    "ax.set_ylabel('AUC')\n",
    "ax.set_xticks(ind+width)\n",
    "#ax.set_xticklabels( ind )\n",
    "ax.legend( ('Hierarchical', '1-st folder') )\n",
    "\n",
    "def autolabel(rects):\n",
    "    for rect in rects:\n",
    "        h = rect.get_height()\n",
    "        ax.text(rect.get_x()+rect.get_width()/2., 1.05*h, '%d'%int(h),\n",
    "                ha='center', va='bottom')\n",
    "plt.show()"
   ]
  },
  {
   "cell_type": "code",
   "execution_count": 29,
   "metadata": {},
   "outputs": [
    {
     "data": {
      "image/png": "[encoded data removed]",
      "text/plain": [
       "<Figure size 576x432 with 1 Axes>"
      ]
     },
     "metadata": {
      "needs_background": "light"
     },
     "output_type": "display_data"
    }
   ],
   "source": [
    "dist_hier = [0.379, 0.245, 0.274, 0.014] #(3, 0.274), (2, 0.245), (1, 0.379), (4, 0.014)\n",
    "dist_flat = [0.934, 0, 0, 0]\n",
    "\n",
    "\n",
    "x = np.array(range(len(dist_hier)))\n",
    "\n",
    "y1 = dist_hier\n",
    "y2 = dist_flat\n",
    "\n",
    "\n",
    "fig = plt.figure(figsize=(8,6))\n",
    "ax = plt.subplot(111)\n",
    "\n",
    "\n",
    "ax.bar(x-0.2, y1,width=0.2,color='g',align='center')\n",
    "ax.bar(x, y2,width=0.2,color='y',align='center')\n",
    "\n",
    "\n",
    "ind = np.arange(9)  # the x locations for the groups\n",
    "width = 0.27       # the width of the bars\n",
    "\n",
    "\n",
    "\n",
    "\n",
    "ax.set_ylabel('AUC')\n",
    "ax.set_xticks(ind+width)\n",
    "ax.set_xticklabels( ind )\n",
    "ax.legend( ('Hierarchical', '1-st folder') )\n",
    "\n",
    "def autolabel(rects):\n",
    "    for rect in rects:\n",
    "        h = rect.get_height()\n",
    "        ax.text(rect.get_x()+rect.get_width()/2., 1.05*h, '%d'%int(h),\n",
    "                ha='center', va='bottom')\n",
    "plt.show()"
   ]
  },
  {
   "cell_type": "markdown",
   "metadata": {},
   "source": [
    "# difference between pred & actual levels"
   ]
  },
  {
   "cell_type": "code",
   "execution_count": 30,
   "metadata": {},
   "outputs": [
    {
     "data": {
      "image/png": "[encoded data removed]",
      "text/plain": [
       "<Figure size 576x432 with 1 Axes>"
      ]
     },
     "metadata": {
      "needs_background": "light"
     },
     "output_type": "display_data"
    }
   ],
   "source": [
    "dist_hier = [0.227, 0.147, 0.127, 0.136, 0.084, 0.07, 0.07, 0.041, 0.009]\n",
    "dist_flat = [0.002, 0.057, 0.354, 0.163, 0.116, 0.093, 0.063, 0.063, 0.023]\n",
    "\n",
    "\n",
    "x = np.array(range(len(dist_hier)))\n",
    "\n",
    "y1 = dist_hier\n",
    "y2 = dist_flat\n",
    "\n",
    "\n",
    "fig = plt.figure(figsize=(8,6))\n",
    "ax = plt.subplot(111)\n",
    "\n",
    "\n",
    "ax.bar(x-0.2, y1,width=0.2,color='g',align='center')\n",
    "ax.bar(x, y2,width=0.2,color='y',align='center')\n",
    "\n",
    "\n",
    "ind = np.arange(9)  # the x locations for the groups\n",
    "width = 0.27       # the width of the bars\n",
    "\n",
    "\n",
    "\n",
    "\n",
    "ax.set_ylabel('AUC')\n",
    "ax.set_xticks(ind+width)\n",
    "ax.set_xticklabels( ind )\n",
    "ax.legend( ('Hierarchical', '1-st folder') )\n",
    "\n",
    "def autolabel(rects):\n",
    "    for rect in rects:\n",
    "        h = rect.get_height()\n",
    "        ax.text(rect.get_x()+rect.get_width()/2., 1.05*h, '%d'%int(h),\n",
    "                ha='center', va='bottom')\n",
    "plt.show()"
   ]
  },
  {
   "cell_type": "markdown",
   "metadata": {},
   "source": [
    "# accumulated prob_total version for old data set "
   ]
  },
  {
   "cell_type": "code",
   "execution_count": 31,
   "metadata": {
    "scrolled": false
   },
   "outputs": [],
   "source": [
    "# # accumulated prob_total version \n",
    "\n",
    "# for prob_threshold in np.linspace(0,1,11):\n",
    "#     print(prob_threshold)\n",
    "#     print('train_set:')\n",
    "#     preds = Hierarchical_predict(X_train, prob_threshold)\n",
    "\n",
    "#     Hierarchical_auc(preds, y_train)\n",
    "#     print('test_set')\n",
    "#     preds_test = Hierarchical_predict(X_test,prob_threshold)\n",
    "\n",
    "#     Hierarchical_auc(preds_test, y_test)\n",
    "#     print('\\n')"
   ]
  },
  {
   "cell_type": "markdown",
   "metadata": {},
   "source": [
    "# Non- accumulated prob_total version : Doesn't do as well as accumulated version\n"
   ]
  },
  {
   "cell_type": "code",
   "execution_count": 32,
   "metadata": {},
   "outputs": [],
   "source": [
    "# # # non - accumulated prob_total version \n",
    "# for prob_threshold in np.linspace(0,1,11):\n",
    "#     print(prob_threshold)\n",
    "#     print('train_set:')\n",
    "#     preds = Hierarchical_predict_non_accum(X_train, prob_threshold)\n",
    "\n",
    "#     Hierarchical_auc(preds, y_train)\n",
    "#     print('test_set')\n",
    "#     preds_test = Hierarchical_predict_non_accum(X_test,prob_threshold)\n",
    "\n",
    "#     Hierarchical_auc(preds_test, y_test)\n",
    "#     print('\\n')"
   ]
  },
  {
   "cell_type": "code",
   "execution_count": null,
   "metadata": {},
   "outputs": [],
   "source": []
  },
  {
   "cell_type": "code",
   "execution_count": 33,
   "metadata": {},
   "outputs": [
    {
     "ename": "SyntaxError",
     "evalue": "invalid syntax (<ipython-input-33-bcbfcfe35034>, line 4)",
     "output_type": "error",
     "traceback": [
      "\u001b[0;36m  File \u001b[0;32m\"<ipython-input-33-bcbfcfe35034>\"\u001b[0;36m, line \u001b[0;32m4\u001b[0m\n\u001b[0;31m    train_set:\u001b[0m\n\u001b[0m              ^\u001b[0m\n\u001b[0;31mSyntaxError\u001b[0m\u001b[0;31m:\u001b[0m invalid syntax\n"
     ]
    }
   ],
   "source": [
    "# no stemming results:\n",
    "\n",
    "0.0\n",
    "train_set:\n",
    "Ratio of count_right_path Ratio of count_right_level Ratio of count_close_level [0.385, 0.001, 0.13]\n",
    "dict_items([(9, 0.385)])\n",
    "test_set\n",
    "Ratio of count_right_path Ratio of count_right_level Ratio of count_close_level [0.343, 0.0, 0.145]\n",
    "dict_items([(9, 0.343)])\n",
    "\n",
    "\n",
    "0.1\n",
    "train_set:\n",
    "Ratio of count_right_path Ratio of count_right_level Ratio of count_close_level [0.403, 0.008, 0.149]\n",
    "dict_items([(9, 0.383), (3, 0.006), (2, 0.013), (4, 0.001)])\n",
    "test_set\n",
    "Ratio of count_right_path Ratio of count_right_level Ratio of count_close_level [0.37, 0.013, 0.172]\n",
    "dict_items([(9, 0.343), (2, 0.023), (3, 0.004)])\n",
    "\n",
    "\n",
    "0.2\n",
    "train_set:\n",
    "Ratio of count_right_path Ratio of count_right_level Ratio of count_close_level [0.514, 0.09, 0.264]\n",
    "dict_items([(9, 0.347), (3, 0.049), (4, 0.01), (2, 0.107), (1, 0.001)])\n",
    "test_set\n",
    "Ratio of count_right_path Ratio of count_right_level Ratio of count_close_level [0.46, 0.074, 0.26]\n",
    "dict_items([(9, 0.326), (3, 0.034), (2, 0.091), (4, 0.006), (1, 0.002)])\n",
    "\n",
    "\n",
    "0.30000000000000004\n",
    "train_set:\n",
    "Ratio of count_right_path Ratio of count_right_level Ratio of count_close_level [0.574, 0.099, 0.298]\n",
    "dict_items([(1, 0.006), (9, 0.307), (3, 0.069), (2, 0.167), (4, 0.025)])\n",
    "test_set\n",
    "Ratio of count_right_path Ratio of count_right_level Ratio of count_close_level [0.523, 0.085, 0.289]\n",
    "dict_items([(9, 0.294), (2, 0.14), (3, 0.062), (4, 0.021), (1, 0.006)])\n",
    "\n",
    "\n",
    "0.4\n",
    "train_set:\n",
    "Ratio of count_right_path Ratio of count_right_level Ratio of count_close_level [0.671, 0.109, 0.38]\n",
    "dict_items([(1, 0.073), (4, 0.029), (9, 0.268), (3, 0.105), (2, 0.197)])\n",
    "test_set\n",
    "Ratio of count_right_path Ratio of count_right_level Ratio of count_close_level [0.64, 0.098, 0.402]\n",
    "dict_items([(9, 0.253), (2, 0.185), (1, 0.066), (3, 0.102), (4, 0.034)])\n",
    "\n",
    "\n",
    "0.5\n",
    "train_set:\n",
    "Ratio of count_right_path Ratio of count_right_level Ratio of count_close_level [0.74, 0.106, 0.422]\n",
    "dict_items([(1, 0.163), (4, 0.027), (9, 0.242), (2, 0.213), (3, 0.095)])\n",
    "test_set\n",
    "Ratio of count_right_path Ratio of count_right_level Ratio of count_close_level [0.702, 0.102, 0.434]\n",
    "dict_items([(9, 0.236), (1, 0.149), (2, 0.204), (3, 0.074), (4, 0.038)])\n",
    "\n",
    "\n",
    "0.6000000000000001\n",
    "train_set:\n",
    "Ratio of count_right_path Ratio of count_right_level Ratio of count_close_level [0.784, 0.094, 0.429]\n",
    "dict_items([(3, 0.099), (1, 0.219), (2, 0.264), (9, 0.182), (4, 0.019)])\n",
    "test_set\n",
    "Ratio of count_right_path Ratio of count_right_level Ratio of count_close_level [0.749, 0.085, 0.44]\n",
    "dict_items([(4, 0.028), (9, 0.185), (1, 0.204), (2, 0.247), (3, 0.085)])\n",
    "\n",
    "\n",
    "0.7000000000000001\n",
    "train_set:\n",
    "Ratio of count_right_path Ratio of count_right_level Ratio of count_close_level [0.835, 0.11, 0.493]\n",
    "dict_items([(2, 0.312), (1, 0.288), (3, 0.092), (9, 0.137), (4, 0.006)])\n",
    "test_set\n",
    "Ratio of count_right_path Ratio of count_right_level Ratio of count_close_level [0.823, 0.109, 0.534]\n",
    "dict_items([(3, 0.087), (9, 0.126), (1, 0.279), (2, 0.311), (4, 0.021)])\n",
    "\n",
    "\n",
    "0.8\n",
    "train_set:\n",
    "Ratio of count_right_path Ratio of count_right_level Ratio of count_close_level [0.877, 0.135, 0.517]\n",
    "dict_items([(2, 0.307), (1, 0.363), (3, 0.086), (4, 0.007), (9, 0.115)])\n",
    "test_set\n",
    "Ratio of count_right_path Ratio of count_right_level Ratio of count_close_level [0.868, 0.119, 0.553]\n",
    "dict_items([(2, 0.311), (1, 0.381), (3, 0.064), (4, 0.015), (9, 0.098)])\n",
    "\n",
    "\n",
    "0.9\n",
    "train_set:\n",
    "Ratio of count_right_path Ratio of count_right_level Ratio of count_close_level [0.904, 0.093, 0.568]\n",
    "dict_items([(1, 0.645), (2, 0.215), (3, 0.011), (9, 0.031), (4, 0.003)])\n",
    "test_set\n",
    "Ratio of count_right_path Ratio of count_right_level Ratio of count_close_level [0.904, 0.079, 0.583]\n",
    "dict_items([(2, 0.2), (1, 0.681), (9, 0.021), (3, 0.002)])\n",
    "\n",
    "\n",
    "1.0\n",
    "train_set:\n",
    "Ratio of count_right_path Ratio of count_right_level Ratio of count_close_level [0.92, 0.002, 0.591]\n",
    "dict_items([(1, 0.92)])\n",
    "test_set\n",
    "Ratio of count_right_path Ratio of count_right_level Ratio of count_close_level [0.909, 0.002, 0.583]\n",
    "dict_items([(1, 0.909)])"
   ]
  },
  {
   "cell_type": "code",
   "execution_count": null,
   "metadata": {},
   "outputs": [],
   "source": []
  },
  {
   "cell_type": "markdown",
   "metadata": {},
   "source": [
    "**Hierarchical Classification**\n",
    "\n",
    "In the **top-down approach**, in the training phase, the class hierarchy is processed one\n",
    "level at a time, producing one or more classifiers for each class level. In the test phase,\n",
    "each example is classified in a top-down fashion, as follows. \n",
    "\n",
    "First, the test example is assigned to one or more classes by the first-level classifier(s). \n",
    "\n",
    "Then the second level classifier(s) will assign to this example one or more sub-classes of the class(es) predicted\n",
    "at the first level, and so on, until the example’s class(es) is(are) predicted at the deepest\n",
    "possible level.\n",
    "\n",
    "In order to produce a hierarchical set of classifiers in the top-down approach, we can\n",
    "either train a single classifier per class level or train multiple classifiers per level. In the\n",
    "former case, we use a multi-class classification algorithm. Thus, at each class level, we\n",
    "build a classifier that predicts the class(es) of an example at that level. \n",
    "\n",
    "**Plan:**\n",
    "\n",
    "At each node, build a classifier? And then save all the calssifiers?"
   ]
  },
  {
   "cell_type": "markdown",
   "metadata": {},
   "source": [
    "# NO-hierarchical part"
   ]
  },
  {
   "cell_type": "code",
   "execution_count": null,
   "metadata": {},
   "outputs": [],
   "source": [
    "# same as the part in the begining of this notebook\n",
    "\n",
    "# data_split = list(map(lambda x: os.path.normpath(x).split(os.sep), data))\n",
    "# data_drop_single = list(filter(lambda x: len(x)>1, data_split)) #change to len(x)>1 since solver needs >=2 classes!!!!\n",
    "# file_name = list(map(lambda x: x[-1], data_drop_single))\n",
    "# file_name_html = [html.unescape(x) for x in file_name]\n",
    "# file_name_underscore = [x.lower().replace(\"_\", \" \") for x in file_name_html]\n",
    "# file_name_word_split = [re.findall(r\"[\\w']+\", x) for x in file_name_underscore]\n",
    "# file_name_final = [' '.join(x) for x in file_name_word_split]        \n",
    "\n",
    "# #file_names_col = np.array(file_name_final).reshape(-1,1)\n",
    "\n",
    "\n",
    "# file_labels = list(map(lambda x: x[:-1], data_drop_single))\n",
    "# df_labels = pd.DataFrame(data = file_labels)\n",
    "# df_paths = pd.DataFrame(data = df_labels[0])\n",
    "# for i in range(1, df_labels.shape[1]):\n",
    "#     df_paths[i] = df_labels[i]\n",
    "\n",
    "#     df_paths.loc[pd.notna(df_labels[i]), i] = df_paths[i-1].map(str) + '/' + df_paths[i]\n",
    "    \n",
    "# df_paths.replace('None', np.nan, inplace=True)\n",
    "# df_paths[-1] = 'dummy'\n",
    "# df_paths = df_paths.astype('category', copy = False)\n",
    "\n"
   ]
  },
  {
   "cell_type": "markdown",
   "metadata": {},
   "source": [
    "# feature Vectorizition"
   ]
  },
  {
   "cell_type": "code",
   "execution_count": null,
   "metadata": {},
   "outputs": [],
   "source": [
    "# #TfidfVectorizer is Equivalent to CountVectorizer followed by TfidfTransformer.\n",
    "# tfidf = TfidfVectorizer(sublinear_tf=True, min_df=8, norm='l2', encoding='latin-1', \\\n",
    "#                         ngram_range=(1, 2), stop_words='english') \n",
    "# features = tfidf.fit_transform(df.file_name).toarray()\n",
    "# labels = df.main_folder\n",
    "# features.shape"
   ]
  },
  {
   "cell_type": "markdown",
   "metadata": {},
   "source": [
    "# equivalent:"
   ]
  },
  {
   "cell_type": "code",
   "execution_count": null,
   "metadata": {},
   "outputs": [],
   "source": [
    "count_vect = CountVectorizer(min_df=8, encoding='latin-1', \\\n",
    "                    ngram_range=(1, 2), stop_words='english')\n",
    "\n",
    "X_train_counts = count_vect.fit_transform(file_name_final )\n",
    "tfidf_transformer = TfidfTransformer(norm='l2', use_idf=True, smooth_idf=True, sublinear_tf=True)\n",
    "\n",
    "X_train_tfidf = tfidf_transformer.fit_transform(X_train_counts)\n",
    "\n",
    "features = X_train_tfidf.toarray()\n",
    "labels = df_paths[0]\n",
    "features.shape"
   ]
  },
  {
   "cell_type": "code",
   "execution_count": null,
   "metadata": {},
   "outputs": [],
   "source": [
    "tfidf = TfidfVectorizer(sublinear_tf=True, min_df=5, norm='l2', encoding='latin-1', ngram_range=(1, 2), stop_words='english')\n",
    "features = tfidf.fit_transform(file_name_final ).toarray()"
   ]
  },
  {
   "cell_type": "markdown",
   "metadata": {},
   "source": [
    "# visualize output label"
   ]
  },
  {
   "cell_type": "code",
   "execution_count": null,
   "metadata": {},
   "outputs": [],
   "source": [
    "N = 3\n",
    "for category_id in df_paths[0].cat.categories.tolist():\n",
    "    features_chi2 = chi2(features, labels == category_id)\n",
    "    indices = np.argsort(features_chi2[0])\n",
    "    feature_names = np.array(tfidf.get_feature_names())[indices]\n",
    "    unigrams = [v for v in feature_names if len(v.split(' ')) == 1]\n",
    "    bigrams = [v for v in feature_names if len(v.split(' ')) == 2]\n",
    "    print(\"# '{}':\".format(category_id))\n",
    "    print(\"  . Most correlated unigrams:\\n. {}\".format('\\n. '.join(unigrams[-N:])))\n",
    "#     print(\"  . Most correlated bigrams:\\n. {}\\n\".format('\\n. '.join(bigrams[-N:])))"
   ]
  },
  {
   "cell_type": "markdown",
   "metadata": {},
   "source": [
    "# Model Selection Based on First Folder"
   ]
  },
  {
   "cell_type": "code",
   "execution_count": null,
   "metadata": {},
   "outputs": [],
   "source": [
    "models = [\n",
    "    RandomForestClassifier(n_estimators=200, max_depth=3, random_state=0),\n",
    "    LinearSVC(),\n",
    "    MultinomialNB(),\n",
    "    LogisticRegression(random_state=0),\n",
    "]\n",
    "CV = 10\n",
    "cv_df = pd.DataFrame(index=range(CV * len(models)))\n",
    "entries = []\n",
    "for model in models:\n",
    "    model_name = model.__class__.__name__\n",
    "    accuracies = cross_val_score(model, features, labels, scoring='accuracy', cv=CV)\n",
    "    for fold_idx, accuracy in enumerate(accuracies):\n",
    "        entries.append((model_name, fold_idx, accuracy))\n",
    "        cv_df = pd.DataFrame(entries, columns=['model_name', 'fold_idx', 'accuracy'])"
   ]
  },
  {
   "cell_type": "code",
   "execution_count": null,
   "metadata": {},
   "outputs": [],
   "source": [
    "fig = plt.figure(figsize=(8,6))\n",
    "sns.boxplot(x='model_name', y='accuracy', data=cv_df)\n",
    "sns.stripplot(x='model_name', y='accuracy', data=cv_df, \n",
    "              size=8, jitter=True, edgecolor=\"gray\", linewidth=2)\n",
    "plt.show()"
   ]
  },
  {
   "cell_type": "code",
   "execution_count": null,
   "metadata": {
    "scrolled": true
   },
   "outputs": [],
   "source": [
    "cv_df.groupby('model_name').accuracy.mean()"
   ]
  },
  {
   "cell_type": "markdown",
   "metadata": {},
   "source": [
    "# Confusin Matrix"
   ]
  },
  {
   "cell_type": "code",
   "execution_count": null,
   "metadata": {},
   "outputs": [],
   "source": [
    "#model = LinearSVC()\n",
    "model = LogisticRegression(random_state=0)\n",
    "X_train, X_test, y_train, y_test, indices_train, indices_test = \\\n",
    "train_test_split(features, labels, df_paths.index, test_size=0.2, random_state=0)\n",
    "model.fit(X_train, y_train)\n",
    "y_pred = model.predict(X_test)\n",
    "\n",
    "\n",
    "from sklearn.metrics import confusion_matrix\n",
    "\n",
    "categ_labels = df_paths[0].cat.categories.tolist()\n",
    "conf_mat = confusion_matrix(y_test, y_pred,labels=categ_labels)\n",
    "fig, ax = plt.subplots(figsize=(10,10))\n",
    "sns.heatmap(conf_mat, annot=True, fmt='d',\n",
    "            xticklabels=categ_labels, yticklabels=categ_labels)\n",
    "plt.ylabel('Actual')\n",
    "plt.xlabel('Predicted')\n",
    "plt.show()\n"
   ]
  },
  {
   "cell_type": "markdown",
   "metadata": {},
   "source": [
    "## fucntion for main folder prediction"
   ]
  },
  {
   "cell_type": "code",
   "execution_count": null,
   "metadata": {},
   "outputs": [],
   "source": []
  },
  {
   "cell_type": "code",
   "execution_count": null,
   "metadata": {},
   "outputs": [],
   "source": [
    "# import pandas as pd\n",
    "# import numpy as np\n",
    "# import os\n",
    "# import glob\n",
    "# import random\n",
    "# import string\n",
    "# import html\n",
    "# import re\n",
    "# from sklearn.feature_extraction.text import TfidfVectorizer, CountVectorizer, TfidfTransformer\n",
    "# from sklearn.svm import LinearSVC\n",
    "# import pickle\n",
    "\n",
    "\n",
    "# def ModelIt(file_name_input, file_path_input):\n",
    "#     model_train(file_path_input)\n",
    "#     path_pred = model_predict(file_name_input)\n",
    "#     return path_pred\n",
    "\n",
    "# def model_train( file_path_input):\n",
    "\n",
    "#     if file_path_input == '':\n",
    "#         file_path_input = os.path.abspath(os.path.join(os.path.dirname(__file__), os.path.pardir)) \\\n",
    "#         # the expression returns the full path name of the executing script in a multiplatform-safe way. \n",
    "# #         No need to hardwire any directions, that's why it is so useful.\n",
    "\n",
    "#     root_dir = file_path_input\n",
    "#     data = []\n",
    "#     for filename in glob.iglob(root_dir + '**/*', recursive=True):\n",
    "#          data.append(os.path.relpath(filename, root_dir))\n",
    "#     #print(data)\n",
    "#     data_split = list(map(lambda x: os.path.normpath(x).split(os.sep), data))\n",
    "#     data_drop_single = list(filter(lambda x: len(x)>1, data_split))\n",
    "#     file_name = list(map(lambda x: x[-1], data_drop_single))\n",
    "#     file_name_html = [html.unescape(x) for x in file_name]\n",
    "#     file_name_underscore = [x.replace(\"_\", \" \") for x in file_name_html]\n",
    "#     file_name_word_split = [re.findall(r\"[\\w']+\", x) for x in file_name_underscore]\n",
    "#     file_name_final = [' '.join(x) for x in file_name_word_split]\n",
    "\n",
    "#     data_first_folder = list(map(lambda x: x[0], data_drop_single))\n",
    "#     data_1_folder = np.array([data_first_folder, file_name_final]).transpose()\n",
    "\n",
    "#     df = pd.DataFrame(data = data_1_folder, columns=['main_folder', 'file_name'])\n",
    "#     df.main_folder = df.main_folder.astype('category',copy=False)\n",
    "#     df.file_name = df.file_name.astype('str', copy = False)\n",
    "    \n",
    "#     X_train = df['file_name']\n",
    "#     y_train = df['main_folder']\n",
    "#     count_vect = CountVectorizer(min_df=8, encoding='latin-1', \\\n",
    "#                         ngram_range=(1, 2), stop_words='english')\n",
    "#     X_train_counts = count_vect.fit_transform(X_train)\n",
    "#     tfidf_transformer = TfidfTransformer(norm='l2', use_idf=True, smooth_idf=True, sublinear_tf=True)\n",
    "\n",
    "#     X_train_tfidf = tfidf_transformer.fit_transform(X_train_counts)\n",
    "\n",
    "#     clf = LinearSVC(random_state=0)\n",
    "\n",
    "#     clf.fit(X_train_tfidf, y_train)\n",
    "#     #After fitting the training set, let’s make some predictions.\n",
    "#     # put file_name inside a []\n",
    "\n",
    "#     pickle.dump(clf, open('clf_folder_picker', 'wb'))\n",
    "#     pickle.dump(count_vect, open('count_vect', 'wb'))\n",
    "    \n",
    "# def model_predict(file_name_input):\n",
    "#     clf = pickle.load(open('clf_folder_picker', 'rb'))\n",
    "#     count_vect = pickle.load(open('count_vect', 'rb'))\n",
    "    \n",
    "#     y_pred = clf.predict(count_vect.transform([file_name_input]))\n",
    "   \n",
    "#     # abs_file_path = os.path.join('/Users/wentingchen/Documents/',y_pred[0])\n",
    "#     path_pred = y_pred[0]\n",
    "#     return path_pred\n",
    "\n",
    "\n"
   ]
  },
  {
   "cell_type": "code",
   "execution_count": null,
   "metadata": {},
   "outputs": [],
   "source": [
    "# ModelIt('summer.png', '/Users/wentingchen/Documents/Folder_Sample/')"
   ]
  },
  {
   "cell_type": "code",
   "execution_count": null,
   "metadata": {},
   "outputs": [],
   "source": []
  }
 ],
 "metadata": {
  "kernelspec": {
   "display_name": "Python 3",
   "language": "python",
   "name": "python3"
  },
  "language_info": {
   "codemirror_mode": {
    "name": "ipython",
    "version": 3
   },
   "file_extension": ".py",
   "mimetype": "text/x-python",
   "name": "python",
   "nbconvert_exporter": "python",
   "pygments_lexer": "ipython3",
   "version": "3.6.5"
  }
 },
 "nbformat": 4,
 "nbformat_minor": 2
}

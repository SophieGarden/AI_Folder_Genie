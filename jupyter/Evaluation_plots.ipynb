{
 "cells": [
  {
   "cell_type": "code",
   "execution_count": null,
   "metadata": {},
   "outputs": [],
   "source": [
    "0.0\n",
    "train_set:\n",
    "dict_items([(5, 0.419), (3, 0.046), (4, 0.026), (2, 0.007), (1, 0.003)])\n",
    "Ratio of count_right_path Ratio of count_right_level [0.502, 0.485]\n",
    "count_diff\n",
    " [0.485, 0.015, 0.002, 0.0, 0.0]\n",
    "\n",
    "\n",
    "test_set\n",
    "dict_items([(5, 0.38), (3, 0.036), (2, 0.011), (4, 0.022), (1, 0.003)])\n",
    "Ratio of count_right_path Ratio of count_right_level [0.452, 0.435]\n",
    "count_diff\n",
    " [0.435, 0.016, 0.001, 0.0, 0.0]\n",
    "\n",
    "\n",
    "\n",
    "0.1\n",
    "train_set:\n",
    "dict_items([(5, 0.415), (3, 0.06), (2, 0.008), (4, 0.032), (1, 0.003)])\n",
    "Ratio of count_right_path Ratio of count_right_level [0.518, 0.484]\n",
    "count_diff\n",
    " [0.484, 0.029, 0.006, 0.0, 0.0]\n",
    "\n",
    "\n",
    "test_set\n",
    "dict_items([(5, 0.376), (3, 0.053), (2, 0.011), (4, 0.029), (1, 0.003)])\n",
    "Ratio of count_right_path Ratio of count_right_level [0.472, 0.436]\n",
    "count_diff\n",
    " [0.436, 0.032, 0.004, 0.0, 0.0]\n",
    "\n",
    "\n",
    "\n",
    "0.2\n",
    "train_set:\n",
    "dict_items([(5, 0.407), (4, 0.041), (3, 0.099), (2, 0.019), (1, 0.003)])\n",
    "Ratio of count_right_path Ratio of count_right_level [0.568, 0.498]\n",
    "count_diff\n",
    " [0.498, 0.047, 0.021, 0.003, 0.0]\n",
    "\n",
    "\n",
    "test_set\n",
    "dict_items([(4, 0.04), (5, 0.367), (3, 0.082), (2, 0.02), (1, 0.003)])\n",
    "Ratio of count_right_path Ratio of count_right_level [0.512, 0.442]\n",
    "count_diff\n",
    " [0.442, 0.051, 0.016, 0.002, 0.0]\n",
    "\n",
    "\n",
    "\n",
    "0.30000000000000004\n",
    "train_set:\n",
    "dict_items([(5, 0.394), (4, 0.045), (3, 0.108), (2, 0.043), (1, 0.006)])\n",
    "Ratio of count_right_path Ratio of count_right_level [0.596, 0.483]\n",
    "count_diff\n",
    " [0.483, 0.06, 0.033, 0.018, 0.001]\n",
    "\n",
    "\n",
    "test_set\n",
    "dict_items([(4, 0.041), (5, 0.353), (3, 0.099), (2, 0.04), (1, 0.005)])\n",
    "Ratio of count_right_path Ratio of count_right_level [0.538, 0.428]\n",
    "count_diff\n",
    " [0.428, 0.062, 0.029, 0.019, 0.001]\n",
    "\n",
    "\n",
    "\n",
    "0.4\n",
    "train_set:\n",
    "dict_items([(5, 0.31), (4, 0.226), (3, 0.12), (1, 0.071), (2, 0.037)])\n",
    "Ratio of count_right_path Ratio of count_right_level [0.763, 0.393]\n",
    "count_diff\n",
    " [0.393, 0.257, 0.052, 0.024, 0.038]\n",
    "\n",
    "\n",
    "test_set\n",
    "dict_items([(4, 0.207), (1, 0.074), (5, 0.3), (2, 0.033), (3, 0.116)])\n",
    "Ratio of count_right_path Ratio of count_right_level [0.73, 0.368]\n",
    "count_diff\n",
    " [0.368, 0.243, 0.052, 0.021, 0.046]\n",
    "\n",
    "\n",
    "\n",
    "0.5\n",
    "train_set:\n",
    "dict_items([(5, 0.294), (4, 0.224), (3, 0.125), (1, 0.097), (2, 0.052)])\n",
    "Ratio of count_right_path Ratio of count_right_level [0.791, 0.367]\n",
    "count_diff\n",
    " [0.367, 0.268, 0.069, 0.036, 0.053]\n",
    "\n",
    "\n",
    "test_set\n",
    "dict_items([(4, 0.208), (1, 0.094), (5, 0.294), (2, 0.054), (3, 0.118)])\n",
    "Ratio of count_right_path Ratio of count_right_level [0.768, 0.358]\n",
    "count_diff\n",
    " [0.358, 0.257, 0.06, 0.037, 0.055]\n",
    "\n",
    "\n",
    "\n",
    "0.6000000000000001\n",
    "train_set:\n",
    "dict_items([(5, 0.276), (4, 0.226), (3, 0.108), (1, 0.131), (2, 0.066)])\n",
    "Ratio of count_right_path Ratio of count_right_level [0.806, 0.341]\n",
    "count_diff\n",
    " [0.341, 0.271, 0.07, 0.05, 0.075]\n",
    "\n",
    "\n",
    "test_set\n",
    "dict_items([(4, 0.21), (1, 0.13), (5, 0.28), (3, 0.098), (2, 0.068)])\n",
    "Ratio of count_right_path Ratio of count_right_level [0.787, 0.339]\n",
    "count_diff\n",
    " [0.339, 0.255, 0.065, 0.048, 0.08]\n",
    "\n",
    "\n",
    "\n",
    "0.7000000000000001\n",
    "train_set:\n",
    "dict_items([(5, 0.26), (4, 0.218), (3, 0.086), (1, 0.17), (2, 0.09)])\n",
    "Ratio of count_right_path Ratio of count_right_level [0.824, 0.306]\n",
    "count_diff\n",
    " [0.306, 0.281, 0.078, 0.064, 0.096]\n",
    "\n",
    "\n",
    "test_set\n",
    "dict_items([(4, 0.207), (1, 0.168), (5, 0.268), (2, 0.087), (3, 0.079)])\n",
    "Ratio of count_right_path Ratio of count_right_level [0.808, 0.31]\n",
    "count_diff\n",
    " [0.31, 0.264, 0.077, 0.059, 0.099]\n",
    "\n",
    "\n",
    "\n",
    "0.8\n",
    "train_set:\n",
    "dict_items([(5, 0.243), (4, 0.207), (3, 0.086), (1, 0.216), (2, 0.083)])\n",
    "Ratio of count_right_path Ratio of count_right_level [0.835, 0.288]\n",
    "count_diff\n",
    " [0.288, 0.269, 0.083, 0.069, 0.126]\n",
    "\n",
    "\n",
    "test_set\n",
    "dict_items([(4, 0.2), (1, 0.2), (5, 0.248), (2, 0.091), (3, 0.078)])\n",
    "Ratio of count_right_path Ratio of count_right_level [0.818, 0.289]\n",
    "count_diff\n",
    " [0.289, 0.257, 0.088, 0.061, 0.123]\n",
    "\n",
    "\n",
    "\n",
    "0.9\n",
    "train_set:\n",
    "dict_items([(5, 0.18), (4, 0.25), (2, 0.076), (1, 0.28), (3, 0.063)])\n",
    "Ratio of count_right_path Ratio of count_right_level [0.849, 0.214]\n",
    "count_diff\n",
    " [0.214, 0.31, 0.08, 0.078, 0.168]\n",
    "\n",
    "\n",
    "test_set\n",
    "dict_items([(4, 0.236), (1, 0.271), (2, 0.076), (5, 0.193), (3, 0.05)])\n",
    "Ratio of count_right_path Ratio of count_right_level [0.824, 0.222]\n",
    "count_diff\n",
    " [0.222, 0.291, 0.076, 0.071, 0.165]\n",
    "\n",
    "\n",
    "\n",
    "1.0\n",
    "train_set:\n",
    "dict_items([(1, 0.968)])\n",
    "Ratio of count_right_path Ratio of count_right_level [0.968, 0.0]\n",
    "count_diff\n",
    " [0.0, 0.019, 0.116, 0.064, 0.768]\n",
    "\n",
    "\n",
    "test_set\n",
    "dict_items([(1, 0.966)])\n",
    "Ratio of count_right_path Ratio of count_right_level [0.966, 0.001]\n",
    "count_diff\n",
    " [0.001, 0.02, 0.103, 0.062, 0.781]"
   ]
  },
  {
   "cell_type": "code",
   "execution_count": 3,
   "metadata": {},
   "outputs": [],
   "source": [
    "import numpy as np\n",
    "import matplotlib.pyplot as plt\n",
    "import seaborn as sns\n",
    "import matplotlib\n",
    "from matplotlib import rc\n",
    "%matplotlib inline\n",
    "\n",
    "titlefontsize=20\n",
    "labelfontsize=20\n",
    "rc('font',**{'family':'sans-serif','sans-serif':['Helvetica'], 'size': titlefontsize})\n",
    "## for Palatino and other serif fonts use:\n",
    "sns.set_style('ticks')\n",
    "#rc('font',**{'family':'serif','serif':['Palatino'], 'size': 16})\n",
    "rc('text', usetex=False)\n",
    "rc('xtick', labelsize=labelfontsize)\n",
    "rc('ytick', labelsize=labelfontsize)\n",
    "matplotlib.rcParams.update({'font.size': labelfontsize})\n",
    "sns.set_context(\"paper\", rc={\"font.size\":labelfontsize,\"axes.titlesize\":labelfontsize,\"axes.labelsize\":labelfontsize})   "
   ]
  },
  {
   "cell_type": "code",
   "execution_count": 23,
   "metadata": {},
   "outputs": [
    {
     "name": "stdout",
     "output_type": "stream",
     "text": [
      "[0.35828857 0.32680658 0.13204188 0.0819427  0.10092026]\n"
     ]
    },
    {
     "data": {
      "text/plain": [
       "1.0"
      ]
     },
     "execution_count": 23,
     "metadata": {},
     "output_type": "execute_result"
    }
   ],
   "source": [
    "height = np.array([0.35828857, 0.32680658, 0.13204188, 0.0819427 , 0.10092026])\n",
    "norm1 = height / np.sum(height)\n",
    "print(norm1)\n",
    "norm1.sum()"
   ]
  },
  {
   "cell_type": "code",
   "execution_count": 8,
   "metadata": {},
   "outputs": [
    {
     "data": {
      "text/plain": [
       "0.68603214"
      ]
     },
     "execution_count": 8,
     "metadata": {},
     "output_type": "execute_result"
    }
   ],
   "source": [
    "0.37824475+0.30778739"
   ]
  },
  {
   "cell_type": "code",
   "execution_count": 24,
   "metadata": {},
   "outputs": [
    {
     "ename": "SyntaxError",
     "evalue": "invalid syntax (<ipython-input-24-3f83f1929f0b>, line 1)",
     "output_type": "error",
     "traceback": [
      "\u001b[0;36m  File \u001b[0;32m\"<ipython-input-24-3f83f1929f0b>\"\u001b[0;36m, line \u001b[0;32m1\u001b[0m\n\u001b[0;31m    data = np.array([0.35828857 0.32680658 0.13204188 0.0819427  0.10092026])\u001b[0m\n\u001b[0m                                         ^\u001b[0m\n\u001b[0;31mSyntaxError\u001b[0m\u001b[0;31m:\u001b[0m invalid syntax\n"
     ]
    }
   ],
   "source": [
    "data = np.array([0.35828857 0.32680658 0.13204188 0.0819427  0.10092026])\n",
    "temp = data.argsort()\n",
    "ranks = np.empty_like(temp)\n",
    "ranks[temp] = np.arange(len(data))\n",
    "ranks"
   ]
  },
  {
   "cell_type": "code",
   "execution_count": 25,
   "metadata": {},
   "outputs": [
    {
     "data": {
      "text/plain": [
       "0.68509515"
      ]
     },
     "execution_count": 25,
     "metadata": {},
     "output_type": "execute_result"
    }
   ],
   "source": [
    "0.35828857 + 0.32680658"
   ]
  },
  {
   "cell_type": "code",
   "execution_count": 27,
   "metadata": {},
   "outputs": [
    {
     "data": {
      "image/png": "[encoded data removed]",
      "text/plain": [
       "<Figure size 720x576 with 1 Axes>"
      ]
     },
     "metadata": {},
     "output_type": "display_data"
    }
   ],
   "source": [
    "#, index= ['0','1','2','3','4']\n",
    "\n",
    "\n",
    "\n",
    "import numpy as np, matplotlib.pyplot as plt, seaborn as sns\n",
    "sns.set(style=\"whitegrid\", color_codes=True)\n",
    "\n",
    "\n",
    "pal = sns.color_palette(\"Greens_d\", len(data))\n",
    "\n",
    "data = np.array([0.35828857, 0.32680658, 0.13204188, 0.0819427,  0.10092026])*100\n",
    "\n",
    "temp = data.argsort()\n",
    "rank = np.empty_like(temp)\n",
    "rank[temp] = np.arange(len(data))\n",
    "\n",
    " # http://stackoverflow.com/a/6266510/1628638\n",
    "\n",
    "    \n",
    "fig, ax = plt.subplots(figsize=(10,8))\n",
    "plt.ylim((0,39.95))\n",
    "\n",
    "    \n",
    "    \n",
    "    \n",
    "sns.barplot(x = list(range(5)), y = data, palette=np.array(pal[::-1])[rank],capsize=1)\n",
    "\n",
    "\n",
    "ax.tick_params(axis='x', labelsize=20)\n",
    "ax.tick_params(axis='y', labelsize=20)\n",
    "#plt.xlabel('Distance from correct folder', fontsize=20)\n",
    "\n",
    "#sns.barplot(data)\n",
    "plt.show()"
   ]
  },
  {
   "cell_type": "code",
   "execution_count": 28,
   "metadata": {},
   "outputs": [
    {
     "data": {
      "image/png": "[encoded data removed]",
      "text/plain": [
       "<Figure size 576x432 with 1 Axes>"
      ]
     },
     "metadata": {},
     "output_type": "display_data"
    }
   ],
   "source": [
    "height = np.array([0.8219, 1-0.8219])*100\n",
    "bars = ['right path','wrong path']\n",
    "fig = plt.figure(figsize=(8,6))\n",
    "sns.barplot(x = bars, y = height, palette = ['limegreen','darkred'])\n",
    "plt.ylim((0,100))\n",
    "\n",
    "#plt.xticks(y_pos, bars)\n",
    "plt.tick_params(axis='x', labelsize=20)\n",
    "plt.tick_params(axis='y', labelsize=20)"
   ]
  },
  {
   "cell_type": "markdown",
   "metadata": {},
   "source": [
    "# prediction depth"
   ]
  },
  {
   "cell_type": "code",
   "execution_count": 13,
   "metadata": {},
   "outputs": [
    {
     "data": {
      "text/plain": [
       "[4.0, 5.0, 2.0, 3.0, 1.0]"
      ]
     },
     "execution_count": 13,
     "metadata": {},
     "output_type": "execute_result"
    }
   ],
   "source": [
    "[x[1] for x in np.sort([(4, 0.206), (5, 0.248), (2, 0.082), (3, 0.116), (1, 0.158)])]"
   ]
  },
  {
   "cell_type": "code",
   "execution_count": 59,
   "metadata": {},
   "outputs": [
    {
     "data": {
      "text/plain": [
       "[0.2, 0.091, 0.078, 0.2, 0.248]"
      ]
     },
     "execution_count": 59,
     "metadata": {},
     "output_type": "execute_result"
    }
   ],
   "source": [
    "[0.2,0.091,0.078,0.2,0.248]"
   ]
  },
  {
   "cell_type": "code",
   "execution_count": 15,
   "metadata": {},
   "outputs": [
    {
     "data": {
      "text/plain": [
       "[0.158, 0.116, 0.082, 0.248, 0.206]"
      ]
     },
     "execution_count": 15,
     "metadata": {},
     "output_type": "execute_result"
    }
   ],
   "source": [
    "[0.158,0.116,0.082,0.248,0.206]"
   ]
  },
  {
   "cell_type": "code",
   "execution_count": null,
   "metadata": {},
   "outputs": [],
   "source": [
    "1: 0.155, 2: 0.07, 3: 0.119, 4: 0.244, 5: 0.244"
   ]
  },
  {
   "cell_type": "code",
   "execution_count": 29,
   "metadata": {
    "scrolled": false
   },
   "outputs": [
    {
     "data": {
      "image/png": "[encoded data removed]",
      "text/plain": [
       "<Figure size 720x576 with 1 Axes>"
      ]
     },
     "metadata": {},
     "output_type": "display_data"
    }
   ],
   "source": [
    "sns.set(style=\"whitegrid\", color_codes=True)\n",
    "\n",
    "\n",
    "pal = sns.color_palette(\"Greens_d\", len(data))\n",
    "\n",
    "data = np.array([0.155,0.07,0.119,0.244,0.244])*100\n",
    "\n",
    "temp = data.argsort()\n",
    "rank = np.empty_like(temp)\n",
    "rank[temp] = np.arange(len(data))\n",
    "\n",
    " # http://stackoverflow.com/a/6266510/1628638\n",
    "\n",
    "    \n",
    "fig, ax = plt.subplots(figsize=(10,8))\n",
    "plt.ylim((0,25))\n",
    "\n",
    "    \n",
    "    \n",
    "    \n",
    "sns.barplot(x = list(range(1,6)), y = data, palette=np.array(pal[::-1])[rank],capsize=1)\n",
    "\n",
    "\n",
    "ax.tick_params(axis='x', labelsize=20)\n",
    "ax.tick_params(axis='y', labelsize=20)\n",
    "plt.xlabel('Predicted depth', fontsize=20)\n",
    "\n",
    "#sns.barplot(data)\n",
    "plt.show()"
   ]
  },
  {
   "cell_type": "code",
   "execution_count": 31,
   "metadata": {},
   "outputs": [
    {
     "data": {
      "text/plain": [
       "array([0.0010352 , 0.02380952, 0.10766046, 0.06418219, 0.80331263])"
      ]
     },
     "execution_count": 31,
     "metadata": {},
     "output_type": "execute_result"
    }
   ],
   "source": [
    "np.array([0.001, 0.023, 0.104, 0.062, 0.776])/np.sum([0.001, 0.023, 0.104, 0.062, 0.776])"
   ]
  },
  {
   "cell_type": "code",
   "execution_count": 33,
   "metadata": {
    "scrolled": false
   },
   "outputs": [
    {
     "data": {
      "image/png": "[encoded data removed]",
      "text/plain": [
       "<Figure size 576x432 with 1 Axes>"
      ]
     },
     "metadata": {},
     "output_type": "display_data"
    }
   ],
   "source": [
    "dist_hier = [0.35828857, 0.32680658, 0.13204188, 0.0819427,  0.10092026]\n",
    "dist_flat = [0.0010352 , 0.02380952, 0.10766046, 0.06418219, 0.80331263]\n",
    "\n",
    "\n",
    "x = np.array(range(len(dist_hier)))\n",
    "\n",
    "y1 = dist_hier\n",
    "y2 = dist_flat\n",
    "\n",
    "\n",
    "fig = plt.figure(figsize=(8,6))\n",
    "ax = plt.subplot(111)\n",
    "\n",
    "\n",
    "ax.bar(x-0.2, y1,width=0.2,color='g',align='center')\n",
    "ax.bar(x, y2,width=0.2,color='y',align='center')\n",
    "\n",
    "\n",
    "ind = np.arange(5)  # the x locations for the groups\n",
    "width = 0.27       # the width of the bars\n",
    "\n",
    "\n",
    "\n",
    "\n",
    "ax.set_ylabel('Distribution of Depths Diff')\n",
    "ax.set_xticks(ind+width)\n",
    "ax.set_xticklabels( ind )\n",
    "ax.legend( ('Hierarchical', '1-st folder') )\n",
    "\n",
    "def autolabel(rects):\n",
    "    for rect in rects:\n",
    "        h = rect.get_height()\n",
    "        ax.text(rect.get_x()+rect.get_width()/2., 1.05*h, '%d'%int(h),\n",
    "                ha='center', va='bottom')\n",
    "plt.show()"
   ]
  },
  {
   "cell_type": "code",
   "execution_count": null,
   "metadata": {},
   "outputs": [],
   "source": []
  }
 ],
 "metadata": {
  "kernelspec": {
   "display_name": "Python 3",
   "language": "python",
   "name": "python3"
  },
  "language_info": {
   "codemirror_mode": {
    "name": "ipython",
    "version": 3
   },
   "file_extension": ".py",
   "mimetype": "text/x-python",
   "name": "python",
   "nbconvert_exporter": "python",
   "pygments_lexer": "ipython3",
   "version": "3.6.5"
  }
 },
 "nbformat": 4,
 "nbformat_minor": 2
}

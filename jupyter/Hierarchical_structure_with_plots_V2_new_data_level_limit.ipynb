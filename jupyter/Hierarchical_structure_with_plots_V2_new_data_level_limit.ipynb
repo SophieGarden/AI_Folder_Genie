{
 "cells": [
  {
   "cell_type": "code",
   "execution_count": 1,
   "metadata": {
    "scrolled": true
   },
   "outputs": [
    {
     "name": "stderr",
     "output_type": "stream",
     "text": [
      "/Users/wentingchen/.virtualenvs/insight/lib/python3.6/site-packages/sklearn/ensemble/weight_boosting.py:29: DeprecationWarning: numpy.core.umath_tests is an internal NumPy module and should not be imported. It will be removed in a future NumPy release.\n",
      "  from numpy.core.umath_tests import inner1d\n"
     ]
    }
   ],
   "source": [
    "'''\n",
    "Ref:Multi-Class Text Classification with Scikit-Learn\n",
    "https://towardsdatascience.com/multi-class-text-classification-with-scikit-learn-12f1e60e0a9f\n",
    "\n",
    "'''\n",
    "import pandas as pd\n",
    "import numpy as np\n",
    "import matplotlib.pyplot as plt\n",
    "import seaborn as sns\n",
    "\n",
    "import os\n",
    "import glob\n",
    "import random\n",
    "import string\n",
    "import html\n",
    "import re\n",
    "import pickle\n",
    "\n",
    "from nltk.stem import PorterStemmer\n",
    "\n",
    "\n",
    "from sklearn.feature_extraction.text import TfidfVectorizer, CountVectorizer, TfidfTransformer\n",
    "from sklearn.feature_selection import chi2\n",
    "\n",
    "from sklearn.model_selection import train_test_split,cross_val_score\n",
    "from sklearn.naive_bayes import MultinomialNB\n",
    "from sklearn.linear_model import LogisticRegression\n",
    "from sklearn.ensemble import RandomForestClassifier\n",
    "from sklearn.svm import LinearSVC\n",
    "from sklearn.exceptions import NotFittedError"
   ]
  },
  {
   "cell_type": "markdown",
   "metadata": {},
   "source": [
    "# read file structure and get features and labels(df_paths)"
   ]
  },
  {
   "cell_type": "code",
   "execution_count": 2,
   "metadata": {},
   "outputs": [],
   "source": [
    "root_dir = '/Users/wentingchen/Documents/Folder_Sophie/' # '/' in the end!!!\n",
    "data = []\n",
    "for filename in glob.iglob(root_dir + '**/*', recursive=True):\n",
    "     data.append(os.path.relpath(filename, root_dir))  \n",
    "        "
   ]
  },
  {
   "cell_type": "code",
   "execution_count": 3,
   "metadata": {},
   "outputs": [
    {
     "data": {
      "text/plain": [
       "['Research/Hg/HgData_Processing/Hg-two-color-pump/10-12-2016/diff-T/diffeT_319C_1.lvm',\n",
       " 'Research/Hg/HgData_Processing/HgCellwithVaccum/266nmPumped/finaldata/348C/335nm-200uj-5.csv',\n",
       " 'pictures/vocation/09-19-2016-Indianapolis-IN/good ones/IMG_5442.JPG',\n",
       " 'Research/Hg/HgData_Processing/Hg-two-color-pump/10-13-2016/10-13-2016-energy-meter/Dye-laser-reflection-calibration-not-inside-oven/energymeter_21.lvm',\n",
       " 'Research/Hg/HgData_Processing/Hg-two-color-pump/Hg_TwoColor_Data_before_Oct_2016/09-17-2016/09-17-2016/430-435/test_737.lvm',\n",
       " 'CS/renter_eviction_project/eviction_analysis/output_15_6.png',\n",
       " 'Research/Hg/HgData_Processing/matlab/MatchCoutour_Hg3/380nm/ContourMatch0610.jpg',\n",
       " 'Research/Hg/HgData_Processing/Hg-two-color-pump/10-05-2016/410-411nm/data1_89.lvm',\n",
       " 'Research/XeI/XeI_Tom/Not_XeI/Xe2FreeFree/5-2g-20pts.fig',\n",
       " 'pictures/vocation/Morocco_Sep2017/IMG_20170911_104445',\n",
       " 'pictures/vocation/Morocco_Sep2017/IMG_20170913_101539.jpg',\n",
       " 'Research/Hg/HgData_Processing/Hg-two-color-pump/10-13-2016/420-430nm/data_68.lvm',\n",
       " 'Research/Hg/HgData_Processing/Hg-two-color-pump/Hg_TwoColor_Data_before_Oct_2016/09-17-2016/09-17-2016/434-435/test_381.lvm',\n",
       " 'pictures/vocation/West_Coast_2016/IMG_4696.JPG',\n",
       " 'Research/Hg/HgData_Processing/Hg-two-color-pump/10-16-2016/433-436nm/data_521.lvm',\n",
       " 'pictures/image/slides/Screen Shot 2018-09-27 at 9.11.24 PM.png',\n",
       " 'Research/YI/YI Data/Dec 20/700 C/YI3_2400_To_2800A_Time20-Dec-2014 12_07_56.jpg',\n",
       " 'pictures/vocation/Morocco_Sep2017/IMG_20170911_125721.jpg',\n",
       " 'Research/Hg/HgData_Processing/Hg-two-color-pump/10-15-2016/436/data_212.lvm',\n",
       " 'Research/Hg/HgData_Processing/HgCellwithVaccum/266nmPumped/finaldata/204C/335nm-200uj-3.csv',\n",
       " 'Research/Hg/HgData_Processing/Hg-two-color-pump/10-12-2016/diff-T/diffeT_284C_1.lvm',\n",
       " 'Research/Hg/HgData_Processing/Hg-two-color-pump/10-17-2016/435-439nm1017/data_507.lvm',\n",
       " 'Research/Books/Jin-EM/ins.pdf',\n",
       " 'Research/XeI/XeI_Tom/Not_XeI/Optimization/ZnOptimizations/zn_nu2085.mat',\n",
       " 'Research/Hg/HgData_Processing/Hg-two-color-pump/10-04-2016/412-424nm/data1_72.lvm',\n",
       " 'Research/Hg/HgData_Processing/HgCellwithVaccum/248nmPumped/11-2015V3/266C/355-1.csv',\n",
       " 'Research/Hg/HgData_Processing/Hg-two-color-pump/10-17-2016/435-439nm1017/data_485.lvm',\n",
       " 'Research/YI/YI Data/Dec 9/1000C/12091000-2.PNG',\n",
       " 'pictures/vocation/Morocco_Sep2017/IMG_20170909_153002.jpg',\n",
       " 'Research/XeI/XeI_SpectralSimulations/XeI_code_wendy/old_codes/Free_Wvfns_NCV3.m',\n",
       " 'Research/Hg/HgData_Processing/Hg-two-color-pump/10-05-2016/402-413nm/data1_141.lvm',\n",
       " 'pictures/vocation/West_Coast_2016/IMG_4818.JPG',\n",
       " 'Research/Hg/HgData_Processing/Hg-two-color-pump/10-16-2016/433-436nm/data_507.lvm',\n",
       " 'Research/Hg/HgData_Processing/Hg-two-color-pump/10-12-2016/485nm-414.5nm-420.5nm/data_62.lvm',\n",
       " 'Research/Hg/HgData_Processing/Hg-two-color-pump/Hg_TwoColor_Data_before_Oct_2016/09-17-2016/09-17-2016/430-435/test_356.lvm',\n",
       " 'Research/Hg/HgData_Processing/HgCellwithVaccum/266nmPumped/finaldata/309C/485nm-20uj-3.csv',\n",
       " 'Research/Hg/HgData_Processing/Hg-two-color-pump/10-17-2016/435-439nm1017/data_385.lvm',\n",
       " 'Research/Hg/HgData_Processing/Hg-two-color-pump/10-05-2016/402-413nm',\n",
       " 'Research/XeI/XeI_SpectralSimulations/XeI_code_wendy/old_codes/Bound_Wvfns_Wendy_NCV4.m',\n",
       " 'Research/Hg/HgData_Processing/Hg-two-color-pump/Hg_TwoColor_Data_before_Oct_2016/09-17-2016/09-17-2016/430-435/test_557.lvm',\n",
       " 'Research/Hg/Hg_paper_writing(2016)/states drawing/C2v-fig3.png',\n",
       " 'Research/Hg/HgData_Processing/Hg-two-color-pump/10-05-2016/390-404nm/data1_36.lvm',\n",
       " 'Research/Hg/HgData_Processing/Hg-two-color-pump/10-13-2016/420-430nm/data_84.lvm',\n",
       " 'Research/YI/YI Data/Jan 13/700C 7 units/YI3_9700_To_9900A_Time13-Jan-2015 16_15_33.jpg',\n",
       " 'Research/XeI/reference_and_previous_work/KrF/Improved KrF(B) and KrF(X) state potentials.pdf',\n",
       " 'Research/Hg/HgData_Processing/HgCellwithVaccum/248nmPumped/08-05-2015/152C/335nm-7.csv',\n",
       " 'Research/YI/YI Data/Feb 1/820C/YI3_7600_To_7800A_Time01-Feb-2015 17_43_20.jpg',\n",
       " 'Research/Hg/HgData_Processing/Hg-two-color-pump/10-16-2016/433-436nm/data_560.lvm',\n",
       " 'CS/renter_eviction_project/Renter-Eviction-Predict/python',\n",
       " 'CS/Udacity/data_sets/Klout-scores.xlsx',\n",
       " 'videos/DS_Videos/Introduction to Neural Networks Videos/16 - Error Functions.mp4',\n",
       " 'Research/Hg/HgData_Processing/Hg-two-color-pump/Hg_TwoColor_Data_before_Oct_2016/09-17-2016/09-17-2016/434-435/test_206.lvm',\n",
       " 'Research/Hg/HgData_Processing/Hg-two-color-pump/10-15-2016/436/data_61.lvm',\n",
       " 'Research/Hg/HgData_Processing/HgCellwithVaccum/266nmPumped/07-02-2015/218C/485nm-50uj-1.csv',\n",
       " 'CS/Udacity/DS_Nanodegree/exercises/deep-learning-master/face_generation/problem_unittests.py',\n",
       " 'Research/Hg/HgData_Processing/Hg-two-color-pump/10-12-2016/part1-395nm-404nm/data_76.lvm',\n",
       " 'Research/Hg/HgData_Processing/Hg-two-color-pump/10-05-2016/410-411nm/data1_147.lvm',\n",
       " 'Research/Hg/HgData_Processing/HgCellwithVaccum/266nmPumped/finaldata/218C/335nm-200uj-2.csv',\n",
       " 'Research/manuals/semicatalog-toc.pdf',\n",
       " 'Research/Hg/HgData_Processing/Hg-two-color-pump/10-16-2016/10-16-oscilliscope/1016blockblue-2.csv',\n",
       " 'Research/Hg/HgData_Processing/Hg-two-color-pump/10-13-2016/fist-time-data/420-430/data_33.lvm',\n",
       " 'Research/XeI/XeI_Tom/SpecSimLibraryValidation/NC_MAT_Synergy_Test.m~',\n",
       " 'Research/Hg/HgData_Processing/Hg-two-color-pump/10-17-2016/435-439nm1017/data_146.lvm',\n",
       " 'Research/Hg/HgData_Processing/Hg-two-color-pump/10-15-2016/436/data_411.lvm',\n",
       " 'Research/Hg/HgData_Processing/HgCellwithVaccum/266nmPumped/07-22-2015/218C/48335nm-200uj-3.csv',\n",
       " 'Research/Hg/HgData_Processing/HgCellwithVaccum/248nmPumped/08-07-2015/319C/335nm-5.csv',\n",
       " 'Research/XeI/XeI_Tom/Not_XeI/Optimization/LAFLX _SIMS/zn_nu2184.mat',\n",
       " 'Research/Hg/HgData_Processing/Hg-two-color-pump/10-17-2016/435-439nm1017/data_301.lvm',\n",
       " 'CS/renter_eviction_project/eviction_analysis/output_15_2.png',\n",
       " 'Research/Hg/HgData_Processing/Hg-two-color-pump/10-17-2016/435-439nm1017/data_292.lvm',\n",
       " 'pictures/vocation/Morocco_Sep2017/IMG_20170909_154901.jpg',\n",
       " 'CS/Udacity/DS_Nanodegree/DSND_Term1-master/lessons/DeepLearning/3_PyTorch/assets/autoencoder_1.png',\n",
       " 'Research/Hg/HgData_Processing/Hg-two-color-pump/Hg_TwoColor_Data_before_Oct_2016/09-17-2016/09-17-2016/430-435/test_769.lvm',\n",
       " 'Research/Hg/Hg-pape-writing-old/HgWendy.blg',\n",
       " 'Research/Hg/HgData_Processing/HgCellwithVaccum/266nmPumped/finaldata/284C/485nm-20uj-4.csv',\n",
       " 'pictures/vocation/09-19-2016-Indianapolis-IN/IMG_5325.JPG',\n",
       " 'Research/Hg/HgData_Processing/HgCellwithVaccum/248nmPumped/11-18-2015/237C/520-4.csv',\n",
       " 'Research/YI/YI Data/Feb 18/YI3_2700_To_3060A_Time18-Feb-2015 17_42_17.mat',\n",
       " 'Research/Hg/PhysRev.40.387-1932-Pressure Shift and Broadening of Spectral Lines.pdf',\n",
       " 'Research/Hg/HgData_Processing/Hg-two-color-pump/10-15-2016/436/data_666.lvm',\n",
       " 'videos/DS_Videos/Clustering+Subtitles/13 - Feature Scaling Example - lang_en.srt',\n",
       " 'pictures/vocation/09-19-2016-Indianapolis-IN/IMG_5542.JPG',\n",
       " 'Research/Hg/HgData_Processing/Hg-two-color-pump/Hg_TwoColor_Data_before_Oct_2016/09-17-2016/09-17-2016/430-435/test_276.lvm',\n",
       " 'Research/YI/YI Data/Feb 17/no active subtraction/10shots/YI3_7125_To_7170A_Time17-Feb-2015 17_34_32.jpg',\n",
       " 'Research/Hg/HgData_Processing/Hg-two-color-pump/10-13-2016/420-430nm/data_1.lvm',\n",
       " 'Research/Hg/HgData_Processing/HgCellwithVaccum/266nmPumped/06-25-2015/162C/20uj-485-4.csv',\n",
       " 'CS/Udacity/DS_Nanodegree/papers/Independent component analysis- algorithms and applications.pdf',\n",
       " 'Research/YI/YI_print for Gary/JMS 1999 Laser-Excited Fluorescence Spectra of Yttrium Monoiodide.pdf',\n",
       " 'Research/Hg/HgData_Processing/Hg-two-color-pump/10-05-2016/390-404nm/data1_34.lvm',\n",
       " 'Research/Hg/HgData_Processing/Hg-two-color-pump/10-12-2016/298C-403nm-406nm/diffeT_298C_15.lvm',\n",
       " 'Research/Hg/HgData_Processing/Hg-two-color-pump/Hg_TwoColor_Data_before_Oct_2016/09-17-2016/09-17-2016/430-435/test_1045.lvm',\n",
       " 'CS/Udacity/DS_Nanodegree/DSND_Term1-master/lessons/Supervised/4_ModelEvaluationMetrics/images/naivebayes.png',\n",
       " 'Research/Hg/HgData_Processing/Hg-two-color-pump/10-16-2016/433-436nm/data_318.lvm',\n",
       " 'Research/Hg/HgData_Processing/Hg-two-color-pump/10-17-2016/435-439nm1017/data_59.lvm',\n",
       " 'Research/Hg/HgData_Processing/Hg-two-color-pump/10-15-2016/436/data_47.lvm',\n",
       " 'Research/Hg/HgData_Processing/Hg-two-color-pump/10-15-2016/436/data_420.lvm',\n",
       " 'Research/XeI/XeI_Tom/Tom_exp/YAG_HeNe_TimeDep/yagonleft_maxcounts_677nmline_take3.jpg',\n",
       " 'CS/Git_hub_folders/DataScience_NanoDegree/deep_learning/Part 7 - Loading Image Data.ipynb',\n",
       " 'Research/XeI/XeI_Tom/Not_XeI/Xe2FreeFree/nnd.png',\n",
       " 'Research/Hg/HgData_Processing/Hg-two-color-pump/10-16-2016/433-436nm/data_245.lvm']"
      ]
     },
     "execution_count": 3,
     "metadata": {},
     "output_type": "execute_result"
    }
   ],
   "source": [
    "random.sample(data,100)"
   ]
  },
  {
   "cell_type": "code",
   "execution_count": 4,
   "metadata": {},
   "outputs": [],
   "source": [
    "# file_names_txt = 'file-path-classifier-data.txt'\n",
    "# file = open(file_names_txt,'r') \n",
    "\n",
    "# data = file.read().split('\\n')"
   ]
  },
  {
   "cell_type": "code",
   "execution_count": 5,
   "metadata": {},
   "outputs": [],
   "source": [
    "data_split = list(map(lambda x: os.path.normpath(x).split(os.sep), data))\n",
    "data_drop_single = list(filter(lambda x: len(x)>1, data_split)) #change to len(x)>1 since solver needs >=2 classes!!!!\n",
    "\n",
    "# file name engineering\n",
    "file_name = list(map(lambda x: x[-1], data_drop_single))\n",
    "\n",
    "file_name_html = [html.unescape(x) for x in file_name]\n",
    "file_name_underscore = [x.lower().replace(\"_\", \" \") for x in file_name_html]\n",
    "file_name_word_split = [re.findall(r\"[\\w']+\", x) for x in file_name_underscore]\n",
    "ps = PorterStemmer()\n",
    "word_stemmed = [(ps.stem(y) for y in x) for x in file_name_word_split]\n",
    "\n",
    "word_stemmed_list = [list(x) for x in word_stemmed]\n",
    "file_name_final = [' '.join(x) for x in word_stemmed_list]        \n",
    "\n",
    "# file labels engineering\n",
    "file_labels = list(map(lambda x: x[:-1], data_drop_single))\n",
    "df_labels = pd.DataFrame(data = file_labels)"
   ]
  },
  {
   "cell_type": "code",
   "execution_count": 6,
   "metadata": {},
   "outputs": [
    {
     "data": {
      "text/plain": [
       "(16404, 9)"
      ]
     },
     "execution_count": 6,
     "metadata": {},
     "output_type": "execute_result"
    }
   ],
   "source": [
    "df_labels.shape"
   ]
  },
  {
   "cell_type": "code",
   "execution_count": 7,
   "metadata": {},
   "outputs": [
    {
     "data": {
      "text/plain": [
       "5"
      ]
     },
     "execution_count": 7,
     "metadata": {},
     "output_type": "execute_result"
    }
   ],
   "source": [
    "min(5,df_labels.shape[1])"
   ]
  },
  {
   "cell_type": "code",
   "execution_count": 8,
   "metadata": {},
   "outputs": [],
   "source": [
    "df_paths = pd.DataFrame(data = df_labels[0])\n",
    "\n",
    "\n",
    "# for i in range(1, df_labels.shape[1]):\n",
    "#     df_paths[i] = df_labels[i]\n",
    "\n",
    "# change to level depths limit 5:\n",
    "depth_limit = 5\n",
    "for i in range(1, min(depth_limit,df_labels.shape[1]) ):\n",
    "    df_paths[i] = df_labels[i]\n",
    "\n",
    "\n",
    "    df_paths.loc[pd.notna(df_labels[i]), i] = df_paths[i-1].map(str) + '/' + df_paths[i]\n",
    "    \n",
    "df_paths.replace('None', np.nan, inplace=True)\n",
    "df_paths[-1] = 'dummy'\n",
    "df_paths = df_paths.astype('category', copy = False)"
   ]
  },
  {
   "cell_type": "code",
   "execution_count": 9,
   "metadata": {},
   "outputs": [
    {
     "data": {
      "text/html": [
       "<div>\n",
       "<style scoped>\n",
       "    .dataframe tbody tr th:only-of-type {\n",
       "        vertical-align: middle;\n",
       "    }\n",
       "\n",
       "    .dataframe tbody tr th {\n",
       "        vertical-align: top;\n",
       "    }\n",
       "\n",
       "    .dataframe thead th {\n",
       "        text-align: right;\n",
       "    }\n",
       "</style>\n",
       "<table border=\"1\" class=\"dataframe\">\n",
       "  <thead>\n",
       "    <tr style=\"text-align: right;\">\n",
       "      <th></th>\n",
       "      <th>0</th>\n",
       "      <th>1</th>\n",
       "      <th>2</th>\n",
       "      <th>3</th>\n",
       "      <th>4</th>\n",
       "      <th>-1</th>\n",
       "    </tr>\n",
       "  </thead>\n",
       "  <tbody>\n",
       "    <tr>\n",
       "      <th>10804</th>\n",
       "      <td>Research</td>\n",
       "      <td>Research/Hg</td>\n",
       "      <td>Research/Hg/HgData_Processing</td>\n",
       "      <td>Research/Hg/HgData_Processing/Hg-two-color-pump</td>\n",
       "      <td>Research/Hg/HgData_Processing/Hg-two-color-pum...</td>\n",
       "      <td>dummy</td>\n",
       "    </tr>\n",
       "    <tr>\n",
       "      <th>11751</th>\n",
       "      <td>Research</td>\n",
       "      <td>Research/Hg</td>\n",
       "      <td>Research/Hg/HgData_Processing</td>\n",
       "      <td>Research/Hg/HgData_Processing/Hg-two-color-pump</td>\n",
       "      <td>Research/Hg/HgData_Processing/Hg-two-color-pum...</td>\n",
       "      <td>dummy</td>\n",
       "    </tr>\n",
       "    <tr>\n",
       "      <th>7153</th>\n",
       "      <td>Research</td>\n",
       "      <td>Research/Hg</td>\n",
       "      <td>Research/Hg/HgData_Processing</td>\n",
       "      <td>Research/Hg/HgData_Processing/Hg-two-color-pump</td>\n",
       "      <td>Research/Hg/HgData_Processing/Hg-two-color-pum...</td>\n",
       "      <td>dummy</td>\n",
       "    </tr>\n",
       "    <tr>\n",
       "      <th>3704</th>\n",
       "      <td>Research</td>\n",
       "      <td>Research/Hg</td>\n",
       "      <td>Research/Hg/HgData_Processing</td>\n",
       "      <td>Research/Hg/HgData_Processing/HgCellwithVaccum</td>\n",
       "      <td>Research/Hg/HgData_Processing/HgCellwithVaccum...</td>\n",
       "      <td>dummy</td>\n",
       "    </tr>\n",
       "    <tr>\n",
       "      <th>5514</th>\n",
       "      <td>Research</td>\n",
       "      <td>Research/Hg</td>\n",
       "      <td>Research/Hg/HgData_Processing</td>\n",
       "      <td>Research/Hg/HgData_Processing/HgCellwithVaccum</td>\n",
       "      <td>Research/Hg/HgData_Processing/HgCellwithVaccum...</td>\n",
       "      <td>dummy</td>\n",
       "    </tr>\n",
       "    <tr>\n",
       "      <th>3184</th>\n",
       "      <td>Research</td>\n",
       "      <td>Research/Hg</td>\n",
       "      <td>NaN</td>\n",
       "      <td>NaN</td>\n",
       "      <td>NaN</td>\n",
       "      <td>dummy</td>\n",
       "    </tr>\n",
       "    <tr>\n",
       "      <th>7231</th>\n",
       "      <td>Research</td>\n",
       "      <td>Research/Hg</td>\n",
       "      <td>Research/Hg/HgData_Processing</td>\n",
       "      <td>Research/Hg/HgData_Processing/Hg-two-color-pump</td>\n",
       "      <td>Research/Hg/HgData_Processing/Hg-two-color-pum...</td>\n",
       "      <td>dummy</td>\n",
       "    </tr>\n",
       "    <tr>\n",
       "      <th>11679</th>\n",
       "      <td>Research</td>\n",
       "      <td>Research/Hg</td>\n",
       "      <td>Research/Hg/HgData_Processing</td>\n",
       "      <td>Research/Hg/HgData_Processing/Hg-two-color-pump</td>\n",
       "      <td>Research/Hg/HgData_Processing/Hg-two-color-pum...</td>\n",
       "      <td>dummy</td>\n",
       "    </tr>\n",
       "    <tr>\n",
       "      <th>765</th>\n",
       "      <td>Research</td>\n",
       "      <td>Research/XeI</td>\n",
       "      <td>Research/XeI/XeI_Tom</td>\n",
       "      <td>Research/XeI/XeI_Tom/Not_XeI</td>\n",
       "      <td>Research/XeI/XeI_Tom/Not_XeI/Xe2FreeFree</td>\n",
       "      <td>dummy</td>\n",
       "    </tr>\n",
       "    <tr>\n",
       "      <th>10838</th>\n",
       "      <td>Research</td>\n",
       "      <td>Research/Hg</td>\n",
       "      <td>Research/Hg/HgData_Processing</td>\n",
       "      <td>Research/Hg/HgData_Processing/Hg-two-color-pump</td>\n",
       "      <td>Research/Hg/HgData_Processing/Hg-two-color-pum...</td>\n",
       "      <td>dummy</td>\n",
       "    </tr>\n",
       "    <tr>\n",
       "      <th>14777</th>\n",
       "      <td>pictures</td>\n",
       "      <td>pictures/image</td>\n",
       "      <td>NaN</td>\n",
       "      <td>NaN</td>\n",
       "      <td>NaN</td>\n",
       "      <td>dummy</td>\n",
       "    </tr>\n",
       "    <tr>\n",
       "      <th>7781</th>\n",
       "      <td>Research</td>\n",
       "      <td>Research/Hg</td>\n",
       "      <td>Research/Hg/HgData_Processing</td>\n",
       "      <td>Research/Hg/HgData_Processing/Hg-two-color-pump</td>\n",
       "      <td>Research/Hg/HgData_Processing/Hg-two-color-pum...</td>\n",
       "      <td>dummy</td>\n",
       "    </tr>\n",
       "    <tr>\n",
       "      <th>1911</th>\n",
       "      <td>Research</td>\n",
       "      <td>Research/Books</td>\n",
       "      <td>Research/Books/semiconductor related</td>\n",
       "      <td>Research/Books/semiconductor related/Semicondu...</td>\n",
       "      <td>NaN</td>\n",
       "      <td>dummy</td>\n",
       "    </tr>\n",
       "    <tr>\n",
       "      <th>5583</th>\n",
       "      <td>Research</td>\n",
       "      <td>Research/Hg</td>\n",
       "      <td>Research/Hg/HgData_Processing</td>\n",
       "      <td>Research/Hg/HgData_Processing/HgCellwithVaccum</td>\n",
       "      <td>Research/Hg/HgData_Processing/HgCellwithVaccum...</td>\n",
       "      <td>dummy</td>\n",
       "    </tr>\n",
       "    <tr>\n",
       "      <th>15285</th>\n",
       "      <td>CS</td>\n",
       "      <td>CS/Insight</td>\n",
       "      <td>CS/Insight/ai-download-manager</td>\n",
       "      <td>NaN</td>\n",
       "      <td>NaN</td>\n",
       "      <td>dummy</td>\n",
       "    </tr>\n",
       "    <tr>\n",
       "      <th>15618</th>\n",
       "      <td>CS</td>\n",
       "      <td>CS/Udacity</td>\n",
       "      <td>CS/Udacity/DS_Nanodegree</td>\n",
       "      <td>CS/Udacity/DS_Nanodegree/lecture_notes</td>\n",
       "      <td>NaN</td>\n",
       "      <td>dummy</td>\n",
       "    </tr>\n",
       "    <tr>\n",
       "      <th>6606</th>\n",
       "      <td>Research</td>\n",
       "      <td>Research/Hg</td>\n",
       "      <td>Research/Hg/HgData_Processing</td>\n",
       "      <td>Research/Hg/HgData_Processing/HgCellwithVaccum</td>\n",
       "      <td>Research/Hg/HgData_Processing/HgCellwithVaccum...</td>\n",
       "      <td>dummy</td>\n",
       "    </tr>\n",
       "    <tr>\n",
       "      <th>9211</th>\n",
       "      <td>Research</td>\n",
       "      <td>Research/Hg</td>\n",
       "      <td>Research/Hg/HgData_Processing</td>\n",
       "      <td>Research/Hg/HgData_Processing/Hg-two-color-pump</td>\n",
       "      <td>Research/Hg/HgData_Processing/Hg-two-color-pum...</td>\n",
       "      <td>dummy</td>\n",
       "    </tr>\n",
       "    <tr>\n",
       "      <th>3349</th>\n",
       "      <td>Research</td>\n",
       "      <td>Research/Hg</td>\n",
       "      <td>Research/Hg/HgData_Processing</td>\n",
       "      <td>Research/Hg/HgData_Processing/HgCellwithVaccum</td>\n",
       "      <td>NaN</td>\n",
       "      <td>dummy</td>\n",
       "    </tr>\n",
       "    <tr>\n",
       "      <th>1877</th>\n",
       "      <td>Research</td>\n",
       "      <td>Research/Books</td>\n",
       "      <td>Research/Books/Book - Handbook of High-resolut...</td>\n",
       "      <td>Research/Books/Book - Handbook of High-resolut...</td>\n",
       "      <td>NaN</td>\n",
       "      <td>dummy</td>\n",
       "    </tr>\n",
       "  </tbody>\n",
       "</table>\n",
       "</div>"
      ],
      "text/plain": [
       "              0               1  \\\n",
       "10804  Research     Research/Hg   \n",
       "11751  Research     Research/Hg   \n",
       "7153   Research     Research/Hg   \n",
       "3704   Research     Research/Hg   \n",
       "5514   Research     Research/Hg   \n",
       "3184   Research     Research/Hg   \n",
       "7231   Research     Research/Hg   \n",
       "11679  Research     Research/Hg   \n",
       "765    Research    Research/XeI   \n",
       "10838  Research     Research/Hg   \n",
       "14777  pictures  pictures/image   \n",
       "7781   Research     Research/Hg   \n",
       "1911   Research  Research/Books   \n",
       "5583   Research     Research/Hg   \n",
       "15285        CS      CS/Insight   \n",
       "15618        CS      CS/Udacity   \n",
       "6606   Research     Research/Hg   \n",
       "9211   Research     Research/Hg   \n",
       "3349   Research     Research/Hg   \n",
       "1877   Research  Research/Books   \n",
       "\n",
       "                                                       2  \\\n",
       "10804                      Research/Hg/HgData_Processing   \n",
       "11751                      Research/Hg/HgData_Processing   \n",
       "7153                       Research/Hg/HgData_Processing   \n",
       "3704                       Research/Hg/HgData_Processing   \n",
       "5514                       Research/Hg/HgData_Processing   \n",
       "3184                                                 NaN   \n",
       "7231                       Research/Hg/HgData_Processing   \n",
       "11679                      Research/Hg/HgData_Processing   \n",
       "765                                 Research/XeI/XeI_Tom   \n",
       "10838                      Research/Hg/HgData_Processing   \n",
       "14777                                                NaN   \n",
       "7781                       Research/Hg/HgData_Processing   \n",
       "1911                Research/Books/semiconductor related   \n",
       "5583                       Research/Hg/HgData_Processing   \n",
       "15285                     CS/Insight/ai-download-manager   \n",
       "15618                           CS/Udacity/DS_Nanodegree   \n",
       "6606                       Research/Hg/HgData_Processing   \n",
       "9211                       Research/Hg/HgData_Processing   \n",
       "3349                       Research/Hg/HgData_Processing   \n",
       "1877   Research/Books/Book - Handbook of High-resolut...   \n",
       "\n",
       "                                                       3  \\\n",
       "10804    Research/Hg/HgData_Processing/Hg-two-color-pump   \n",
       "11751    Research/Hg/HgData_Processing/Hg-two-color-pump   \n",
       "7153     Research/Hg/HgData_Processing/Hg-two-color-pump   \n",
       "3704      Research/Hg/HgData_Processing/HgCellwithVaccum   \n",
       "5514      Research/Hg/HgData_Processing/HgCellwithVaccum   \n",
       "3184                                                 NaN   \n",
       "7231     Research/Hg/HgData_Processing/Hg-two-color-pump   \n",
       "11679    Research/Hg/HgData_Processing/Hg-two-color-pump   \n",
       "765                         Research/XeI/XeI_Tom/Not_XeI   \n",
       "10838    Research/Hg/HgData_Processing/Hg-two-color-pump   \n",
       "14777                                                NaN   \n",
       "7781     Research/Hg/HgData_Processing/Hg-two-color-pump   \n",
       "1911   Research/Books/semiconductor related/Semicondu...   \n",
       "5583      Research/Hg/HgData_Processing/HgCellwithVaccum   \n",
       "15285                                                NaN   \n",
       "15618             CS/Udacity/DS_Nanodegree/lecture_notes   \n",
       "6606      Research/Hg/HgData_Processing/HgCellwithVaccum   \n",
       "9211     Research/Hg/HgData_Processing/Hg-two-color-pump   \n",
       "3349      Research/Hg/HgData_Processing/HgCellwithVaccum   \n",
       "1877   Research/Books/Book - Handbook of High-resolut...   \n",
       "\n",
       "                                                       4     -1  \n",
       "10804  Research/Hg/HgData_Processing/Hg-two-color-pum...  dummy  \n",
       "11751  Research/Hg/HgData_Processing/Hg-two-color-pum...  dummy  \n",
       "7153   Research/Hg/HgData_Processing/Hg-two-color-pum...  dummy  \n",
       "3704   Research/Hg/HgData_Processing/HgCellwithVaccum...  dummy  \n",
       "5514   Research/Hg/HgData_Processing/HgCellwithVaccum...  dummy  \n",
       "3184                                                 NaN  dummy  \n",
       "7231   Research/Hg/HgData_Processing/Hg-two-color-pum...  dummy  \n",
       "11679  Research/Hg/HgData_Processing/Hg-two-color-pum...  dummy  \n",
       "765             Research/XeI/XeI_Tom/Not_XeI/Xe2FreeFree  dummy  \n",
       "10838  Research/Hg/HgData_Processing/Hg-two-color-pum...  dummy  \n",
       "14777                                                NaN  dummy  \n",
       "7781   Research/Hg/HgData_Processing/Hg-two-color-pum...  dummy  \n",
       "1911                                                 NaN  dummy  \n",
       "5583   Research/Hg/HgData_Processing/HgCellwithVaccum...  dummy  \n",
       "15285                                                NaN  dummy  \n",
       "15618                                                NaN  dummy  \n",
       "6606   Research/Hg/HgData_Processing/HgCellwithVaccum...  dummy  \n",
       "9211   Research/Hg/HgData_Processing/Hg-two-color-pum...  dummy  \n",
       "3349                                                 NaN  dummy  \n",
       "1877                                                 NaN  dummy  "
      ]
     },
     "execution_count": 9,
     "metadata": {},
     "output_type": "execute_result"
    }
   ],
   "source": [
    "df_paths.sample(20)"
   ]
  },
  {
   "cell_type": "code",
   "execution_count": 10,
   "metadata": {},
   "outputs": [
    {
     "data": {
      "text/plain": [
       "['data1_182.lvm',\n",
       " 'data_597.lvm',\n",
       " 'YI3_2979_To_3025A_Time04-Feb-2015 20_59_19.mat',\n",
       " 'Wild.China.Part5.720p.HDTV.x264-GOTHiC',\n",
       " 'test_1396.lvm',\n",
       " 'JPB 1986 Laser-induced fluorescence spectrum arising from G0u+-X0g+ bound-free transitions in Hg2.pdf',\n",
       " '485nm-20uj-3.csv',\n",
       " 'jonin-potentials-a.plt',\n",
       " '271-15.csv',\n",
       " 'JMS 1993 Low-Lying Electronic States of the ScF Molecule  Energies of the a3Δ, b3Π, and A1Δ States.pdf',\n",
       " 'Wild.China',\n",
       " 'data_531.lvm',\n",
       " 'CrimeTrendsIn_violent.csv',\n",
       " 'IMG_5475.JPG',\n",
       " '335nm-7.csv',\n",
       " 'data_36.lvm',\n",
       " 'test_287.lvm',\n",
       " 'data_105.lvm',\n",
       " '100uj-335-4.csv',\n",
       " 'test_479.lvm']"
      ]
     },
     "execution_count": 10,
     "metadata": {},
     "output_type": "execute_result"
    }
   ],
   "source": [
    "random.sample(file_name,20)"
   ]
  },
  {
   "cell_type": "markdown",
   "metadata": {},
   "source": [
    "# file name engineering"
   ]
  },
  {
   "cell_type": "code",
   "execution_count": 11,
   "metadata": {},
   "outputs": [],
   "source": [
    "def file_name_processing(file_name):\n",
    "    \n",
    "\n",
    "    file_name_html = [html.unescape(x) for x in file_name]\n",
    "    print(file_name_html)\n",
    "    file_name_underscore = [x.lower().replace(\"_\", \" \") for x in file_name_html]\n",
    "    print(file_name_underscore)\n",
    "    file_name_word_split = [re.findall(r\"[\\w']+\", x) for x in file_name_underscore]\n",
    "    print(file_name_word_split)\n",
    "    ps = PorterStemmer()\n",
    "    word_stemmed = [(ps.stem(y) for y in x) for x in file_name_word_split]\n",
    "    word_stemmed_list = [list(x) for x in word_stemmed]\n",
    "    \n",
    "    print(word_stemmed_list)\n",
    "    file_name_final = [' '.join(x) for x in word_stemmed_list]    \n",
    "    print(file_name_final)\n",
    "    \n",
    "    count_vect = pickle.load(open('count_vect', 'rb'))\n",
    "\n",
    "    file_name_vect = count_vect.transform(file_name_final)\n",
    "    \n",
    "    print(file_name_vect)\n",
    "    \n",
    "#     print(count_vect.get_feature_names())\n",
    "#     print(count_vect.get_stop_words())"
   ]
  },
  {
   "cell_type": "code",
   "execution_count": 12,
   "metadata": {},
   "outputs": [
    {
     "name": "stdout",
     "output_type": "stream",
     "text": [
      "['CP-2006-Theoretical-potential-energy-surfaces for excited mercury trimers.pdf']\n",
      "['cp-2006-theoretical-potential-energy-surfaces for excited mercury trimers.pdf']\n",
      "[['cp', '2006', 'theoretical', 'potential', 'energy', 'surfaces', 'for', 'excited', 'mercury', 'trimers', 'pdf']]\n",
      "[['cp', '2006', 'theoret', 'potenti', 'energi', 'surfac', 'for', 'excit', 'mercuri', 'trimer', 'pdf']]\n",
      "['cp 2006 theoret potenti energi surfac for excit mercuri trimer pdf']\n",
      "  (0, 141)\t1\n",
      "  (0, 555)\t1\n",
      "  (0, 695)\t1\n",
      "  (0, 707)\t1\n",
      "  (0, 708)\t1\n",
      "  (0, 848)\t1\n",
      "  (0, 914)\t1\n",
      "  (0, 928)\t1\n",
      "  (0, 929)\t1\n",
      "  (0, 1023)\t1\n",
      "  (0, 1061)\t1\n"
     ]
    }
   ],
   "source": [
    "name_example=['CP-2006-Theoretical-potential-energy-surfaces for excited mercury trimers.pdf']\n",
    "file_name_processing(name_example)"
   ]
  },
  {
   "cell_type": "code",
   "execution_count": 13,
   "metadata": {},
   "outputs": [
    {
     "name": "stdout",
     "output_type": "stream",
     "text": [
      "['JPD 2006 Optical emission studies of the mercury plasma generated by the fundamental, second and third harmonics of a Nd \\u2009YAG laser.pdf']\n",
      "['jpd 2006 optical emission studies of the mercury plasma generated by the fundamental, second and third harmonics of a nd \\u2009yag laser.pdf']\n",
      "[['jpd', '2006', 'optical', 'emission', 'studies', 'of', 'the', 'mercury', 'plasma', 'generated', 'by', 'the', 'fundamental', 'second', 'and', 'third', 'harmonics', 'of', 'a', 'nd', 'yag', 'laser', 'pdf']]\n",
      "[['jpd', '2006', 'optic', 'emiss', 'studi', 'of', 'the', 'mercuri', 'plasma', 'gener', 'by', 'the', 'fundament', 'second', 'and', 'third', 'harmon', 'of', 'a', 'nd', 'yag', 'laser', 'pdf']]\n",
      "['jpd 2006 optic emiss studi of the mercuri plasma gener by the fundament second and third harmon of a nd yag laser pdf']\n",
      "  (0, 141)\t1\n",
      "  (0, 691)\t1\n",
      "  (0, 732)\t1\n",
      "  (0, 736)\t1\n",
      "  (0, 819)\t1\n",
      "  (0, 821)\t1\n",
      "  (0, 848)\t1\n",
      "  (0, 893)\t1\n",
      "  (0, 914)\t1\n",
      "  (0, 1007)\t1\n",
      "  (0, 1118)\t1\n"
     ]
    }
   ],
   "source": [
    "name_example=['JPD 2006 Optical emission studies of the mercury plasma generated by the fundamental, second and third harmonics of a Nd  YAG laser.pdf']\n",
    "\n",
    "file_name_processing(name_example)"
   ]
  },
  {
   "cell_type": "code",
   "execution_count": null,
   "metadata": {},
   "outputs": [],
   "source": []
  },
  {
   "cell_type": "code",
   "execution_count": 14,
   "metadata": {
    "scrolled": false
   },
   "outputs": [
    {
     "data": {
      "image/png": "[encoded data removed]",
      "text/plain": [
       "<Figure size 576x432 with 1 Axes>"
      ]
     },
     "metadata": {
      "needs_background": "light"
     },
     "output_type": "display_data"
    }
   ],
   "source": [
    "import matplotlib.pyplot as plt\n",
    "fig = plt.figure(figsize=(8,6))\n",
    "df_paths[0].value_counts().plot.bar(ylim=0)\n",
    "plt.tick_params(which='major', labelsize=20)\n",
    "plt.show()"
   ]
  },
  {
   "cell_type": "code",
   "execution_count": 15,
   "metadata": {
    "scrolled": false
   },
   "outputs": [
    {
     "data": {
      "image/png": "[encoded data removed]",
      "text/plain": [
       "<Figure size 576x432 with 1 Axes>"
      ]
     },
     "metadata": {
      "needs_background": "light"
     },
     "output_type": "display_data"
    }
   ],
   "source": [
    "fig = plt.figure(figsize=(8,6))\n",
    "df_paths.loc[:,1].value_counts().plot.bar(ylim=0)\n",
    "plt.tick_params(which='major', labelsize=20)\n",
    "plt.show()"
   ]
  },
  {
   "cell_type": "code",
   "execution_count": null,
   "metadata": {},
   "outputs": [],
   "source": []
  },
  {
   "cell_type": "code",
   "execution_count": null,
   "metadata": {},
   "outputs": [],
   "source": []
  },
  {
   "cell_type": "code",
   "execution_count": 16,
   "metadata": {},
   "outputs": [
    {
     "data": {
      "text/plain": [
       "(16404, 6)"
      ]
     },
     "execution_count": 16,
     "metadata": {},
     "output_type": "execute_result"
    }
   ],
   "source": [
    "df_paths.shape"
   ]
  },
  {
   "cell_type": "code",
   "execution_count": 43,
   "metadata": {},
   "outputs": [
    {
     "data": {
      "text/plain": [
       "Research    13632\n",
       "CS           1262\n",
       "pictures     1152\n",
       "videos        307\n",
       "music          51\n",
       "Name: 0, dtype: int64"
      ]
     },
     "execution_count": 43,
     "metadata": {},
     "output_type": "execute_result"
    }
   ],
   "source": [
    "df_paths[0].value_counts()\n"
   ]
  },
  {
   "cell_type": "code",
   "execution_count": 44,
   "metadata": {},
   "outputs": [
    {
     "data": {
      "text/plain": [
       "pandas.core.series.Series"
      ]
     },
     "execution_count": 44,
     "metadata": {},
     "output_type": "execute_result"
    }
   ],
   "source": [
    "type(_)"
   ]
  },
  {
   "cell_type": "code",
   "execution_count": 45,
   "metadata": {},
   "outputs": [
    {
     "data": {
      "text/plain": [
       "array([<matplotlib.axes._subplots.AxesSubplot object at 0x11a02cd68>],\n",
       "      dtype=object)"
      ]
     },
     "execution_count": 45,
     "metadata": {},
     "output_type": "execute_result"
    },
    {
     "data": {
      "image/png": "[encoded data removed]",
      "text/plain": [
       "<Figure size 432x288 with 1 Axes>"
      ]
     },
     "metadata": {},
     "output_type": "display_data"
    }
   ],
   "source": [
    "df_1_level = pd.DataFrame(data = df_paths[0].value_counts())\n",
    "\n",
    "df_1_level.apply(pd.value_counts).plot(kind='pie', subplots=True)"
   ]
  },
  {
   "cell_type": "code",
   "execution_count": 46,
   "metadata": {},
   "outputs": [
    {
     "data": {
      "text/plain": [
       "[13632, 1262, 1152, 307, 51]"
      ]
     },
     "execution_count": 46,
     "metadata": {},
     "output_type": "execute_result"
    }
   ],
   "source": [
    "df_paths[0].value_counts().tolist()"
   ]
  },
  {
   "cell_type": "code",
   "execution_count": 47,
   "metadata": {},
   "outputs": [
    {
     "data": {
      "text/plain": [
       "CategoricalIndex(['Research', 'CS', 'pictures', 'videos', 'music'], categories=['CS', 'Research', 'music', 'pictures', 'videos'], ordered=False, dtype='category')"
      ]
     },
     "execution_count": 47,
     "metadata": {},
     "output_type": "execute_result"
    }
   ],
   "source": [
    "df_paths[0].value_counts().index"
   ]
  },
  {
   "cell_type": "markdown",
   "metadata": {},
   "source": [
    "# Pie Chart"
   ]
  },
  {
   "cell_type": "code",
   "execution_count": 48,
   "metadata": {},
   "outputs": [
    {
     "data": {
      "image/png": "[encoded data removed]",
      "text/plain": [
       "<Figure size 576x576 with 1 Axes>"
      ]
     },
     "metadata": {},
     "output_type": "display_data"
    }
   ],
   "source": [
    "import matplotlib.pyplot as plt\n",
    " \n",
    "# Data to plot\n",
    "labels = 'Research', 'CS', 'pictures', 'videos', 'music'\n",
    "sizes = [13632, 1262, 1150, 307, 51]\n",
    "colors = ['lightskyblue', 'yellowgreen', 'lightcoral', 'gold']\n",
    "explode = (0.1, 0, 0, 0,0)  # explode 1st slice\n",
    " \n",
    "# Plot\n",
    "fig = plt.figure(figsize=(8,8))\n",
    "plt.pie(sizes, explode=explode, labels=labels, colors=colors,\n",
    "        autopct='%1.1f%%', shadow=True, startangle=90)\n",
    " \n",
    "plt.axis('equal')\n",
    "\n",
    "plt.show()"
   ]
  },
  {
   "cell_type": "markdown",
   "metadata": {},
   "source": [
    "# Train the model"
   ]
  },
  {
   "cell_type": "code",
   "execution_count": 49,
   "metadata": {},
   "outputs": [],
   "source": [
    "def Hierarchical_train(file_name_final, df_paths):\n",
    "    \n",
    "    count_vect = CountVectorizer(min_df=8, encoding='latin-1', \\\n",
    "                    ngram_range=(1, 2), stop_words='english')\n",
    "\n",
    "    X_train_counts = count_vect.fit_transform(file_name_final)\n",
    "    features = X_train_counts.toarray()\n",
    "    \n",
    "# works better without tf-idf\n",
    "#     tfidf_transformer = TfidfTransformer(norm='l2', use_idf=True, smooth_idf=True, sublinear_tf=True)\n",
    "\n",
    "#     X_train_tfidf = tfidf_transformer.fit_transform(X_train_counts)\n",
    "\n",
    "#     features = X_train_tfidf.toarray()\n",
    "\n",
    "\n",
    "    depth = df_paths.shape[1]\n",
    "    folder_each_level = [df_paths[x].cat.categories.tolist() for x in range(-1,df_paths.shape[1]-1)]\n",
    "\n",
    "\n",
    "\n",
    "    clf = [[LogisticRegression(random_state = 0) for _ in range(len(folder_each_level[x]))] \\\n",
    "           for x in range(len(folder_each_level))]\n",
    "\n",
    "    for i in range(len(folder_each_level)-1):\n",
    "        for j in range(len(folder_each_level[i])):\n",
    "\n",
    "            # input control\n",
    "            ind = ((df_paths[i-1] == folder_each_level[i][j]) & (df_paths[i].notna())) # remove NAN paths at the same time          \n",
    "\n",
    "            # category / labels control: next col of df_paths\n",
    "            features_level = features[ind] # just pick the corresponding entries\n",
    "            labels_level = np.asarray(df_paths[i][ind], dtype=\"str\")\n",
    "            \n",
    "            if len(np.unique(labels_level)) > 1 and len(labels_level)>5:\n",
    "                clf[i][j] = LogisticRegression(random_state = 0)\n",
    "                clf[i][j].fit(features_level, labels_level)\n",
    "    \n",
    "    pickle.dump(clf, open('clf_folder_picker', 'wb'))\n",
    "    pickle.dump(count_vect, open('count_vect', 'wb'))\n",
    "    pickle.dump(folder_each_level, open('folder_each_level', 'wb'))\n"
   ]
  },
  {
   "cell_type": "code",
   "execution_count": null,
   "metadata": {},
   "outputs": [],
   "source": []
  },
  {
   "cell_type": "code",
   "execution_count": null,
   "metadata": {},
   "outputs": [],
   "source": []
  },
  {
   "cell_type": "code",
   "execution_count": null,
   "metadata": {},
   "outputs": [],
   "source": [
    "\n"
   ]
  },
  {
   "cell_type": "markdown",
   "metadata": {},
   "source": [
    "# Predict"
   ]
  },
  {
   "cell_type": "code",
   "execution_count": 50,
   "metadata": {},
   "outputs": [],
   "source": [
    "def Hierarchical_predict(file_names_input, prob_threshold):\n",
    "    # file_names_input should be an array\n",
    "#     clf = clf\n",
    "#     count_vect = count_vect\n",
    "    \n",
    "    prob_threshold = prob_threshold\n",
    "    \n",
    "    \n",
    "    clf = pickle.load(open('clf_folder_picker', 'rb'))\n",
    "    \n",
    "    \n",
    "    count_vect = pickle.load(open('count_vect', 'rb'))\n",
    "    folder_each_level = pickle.load(open('folder_each_level', 'rb'))\n",
    "    \n",
    "    \n",
    "    file_name_html = [html.unescape(x) for x in file_names_input]\n",
    "    file_name_underscore = [x.lower().replace(\"_\", \" \") for x in file_name_html]\n",
    "    file_name_word_split = [re.findall(r\"[\\w']+\", x) for x in file_name_underscore]\n",
    "    ps = PorterStemmer()\n",
    "    word_stemmed = [(ps.stem(y) for y in x) for x in file_name_word_split]\n",
    "\n",
    "    word_stemmed_list = [list(x) for x in word_stemmed]\n",
    "    file_name_final = [' '.join(x) for x in word_stemmed_list]   \n",
    "    \n",
    "    \n",
    "    \n",
    "\n",
    "    preds = []\n",
    "    for file_name_input in file_name_final:\n",
    "        \n",
    "        vect_name = count_vect.transform([file_name_input])\n",
    "        y_pred =  ['' for _ in range(len(folder_each_level)-1)]\n",
    "        prob = [0 for _ in range(len(folder_each_level)-1)]\n",
    "        prob_total = 1\n",
    "\n",
    "        current_folder = 'dummy'\n",
    "        for i in range(len(folder_each_level)-1):\n",
    "            for j in range(len(folder_each_level[i])):\n",
    "#                 print(i,j)\n",
    "\n",
    "                if current_folder != folder_each_level[i][j]: #make sure it is the right subfolder\n",
    "                    continue\n",
    "\n",
    "#                 print('folder_each_level:',folder_each_level[i][j])\n",
    "#                 print('current_folder:', current_folder)\n",
    "\n",
    "                try:\n",
    "                    clf[i][j].predict(vect_name)\n",
    "                except NotFittedError as e:\n",
    "                    #print('error')\n",
    "                    break\n",
    "                    \n",
    "                y_pred[i] = clf[i][j].predict(vect_name)[0]\n",
    "                current_folder = y_pred[i]\n",
    "                prob[i] = np.max(clf[i][j].predict_proba(vect_name))\n",
    "                prob_total *= prob[i]\n",
    "\n",
    "#                     print(y_pred[i], prob[i], prob_total,'\\n')\n",
    "\n",
    "\n",
    "    \n",
    "            if prob_total < prob_threshold or y_pred[i] == '':\n",
    "                break\n",
    "       \n",
    "        # if i > 0 and back up a level if prob_total < prob_threshold:\n",
    "        if (i > 0) and ((prob_total < prob_threshold) or (y_pred[i] == '')):\n",
    "            pred_folder = y_pred[i-1] \n",
    "            level = i\n",
    "        else:\n",
    "            pred_folder = y_pred[i]\n",
    "            level = i+1\n",
    "        \n",
    "        # when there is no pretrained clf available at this level\n",
    "        if pred_folder == '':\n",
    "            #print(i, j, current_folder,'\\n', y_pred[i-2], y_pred[i-1])\n",
    "            pred_folder = current_folder\n",
    "        preds.append((pred_folder, level))\n",
    "        \n",
    "        \n",
    "    return preds\n",
    "    "
   ]
  },
  {
   "cell_type": "code",
   "execution_count": 51,
   "metadata": {},
   "outputs": [],
   "source": [
    "def Hierarchical_predict_non_accum(file_names_input, prob_threshold):\n",
    "    # file_names_input should be an array\n",
    "#     clf = clf\n",
    "#     count_vect = count_vect\n",
    "    \n",
    "    prob_threshold = prob_threshold\n",
    "    \n",
    "    \n",
    "    clf = pickle.load(open('clf_folder_picker', 'rb'))\n",
    "    \n",
    "    \n",
    "    count_vect = pickle.load(open('count_vect', 'rb'))\n",
    "    folder_each_level = pickle.load(open('folder_each_level', 'rb'))\n",
    "    \n",
    "    \n",
    "    file_name_html = [html.unescape(x) for x in file_names_input]\n",
    "    file_name_underscore = [x.lower().replace(\"_\", \" \") for x in file_name_html]\n",
    "    file_name_word_split = [re.findall(r\"[\\w']+\", x) for x in file_name_underscore]\n",
    "    ps = PorterStemmer()\n",
    "    word_stemmed = [(ps.stem(y) for y in x) for x in file_name_word_split]\n",
    "\n",
    "    word_stemmed_list = [list(x) for x in word_stemmed]\n",
    "    file_name_final = [' '.join(x) for x in word_stemmed_list]   \n",
    "    \n",
    "    \n",
    "    \n",
    "\n",
    "    preds = []\n",
    "    for file_name_input in file_name_final:\n",
    "        \n",
    "        vect_name = count_vect.transform([file_name_input])\n",
    "        y_pred =  ['' for _ in range(len(folder_each_level)-1)]\n",
    "        prob = [0 for _ in range(len(folder_each_level)-1)]\n",
    "        prob_total = 1\n",
    "\n",
    "        current_folder = 'dummy'\n",
    "        for i in range(len(folder_each_level)-1):\n",
    "            for j in range(len(folder_each_level[i])):\n",
    "#                 print(i,j)\n",
    "\n",
    "                if current_folder != folder_each_level[i][j]: #make sure it is the right subfolder\n",
    "                    continue\n",
    "\n",
    "#                 print('folder_each_level:',folder_each_level[i][j])\n",
    "#                 print('current_folder:', current_folder)\n",
    "\n",
    "                try:\n",
    "                    clf[i][j].predict(vect_name)\n",
    "                except NotFittedError as e:\n",
    "                    #print('error')\n",
    "                    break\n",
    "                    \n",
    "                y_pred[i] = clf[i][j].predict(vect_name)[0]\n",
    "                current_folder = y_pred[i]\n",
    "                prob[i] = np.max(clf[i][j].predict_proba(vect_name))\n",
    "                \n",
    "                #change prob_total to prob[i] for non accumulated version!!!!!!!\n",
    "                prob_total = prob[i]\n",
    "\n",
    "#                     print(y_pred[i], prob[i], prob_total,'\\n')\n",
    "\n",
    "\n",
    "    \n",
    "            if prob_total < prob_threshold or y_pred[i] == '':\n",
    "                break\n",
    "       \n",
    "        # if i > 0 and back up a level if prob_total < prob_threshold:\n",
    "        if (i > 0) and ((prob_total < prob_threshold) or (y_pred[i] == '')):\n",
    "            pred_folder = y_pred[i-1] \n",
    "            level = i\n",
    "        else:\n",
    "            pred_folder = y_pred[i]\n",
    "            level = i+1\n",
    "        \n",
    "        # when there is no pretrained clf available at this level\n",
    "        if pred_folder == '':\n",
    "            #print(i, j, current_folder,'\\n', y_pred[i-2], y_pred[i-1])\n",
    "            pred_folder = current_folder\n",
    "        preds.append((pred_folder, level))\n",
    "        \n",
    "        \n",
    "    return preds\n",
    "    "
   ]
  },
  {
   "cell_type": "code",
   "execution_count": 52,
   "metadata": {},
   "outputs": [
    {
     "data": {
      "text/plain": [
       "6"
      ]
     },
     "execution_count": 52,
     "metadata": {},
     "output_type": "execute_result"
    }
   ],
   "source": [
    "df_paths.shape[1]"
   ]
  },
  {
   "cell_type": "markdown",
   "metadata": {},
   "source": [
    "# Evaluation\n",
    "\n",
    "\n",
    "## same path, not necessarily same folder"
   ]
  },
  {
   "cell_type": "code",
   "execution_count": 66,
   "metadata": {
    "scrolled": false
   },
   "outputs": [],
   "source": [
    "from collections import defaultdict\n",
    "\n",
    "def Hierarchical_auc(pred_folder, df_paths):\n",
    "    count_total = len(pred_folder)\n",
    "    count_right_path = 0\n",
    "    count_right_level = 0\n",
    "    #count_close_level = 0\n",
    "    \n",
    "    level_diff_max = df_paths.shape[1] - 1\n",
    "    count_diff = [0 for _ in range(level_diff_max)]\n",
    "    \n",
    "    file_folder_labels = pd.DataFrame(data = df_paths.count(axis=1)-1, columns=['level'])\n",
    "    file_folder_labels['labels'] = [set(df_paths.iloc[x,:]) for x in range(df_paths.shape[0])]\n",
    "\n",
    "    d = defaultdict(int)\n",
    "\n",
    "    for i in range(count_total):\n",
    "        if pred_folder[i][0] in file_folder_labels.iloc[i, 1]:\n",
    "            count_right_path +=1\n",
    "            d[pred_folder[i][1]] += 1\n",
    "            \n",
    "            if pred_folder[i][1] == file_folder_labels.iloc[i, 0]:\n",
    "                count_right_level +=1\n",
    "                \n",
    "            for j in range(level_diff_max):\n",
    "                if j == 0 :\n",
    "                    if pred_folder[i][1] == file_folder_labels.iloc[i, 0]:\n",
    "                        count_diff[j] +=1\n",
    "                else:\n",
    "                    if pred_folder[i][1] == file_folder_labels.iloc[i, 0]-j:# \\or pred_folder[i][1] == file_folder_labels.iloc[i, 0]+j:\n",
    "                        count_diff[j] +=1\n",
    "                \n",
    "            \n",
    "            \n",
    "                \n",
    "\n",
    "\n",
    "    b = defaultdict(int)\n",
    "    for i in d.keys():\n",
    "        b[i] = round(d[i]/count_total,3)\n",
    "    print(b.items())\n",
    "    \n",
    "    count_list = [count_right_path/count_total, count_right_level/count_total]\n",
    "    count_ratio = [round(x,3) for x in count_list]\n",
    "    print('Ratio of count_right_path', 'Ratio of count_right_level', count_ratio)\n",
    "\n",
    "    \n",
    "    print('count_diff\\n',[round(x/count_total,3) for x in count_diff])\n",
    "#     return b.items()\n",
    "    "
   ]
  },
  {
   "cell_type": "code",
   "execution_count": 54,
   "metadata": {},
   "outputs": [
    {
     "data": {
      "text/plain": [
       "(16404, 6)"
      ]
     },
     "execution_count": 54,
     "metadata": {},
     "output_type": "execute_result"
    }
   ],
   "source": [
    "df_paths.shape"
   ]
  },
  {
   "cell_type": "markdown",
   "metadata": {},
   "source": [
    "## train split data, vectorize features"
   ]
  },
  {
   "cell_type": "code",
   "execution_count": 55,
   "metadata": {},
   "outputs": [],
   "source": [
    "X_train, X_test, y_train, y_test = train_test_split(file_name_final, df_paths, \\\n",
    "                                                    test_size=0.1, random_state = 42)"
   ]
  },
  {
   "cell_type": "markdown",
   "metadata": {},
   "source": [
    "## train predict compare acccuracy"
   ]
  },
  {
   "cell_type": "code",
   "execution_count": 56,
   "metadata": {},
   "outputs": [],
   "source": [
    "Hierarchical_train(X_train, y_train)"
   ]
  },
  {
   "cell_type": "code",
   "execution_count": 57,
   "metadata": {},
   "outputs": [],
   "source": [
    "prob_threshold = 0.9\n",
    "preds = Hierarchical_predict(X_train, prob_threshold)"
   ]
  },
  {
   "cell_type": "code",
   "execution_count": 58,
   "metadata": {},
   "outputs": [
    {
     "name": "stdout",
     "output_type": "stream",
     "text": [
      "dict_items([(5, 0.18), (4, 0.25), (2, 0.076), (1, 0.28), (3, 0.063)])\n",
      "Ratio of count_right_path Ratio of count_right_level [0.849, 0.214]\n",
      "\n",
      " [0.214, 0.31, 0.08, 0.078, 0.168]\n"
     ]
    }
   ],
   "source": [
    "Hierarchical_auc(preds, y_train)"
   ]
  },
  {
   "cell_type": "code",
   "execution_count": 59,
   "metadata": {},
   "outputs": [
    {
     "data": {
      "text/plain": [
       "0.916"
      ]
     },
     "execution_count": 59,
     "metadata": {},
     "output_type": "execute_result"
    }
   ],
   "source": [
    "from functools import reduce\n",
    "reduce((lambda x, y: x + y), [0.244, 0.152, 0.138, 0.127, 0.086, 0.07, 0.068, 0.028, 0.003])"
   ]
  },
  {
   "cell_type": "code",
   "execution_count": 60,
   "metadata": {},
   "outputs": [
    {
     "data": {
      "text/plain": [
       "0.255"
      ]
     },
     "execution_count": 60,
     "metadata": {},
     "output_type": "execute_result"
    }
   ],
   "source": [
    "reduce((lambda x, y: x + y), [0.086, 0.07, 0.068, 0.028,0.003])"
   ]
  },
  {
   "cell_type": "code",
   "execution_count": 61,
   "metadata": {},
   "outputs": [
    {
     "data": {
      "text/plain": [
       "'Research/Hg/HgData_Processing/HgCellwithVaccum/248nmPumped'"
      ]
     },
     "execution_count": 61,
     "metadata": {},
     "output_type": "execute_result"
    }
   ],
   "source": [
    "preds[0][0]"
   ]
  },
  {
   "cell_type": "code",
   "execution_count": 62,
   "metadata": {},
   "outputs": [],
   "source": [
    "# for i, pred in enumerate(preds):\n",
    "#     print(pred)\n",
    "#     #print(X_train[i],'\\n')"
   ]
  },
  {
   "cell_type": "code",
   "execution_count": 63,
   "metadata": {
    "scrolled": true
   },
   "outputs": [
    {
     "name": "stdout",
     "output_type": "stream",
     "text": [
      "dict_items([(4, 0.236), (1, 0.271), (2, 0.076), (5, 0.193), (3, 0.05)])\n",
      "Ratio of count_right_path Ratio of count_right_level [0.824, 0.222]\n",
      "\n",
      " [0.222, 0.291, 0.076, 0.071, 0.165]\n"
     ]
    }
   ],
   "source": [
    "preds_test = Hierarchical_predict(X_test, prob_threshold)\n",
    "\n",
    "Hierarchical_auc(preds_test, y_test)"
   ]
  },
  {
   "cell_type": "markdown",
   "metadata": {},
   "source": [
    "# accumulated prob_total version"
   ]
  },
  {
   "cell_type": "markdown",
   "metadata": {},
   "source": [
    "# right path & folder rate"
   ]
  },
  {
   "cell_type": "code",
   "execution_count": 65,
   "metadata": {
    "scrolled": false
   },
   "outputs": [
    {
     "name": "stdout",
     "output_type": "stream",
     "text": [
      "0.0\n",
      "train_set:\n",
      "dict_items([(5, 0.419), (3, 0.046), (4, 0.026), (2, 0.007), (1, 0.003)])\n",
      "Ratio of count_right_path Ratio of count_right_level [0.502, 0.485]\n",
      "\n",
      " [0.485, 0.015, 0.002, 0.0, 0.0]\n",
      "\n",
      "\n",
      "test_set\n",
      "dict_items([(5, 0.38), (3, 0.036), (2, 0.011), (4, 0.022), (1, 0.003)])\n",
      "Ratio of count_right_path Ratio of count_right_level [0.452, 0.435]\n",
      "\n",
      " [0.435, 0.016, 0.001, 0.0, 0.0]\n",
      "\n",
      "\n",
      "\n",
      "0.1\n",
      "train_set:\n",
      "dict_items([(5, 0.415), (3, 0.06), (2, 0.008), (4, 0.032), (1, 0.003)])\n",
      "Ratio of count_right_path Ratio of count_right_level [0.518, 0.484]\n",
      "\n",
      " [0.484, 0.029, 0.006, 0.0, 0.0]\n",
      "\n",
      "\n",
      "test_set\n",
      "dict_items([(5, 0.376), (3, 0.053), (2, 0.011), (4, 0.029), (1, 0.003)])\n",
      "Ratio of count_right_path Ratio of count_right_level [0.472, 0.436]\n",
      "\n",
      " [0.436, 0.032, 0.004, 0.0, 0.0]\n",
      "\n",
      "\n",
      "\n",
      "0.2\n",
      "train_set:\n",
      "dict_items([(5, 0.407), (4, 0.041), (3, 0.099), (2, 0.019), (1, 0.003)])\n",
      "Ratio of count_right_path Ratio of count_right_level [0.568, 0.498]\n",
      "\n",
      " [0.498, 0.047, 0.021, 0.003, 0.0]\n",
      "\n",
      "\n",
      "test_set\n",
      "dict_items([(4, 0.04), (5, 0.367), (3, 0.082), (2, 0.02), (1, 0.003)])\n",
      "Ratio of count_right_path Ratio of count_right_level [0.512, 0.442]\n",
      "\n",
      " [0.442, 0.051, 0.016, 0.002, 0.0]\n",
      "\n",
      "\n",
      "\n",
      "0.30000000000000004\n",
      "train_set:\n",
      "dict_items([(5, 0.394), (4, 0.045), (3, 0.108), (2, 0.043), (1, 0.006)])\n",
      "Ratio of count_right_path Ratio of count_right_level [0.596, 0.483]\n",
      "\n",
      " [0.483, 0.06, 0.033, 0.018, 0.001]\n",
      "\n",
      "\n",
      "test_set\n",
      "dict_items([(4, 0.041), (5, 0.353), (3, 0.099), (2, 0.04), (1, 0.005)])\n",
      "Ratio of count_right_path Ratio of count_right_level [0.538, 0.428]\n",
      "\n",
      " [0.428, 0.062, 0.029, 0.019, 0.001]\n",
      "\n",
      "\n",
      "\n",
      "0.4\n",
      "train_set:\n",
      "dict_items([(5, 0.31), (4, 0.226), (3, 0.12), (1, 0.071), (2, 0.037)])\n",
      "Ratio of count_right_path Ratio of count_right_level [0.763, 0.393]\n",
      "\n",
      " [0.393, 0.257, 0.052, 0.024, 0.038]\n",
      "\n",
      "\n",
      "test_set\n",
      "dict_items([(4, 0.207), (1, 0.074), (5, 0.3), (2, 0.033), (3, 0.116)])\n",
      "Ratio of count_right_path Ratio of count_right_level [0.73, 0.368]\n",
      "\n",
      " [0.368, 0.243, 0.052, 0.021, 0.046]\n",
      "\n",
      "\n",
      "\n",
      "0.5\n",
      "train_set:\n",
      "dict_items([(5, 0.294), (4, 0.224), (3, 0.125), (1, 0.097), (2, 0.052)])\n",
      "Ratio of count_right_path Ratio of count_right_level [0.791, 0.367]\n",
      "\n",
      " [0.367, 0.268, 0.069, 0.036, 0.053]\n",
      "\n",
      "\n",
      "test_set\n",
      "dict_items([(4, 0.208), (1, 0.094), (5, 0.294), (2, 0.054), (3, 0.118)])\n",
      "Ratio of count_right_path Ratio of count_right_level [0.768, 0.358]\n",
      "\n",
      " [0.358, 0.257, 0.06, 0.037, 0.055]\n",
      "\n",
      "\n",
      "\n",
      "0.6000000000000001\n",
      "train_set:\n",
      "dict_items([(5, 0.276), (4, 0.226), (3, 0.108), (1, 0.131), (2, 0.066)])\n",
      "Ratio of count_right_path Ratio of count_right_level [0.806, 0.341]\n",
      "\n",
      " [0.341, 0.271, 0.07, 0.05, 0.075]\n",
      "\n",
      "\n",
      "test_set\n",
      "dict_items([(4, 0.21), (1, 0.13), (5, 0.28), (3, 0.098), (2, 0.068)])\n",
      "Ratio of count_right_path Ratio of count_right_level [0.787, 0.339]\n",
      "\n",
      " [0.339, 0.255, 0.065, 0.048, 0.08]\n",
      "\n",
      "\n",
      "\n",
      "0.7000000000000001\n",
      "train_set:\n",
      "dict_items([(5, 0.26), (4, 0.218), (3, 0.086), (1, 0.17), (2, 0.09)])\n",
      "Ratio of count_right_path Ratio of count_right_level [0.824, 0.306]\n",
      "\n",
      " [0.306, 0.281, 0.078, 0.064, 0.096]\n",
      "\n",
      "\n",
      "test_set\n",
      "dict_items([(4, 0.207), (1, 0.168), (5, 0.268), (2, 0.087), (3, 0.079)])\n",
      "Ratio of count_right_path Ratio of count_right_level [0.808, 0.31]\n",
      "\n",
      " [0.31, 0.264, 0.077, 0.059, 0.099]\n",
      "\n",
      "\n",
      "\n",
      "0.8\n",
      "train_set:\n",
      "dict_items([(5, 0.243), (4, 0.207), (3, 0.086), (1, 0.216), (2, 0.083)])\n",
      "Ratio of count_right_path Ratio of count_right_level [0.835, 0.288]\n",
      "\n",
      " [0.288, 0.269, 0.083, 0.069, 0.126]\n",
      "\n",
      "\n",
      "test_set\n",
      "dict_items([(4, 0.2), (1, 0.2), (5, 0.248), (2, 0.091), (3, 0.078)])\n",
      "Ratio of count_right_path Ratio of count_right_level [0.818, 0.289]\n",
      "\n",
      " [0.289, 0.257, 0.088, 0.061, 0.123]\n",
      "\n",
      "\n",
      "\n",
      "0.9\n",
      "train_set:\n",
      "dict_items([(5, 0.18), (4, 0.25), (2, 0.076), (1, 0.28), (3, 0.063)])\n",
      "Ratio of count_right_path Ratio of count_right_level [0.849, 0.214]\n",
      "\n",
      " [0.214, 0.31, 0.08, 0.078, 0.168]\n",
      "\n",
      "\n",
      "test_set\n",
      "dict_items([(4, 0.236), (1, 0.271), (2, 0.076), (5, 0.193), (3, 0.05)])\n",
      "Ratio of count_right_path Ratio of count_right_level [0.824, 0.222]\n",
      "\n",
      " [0.222, 0.291, 0.076, 0.071, 0.165]\n",
      "\n",
      "\n",
      "\n",
      "1.0\n",
      "train_set:\n",
      "dict_items([(1, 0.968)])\n",
      "Ratio of count_right_path Ratio of count_right_level [0.968, 0.0]\n",
      "\n",
      " [0.0, 0.019, 0.116, 0.064, 0.768]\n",
      "\n",
      "\n",
      "test_set\n",
      "dict_items([(1, 0.966)])\n",
      "Ratio of count_right_path Ratio of count_right_level [0.966, 0.001]\n",
      "\n",
      " [0.001, 0.02, 0.103, 0.062, 0.781]\n",
      "\n",
      "\n",
      "\n"
     ]
    }
   ],
   "source": [
    "# accumulated prob_total version \n",
    "\n",
    "for prob_threshold in np.linspace(0,1,11):\n",
    "    print(prob_threshold)\n",
    "    print('train_set:')\n",
    "    preds = Hierarchical_predict(X_train, prob_threshold)\n",
    "\n",
    "    Hierarchical_auc(preds, y_train)\n",
    "    print('\\n')\n",
    "    print('test_set')\n",
    "    preds_test = Hierarchical_predict(X_test,prob_threshold)\n",
    "\n",
    "    Hierarchical_auc(preds_test, y_test)\n",
    "    print('\\n\\n')"
   ]
  },
  {
   "cell_type": "code",
   "execution_count": null,
   "metadata": {},
   "outputs": [],
   "source": [
    "# p = 0.9, test\n",
    "np.sum([0.035, 0.077, 0.439, 0.108, 0.081, 0.071, 0.031, 0.005, 0.002])"
   ]
  },
  {
   "cell_type": "code",
   "execution_count": null,
   "metadata": {},
   "outputs": [],
   "source": [
    "np.sum([0.035, 0.077, 0.439])"
   ]
  },
  {
   "cell_type": "code",
   "execution_count": null,
   "metadata": {},
   "outputs": [],
   "source": [
    "np.sum([0.081, 0.071, 0.031, 0.005, 0.002])"
   ]
  },
  {
   "cell_type": "code",
   "execution_count": null,
   "metadata": {},
   "outputs": [],
   "source": [
    "len([0.035, 0.077, 0.439, 0.108, 0.081, 0.071, 0.031, 0.005, 0.002])"
   ]
  },
  {
   "cell_type": "markdown",
   "metadata": {},
   "source": [
    "# Pie Chart"
   ]
  },
  {
   "cell_type": "code",
   "execution_count": null,
   "metadata": {},
   "outputs": [],
   "source": [
    "# import matplotlib.pyplot as plt\n",
    " \n",
    "# # Data to plot\n",
    "# labels = 'Python', 'C++', 'Ruby', 'Java'\n",
    "# sizes = [215, 130, 245, 210]\n",
    "# colors = ['gold', 'yellowgreen', 'lightcoral', 'lightskyblue']\n",
    "# explode = (0.1, 0, 0, 0)  # explode 1st slice\n",
    " \n",
    "# # Plot\n",
    "# plt.pie(sizes, explode=explode, labels=labels, colors=colors,\n",
    "#         autopct='%1.1f%%', shadow=True, startangle=140)\n",
    " \n",
    "# plt.axis('equal')\n",
    "# plt.show()"
   ]
  },
  {
   "cell_type": "code",
   "execution_count": 104,
   "metadata": {
    "scrolled": false
   },
   "outputs": [
    {
     "data": {
      "image/png": "[encoded data removed]",
      "text/plain": [
       "<Figure size 576x576 with 1 Axes>"
      ]
     },
     "metadata": {},
     "output_type": "display_data"
    }
   ],
   "source": [
    "# Data to plot\n",
    "labels = 'Wrong Split', 'Right Path'\n",
    "sizes = [1-0.818, 0.818]\n",
    "colors = ['r', 'limegreen']\n",
    "explode = (0.1, 0)  # explode 1st slice\n",
    " \n",
    "# Plot\n",
    "fig = plt.figure(figsize=(8,8))\n",
    "plt.pie(sizes, explode=explode, labels=labels, colors=colors,\n",
    "        autopct='%1.1f%%', shadow=True, startangle=-119,textprops={'fontsize': 20})\n",
    " \n",
    "plt.axis('equal')\n",
    "plt.show()"
   ]
  },
  {
   "cell_type": "code",
   "execution_count": 197,
   "metadata": {
    "scrolled": true
   },
   "outputs": [
    {
     "data": {
      "image/png": "[encoded data removed]",
      "text/plain": [
       "<Figure size 360x360 with 1 Axes>"
      ]
     },
     "metadata": {},
     "output_type": "display_data"
    }
   ],
   "source": [
    "height = np.array([0.818, 1-0.818])*100\n",
    "bars = ('right path','wrong path')\n",
    "y_pos = np.arange(len(bars))\n",
    "fig = plt.figure(figsize=(5,5))\n",
    "plt.bar(y_pos, height, color=('green','darkred'))\n",
    "plt.xticks(y_pos, bars)\n",
    "ax.tick_params(axis='x', labelsize=30)\n",
    "plt.show()\n",
    "\n",
    "\n"
   ]
  },
  {
   "cell_type": "code",
   "execution_count": 195,
   "metadata": {},
   "outputs": [],
   "source": [
    "plt.xticks?"
   ]
  },
  {
   "cell_type": "code",
   "execution_count": 184,
   "metadata": {
    "scrolled": false
   },
   "outputs": [
    {
     "data": {
      "image/png": "[encoded data removed]",
      "text/plain": [
       "<Figure size 432x288 with 1 Axes>"
      ]
     },
     "metadata": {},
     "output_type": "display_data"
    }
   ],
   "source": [
    "height = np.array([0.289, 0.257, 0.088, 0.061, 0.12])*100\n",
    "bars = ['Diff=0', 'Diff=1','Diff=2','Diff=3','Diff=4']\n",
    "y_pos = np.arange(len(bars))\n",
    "\n",
    "plt.bar(y_pos, height, color='green')\n",
    "plt.xticks(y_pos, bars)\n",
    "\n",
    "plt.show()"
   ]
  },
  {
   "cell_type": "code",
   "execution_count": 203,
   "metadata": {},
   "outputs": [
    {
     "name": "stdout",
     "output_type": "stream",
     "text": [
      "[0.35460123 0.31533742 0.10797546 0.07484663 0.14723926]\n"
     ]
    },
    {
     "data": {
      "text/plain": [
       "1.0"
      ]
     },
     "execution_count": 203,
     "metadata": {},
     "output_type": "execute_result"
    }
   ],
   "source": [
    "height = np.array([0.289, 0.257, 0.088, 0.061, 0.12])\n",
    "norm1 = height / np.sum(height)\n",
    "print(norm1)\n",
    "norm1.sum()"
   ]
  },
  {
   "cell_type": "code",
   "execution_count": 226,
   "metadata": {},
   "outputs": [
    {
     "data": {
      "text/plain": [
       "array([4, 3, 1, 0, 2])"
      ]
     },
     "execution_count": 226,
     "metadata": {},
     "output_type": "execute_result"
    }
   ],
   "source": [
    "data = np.array([0.35460123, 0.31533742, 0.10797546, 0.07484663, 0.14723926])\n",
    "temp = data.argsort()\n",
    "ranks = np.empty_like(temp)\n",
    "ranks[temp] = np.arange(len(data))\n",
    "ranks"
   ]
  },
  {
   "cell_type": "code",
   "execution_count": 286,
   "metadata": {
    "scrolled": false
   },
   "outputs": [
    {
     "data": {
      "image/png": "[encoded data removed]",
      "text/plain": [
       "<Figure size 576x576 with 1 Axes>"
      ]
     },
     "metadata": {},
     "output_type": "display_data"
    }
   ],
   "source": [
    "#, index= ['0','1','2','3','4']\n",
    "\n",
    "\n",
    "\n",
    "import numpy as np, matplotlib.pyplot as plt, seaborn as sns\n",
    "sns.set(style=\"whitegrid\", color_codes=True)\n",
    "\n",
    "\n",
    "pal = sns.color_palette(\"Greens_d\", len(data))\n",
    "\n",
    "data = np.array([0.35460123, 0.31533742, 0.10797546, 0.07484663, 0.14723926])*100\n",
    "\n",
    "temp = data.argsort()\n",
    "rank = np.empty_like(temp)\n",
    "rank[temp] = np.arange(len(data))\n",
    "\n",
    " # http://stackoverflow.com/a/6266510/1628638\n",
    "\n",
    "    \n",
    "fig, ax = plt.subplots(figsize=(8,8))\n",
    "    \n",
    "    \n",
    "    \n",
    "sns.barplot(x = ['0','1','2','3','4'], y = data, palette=np.array(pal[::-1])[rank],capsize=1)\n",
    "\n",
    "#sns.barplot(data)\n",
    "plt.show()"
   ]
  },
  {
   "cell_type": "code",
   "execution_count": null,
   "metadata": {},
   "outputs": [],
   "source": []
  },
  {
   "cell_type": "code",
   "execution_count": null,
   "metadata": {},
   "outputs": [],
   "source": []
  },
  {
   "cell_type": "code",
   "execution_count": null,
   "metadata": {},
   "outputs": [],
   "source": []
  },
  {
   "cell_type": "code",
   "execution_count": null,
   "metadata": {},
   "outputs": [],
   "source": []
  },
  {
   "cell_type": "code",
   "execution_count": null,
   "metadata": {},
   "outputs": [],
   "source": []
  },
  {
   "cell_type": "code",
   "execution_count": null,
   "metadata": {},
   "outputs": [],
   "source": []
  },
  {
   "cell_type": "code",
   "execution_count": null,
   "metadata": {},
   "outputs": [],
   "source": []
  },
  {
   "cell_type": "code",
   "execution_count": null,
   "metadata": {},
   "outputs": [],
   "source": []
  },
  {
   "cell_type": "code",
   "execution_count": null,
   "metadata": {},
   "outputs": [],
   "source": []
  },
  {
   "cell_type": "code",
   "execution_count": 265,
   "metadata": {},
   "outputs": [
    {
     "data": {
      "text/plain": [
       "array([4, 3, 1, 0, 2])"
      ]
     },
     "execution_count": 265,
     "metadata": {},
     "output_type": "execute_result"
    }
   ],
   "source": [
    "ranks"
   ]
  },
  {
   "cell_type": "code",
   "execution_count": null,
   "metadata": {},
   "outputs": [],
   "source": []
  },
  {
   "cell_type": "code",
   "execution_count": 259,
   "metadata": {},
   "outputs": [
    {
     "data": {
      "text/plain": [
       "5"
      ]
     },
     "execution_count": 259,
     "metadata": {},
     "output_type": "execute_result"
    }
   ],
   "source": [
    "len(data)"
   ]
  },
  {
   "cell_type": "code",
   "execution_count": 262,
   "metadata": {},
   "outputs": [
    {
     "data": {
      "text/plain": [
       "array([[0.33430732, 0.69073433, 0.41563501],\n",
       "       [0.20787389, 0.41521979, 0.2669281 ],\n",
       "       [0.20393695, 0.30760989, 0.23346405],\n",
       "       [0.21181084, 0.52282968, 0.30039216],\n",
       "       [0.21751121, 0.62971165, 0.33459951],\n",
       "       [0.45110342, 0.75175702, 0.49667051],\n",
       "       [0.56789953, 0.8127797 , 0.57770601]])"
      ]
     },
     "execution_count": 262,
     "metadata": {},
     "output_type": "execute_result"
    }
   ],
   "source": [
    "np.array(pal[::-1])[rank]"
   ]
  },
  {
   "cell_type": "code",
   "execution_count": 248,
   "metadata": {
    "scrolled": false
   },
   "outputs": [
    {
     "data": {
      "image/png": "[encoded data removed]",
      "text/plain": [
       "<Figure size 432x288 with 1 Axes>"
      ]
     },
     "metadata": {},
     "output_type": "display_data"
    }
   ],
   "source": [
    "import numpy as np, matplotlib.pyplot as plt, seaborn as sns\n",
    "sns.set(style=\"whitegrid\", color_codes=True)\n",
    "\n",
    "titanic = sns.load_dataset(\"titanic\")\n",
    "data = titanic.groupby(\"deck\").size()   # data underlying bar plot in question\n",
    "\n",
    "pal = sns.color_palette(\"Greens_d\", len(data))\n",
    "rank = data.argsort().argsort()   # http://stackoverflow.com/a/6266510/1628638\n",
    "sns.barplot(x=data.index, y=data, palette=np.array(pal[::-1])[rank])\n",
    "\n",
    "plt.show()\n"
   ]
  },
  {
   "cell_type": "code",
   "execution_count": 249,
   "metadata": {},
   "outputs": [
    {
     "data": {
      "text/plain": [
       "CategoricalIndex(['A', 'B', 'C', 'D', 'E', 'F', 'G'], categories=['A', 'B', 'C', 'D', 'E', 'F', 'G'], ordered=False, name='deck', dtype='category')"
      ]
     },
     "execution_count": 249,
     "metadata": {},
     "output_type": "execute_result"
    }
   ],
   "source": [
    "data.index"
   ]
  },
  {
   "cell_type": "code",
   "execution_count": 250,
   "metadata": {
    "scrolled": true
   },
   "outputs": [
    {
     "data": {
      "text/plain": [
       "deck\n",
       "A    15\n",
       "B    47\n",
       "C    59\n",
       "D    33\n",
       "E    32\n",
       "F    13\n",
       "G     4\n",
       "dtype: int64"
      ]
     },
     "execution_count": 250,
     "metadata": {},
     "output_type": "execute_result"
    }
   ],
   "source": [
    "data"
   ]
  },
  {
   "cell_type": "code",
   "execution_count": 251,
   "metadata": {},
   "outputs": [
    {
     "data": {
      "text/plain": [
       "7"
      ]
     },
     "execution_count": 251,
     "metadata": {},
     "output_type": "execute_result"
    }
   ],
   "source": [
    "len(data)"
   ]
  },
  {
   "cell_type": "code",
   "execution_count": 252,
   "metadata": {},
   "outputs": [
    {
     "data": {
      "text/plain": [
       "[(0.20393694732795078, 0.3076098936306549, 0.2334640522875817),\n",
       " (0.20787389465590156, 0.41521978726130976, 0.26692810457516336),\n",
       " (0.21181084198385236, 0.5228296808919646, 0.3003921568627451),\n",
       " (0.2175112136357811, 0.6297116493656286, 0.3345995130078175),\n",
       " (0.3343073176983211, 0.6907343329488658, 0.41563501217480453),\n",
       " (0.45110342176086116, 0.751757016532103, 0.49667051134179163),\n",
       " (0.5678995258234012, 0.8127797001153403, 0.5777060105087787)]"
      ]
     },
     "execution_count": 252,
     "metadata": {},
     "output_type": "execute_result"
    }
   ],
   "source": [
    "sns.color_palette(\"Greens_d\", len(data))"
   ]
  },
  {
   "cell_type": "code",
   "execution_count": 253,
   "metadata": {},
   "outputs": [
    {
     "data": {
      "text/plain": [
       "deck\n",
       "A    2\n",
       "B    5\n",
       "C    6\n",
       "D    4\n",
       "E    3\n",
       "F    1\n",
       "G    0\n",
       "dtype: int64"
      ]
     },
     "execution_count": 253,
     "metadata": {},
     "output_type": "execute_result"
    }
   ],
   "source": [
    "rank"
   ]
  },
  {
   "cell_type": "code",
   "execution_count": 257,
   "metadata": {},
   "outputs": [
    {
     "data": {
      "text/plain": [
       "pandas.core.series.Series"
      ]
     },
     "execution_count": 257,
     "metadata": {},
     "output_type": "execute_result"
    }
   ],
   "source": [
    "type(rank)"
   ]
  },
  {
   "cell_type": "code",
   "execution_count": 254,
   "metadata": {},
   "outputs": [
    {
     "data": {
      "text/plain": [
       "array([[0.33430732, 0.69073433, 0.41563501],\n",
       "       [0.20787389, 0.41521979, 0.2669281 ],\n",
       "       [0.20393695, 0.30760989, 0.23346405],\n",
       "       [0.21181084, 0.52282968, 0.30039216],\n",
       "       [0.21751121, 0.62971165, 0.33459951],\n",
       "       [0.45110342, 0.75175702, 0.49667051],\n",
       "       [0.56789953, 0.8127797 , 0.57770601]])"
      ]
     },
     "execution_count": 254,
     "metadata": {},
     "output_type": "execute_result"
    }
   ],
   "source": [
    "np.array(pal[::-1])[rank]"
   ]
  },
  {
   "cell_type": "code",
   "execution_count": null,
   "metadata": {},
   "outputs": [],
   "source": []
  },
  {
   "cell_type": "code",
   "execution_count": null,
   "metadata": {},
   "outputs": [],
   "source": []
  },
  {
   "cell_type": "code",
   "execution_count": null,
   "metadata": {},
   "outputs": [],
   "source": []
  },
  {
   "cell_type": "code",
   "execution_count": 241,
   "metadata": {},
   "outputs": [
    {
     "ename": "KeyError",
     "evalue": "('right path', 'wrong path')",
     "output_type": "error",
     "traceback": [
      "\u001b[0;31m---------------------------------------------------------------------------\u001b[0m",
      "\u001b[0;31mKeyError\u001b[0m                                  Traceback (most recent call last)",
      "\u001b[0;32m<ipython-input-241-25bdaf45f8aa>\u001b[0m in \u001b[0;36m<module>\u001b[0;34m()\u001b[0m\n\u001b[1;32m      8\u001b[0m \u001b[0;31m#rank = data.argsort().argsort()   # http://stackoverflow.com/a/6266510/1628638\u001b[0m\u001b[0;34m\u001b[0m\u001b[0;34m\u001b[0m\u001b[0m\n\u001b[1;32m      9\u001b[0m \u001b[0mrank\u001b[0m \u001b[0;34m=\u001b[0m\u001b[0;34m[\u001b[0m\u001b[0;36m1\u001b[0m\u001b[0;34m,\u001b[0m\u001b[0;36m2\u001b[0m\u001b[0;34m,\u001b[0m\u001b[0;36m3\u001b[0m\u001b[0;34m,\u001b[0m\u001b[0;36m4\u001b[0m\u001b[0;34m,\u001b[0m\u001b[0;36m5\u001b[0m\u001b[0;34m]\u001b[0m\u001b[0;34m\u001b[0m\u001b[0m\n\u001b[0;32m---> 10\u001b[0;31m \u001b[0msns\u001b[0m\u001b[0;34m.\u001b[0m\u001b[0mbarplot\u001b[0m\u001b[0;34m(\u001b[0m\u001b[0mx\u001b[0m\u001b[0;34m=\u001b[0m\u001b[0mbars\u001b[0m\u001b[0;34m,\u001b[0m \u001b[0my\u001b[0m\u001b[0;34m=\u001b[0m\u001b[0mheight\u001b[0m\u001b[0;34m,\u001b[0m \u001b[0mpalette\u001b[0m\u001b[0;34m=\u001b[0m\u001b[0;34m\"rocket\"\u001b[0m\u001b[0;34m)\u001b[0m\u001b[0;34m\u001b[0m\u001b[0m\n\u001b[0m\u001b[1;32m     11\u001b[0m \u001b[0;34m\u001b[0m\u001b[0m\n\u001b[1;32m     12\u001b[0m \u001b[0mplt\u001b[0m\u001b[0;34m.\u001b[0m\u001b[0mshow\u001b[0m\u001b[0;34m(\u001b[0m\u001b[0;34m)\u001b[0m\u001b[0;34m\u001b[0m\u001b[0m\n",
      "\u001b[0;32m~/.virtualenvs/insight/lib/python3.6/site-packages/seaborn/categorical.py\u001b[0m in \u001b[0;36mbarplot\u001b[0;34m(x, y, hue, data, order, hue_order, estimator, ci, n_boot, units, orient, color, palette, saturation, errcolor, errwidth, capsize, dodge, ax, **kwargs)\u001b[0m\n\u001b[1;32m   3147\u001b[0m                           \u001b[0mestimator\u001b[0m\u001b[0;34m,\u001b[0m \u001b[0mci\u001b[0m\u001b[0;34m,\u001b[0m \u001b[0mn_boot\u001b[0m\u001b[0;34m,\u001b[0m \u001b[0munits\u001b[0m\u001b[0;34m,\u001b[0m\u001b[0;34m\u001b[0m\u001b[0m\n\u001b[1;32m   3148\u001b[0m                           \u001b[0morient\u001b[0m\u001b[0;34m,\u001b[0m \u001b[0mcolor\u001b[0m\u001b[0;34m,\u001b[0m \u001b[0mpalette\u001b[0m\u001b[0;34m,\u001b[0m \u001b[0msaturation\u001b[0m\u001b[0;34m,\u001b[0m\u001b[0;34m\u001b[0m\u001b[0m\n\u001b[0;32m-> 3149\u001b[0;31m                           errcolor, errwidth, capsize, dodge)\n\u001b[0m\u001b[1;32m   3150\u001b[0m \u001b[0;34m\u001b[0m\u001b[0m\n\u001b[1;32m   3151\u001b[0m     \u001b[0;32mif\u001b[0m \u001b[0max\u001b[0m \u001b[0;32mis\u001b[0m \u001b[0;32mNone\u001b[0m\u001b[0;34m:\u001b[0m\u001b[0;34m\u001b[0m\u001b[0m\n",
      "\u001b[0;32m~/.virtualenvs/insight/lib/python3.6/site-packages/seaborn/categorical.py\u001b[0m in \u001b[0;36m__init__\u001b[0;34m(self, x, y, hue, data, order, hue_order, estimator, ci, n_boot, units, orient, color, palette, saturation, errcolor, errwidth, capsize, dodge)\u001b[0m\n\u001b[1;32m   1605\u001b[0m         \u001b[0;34m\"\"\"Initialize the plotter.\"\"\"\u001b[0m\u001b[0;34m\u001b[0m\u001b[0m\n\u001b[1;32m   1606\u001b[0m         self.establish_variables(x, y, hue, data, orient,\n\u001b[0;32m-> 1607\u001b[0;31m                                  order, hue_order, units)\n\u001b[0m\u001b[1;32m   1608\u001b[0m         \u001b[0mself\u001b[0m\u001b[0;34m.\u001b[0m\u001b[0mestablish_colors\u001b[0m\u001b[0;34m(\u001b[0m\u001b[0mcolor\u001b[0m\u001b[0;34m,\u001b[0m \u001b[0mpalette\u001b[0m\u001b[0;34m,\u001b[0m \u001b[0msaturation\u001b[0m\u001b[0;34m)\u001b[0m\u001b[0;34m\u001b[0m\u001b[0m\n\u001b[1;32m   1609\u001b[0m         \u001b[0mself\u001b[0m\u001b[0;34m.\u001b[0m\u001b[0mestimate_statistic\u001b[0m\u001b[0;34m(\u001b[0m\u001b[0mestimator\u001b[0m\u001b[0;34m,\u001b[0m \u001b[0mci\u001b[0m\u001b[0;34m,\u001b[0m \u001b[0mn_boot\u001b[0m\u001b[0;34m)\u001b[0m\u001b[0;34m\u001b[0m\u001b[0m\n",
      "\u001b[0;32m~/.virtualenvs/insight/lib/python3.6/site-packages/seaborn/categorical.py\u001b[0m in \u001b[0;36mestablish_variables\u001b[0;34m(self, x, y, hue, data, orient, order, hue_order, units)\u001b[0m\n\u001b[1;32m    205\u001b[0m                 \u001b[0;31m# Group the numeric data\u001b[0m\u001b[0;34m\u001b[0m\u001b[0;34m\u001b[0m\u001b[0m\n\u001b[1;32m    206\u001b[0m                 plot_data, value_label = self._group_longform(vals, groups,\n\u001b[0;32m--> 207\u001b[0;31m                                                               group_names)\n\u001b[0m\u001b[1;32m    208\u001b[0m \u001b[0;34m\u001b[0m\u001b[0m\n\u001b[1;32m    209\u001b[0m                 \u001b[0;31m# Now handle the hue levels for nested ordering\u001b[0m\u001b[0;34m\u001b[0m\u001b[0;34m\u001b[0m\u001b[0m\n",
      "\u001b[0;32m~/.virtualenvs/insight/lib/python3.6/site-packages/seaborn/categorical.py\u001b[0m in \u001b[0;36m_group_longform\u001b[0;34m(self, vals, grouper, order)\u001b[0m\n\u001b[1;32m    247\u001b[0m \u001b[0;34m\u001b[0m\u001b[0m\n\u001b[1;32m    248\u001b[0m         \u001b[0;31m# Group the val data\u001b[0m\u001b[0;34m\u001b[0m\u001b[0;34m\u001b[0m\u001b[0m\n\u001b[0;32m--> 249\u001b[0;31m         \u001b[0mgrouped_vals\u001b[0m \u001b[0;34m=\u001b[0m \u001b[0mvals\u001b[0m\u001b[0;34m.\u001b[0m\u001b[0mgroupby\u001b[0m\u001b[0;34m(\u001b[0m\u001b[0mgrouper\u001b[0m\u001b[0;34m)\u001b[0m\u001b[0;34m\u001b[0m\u001b[0m\n\u001b[0m\u001b[1;32m    250\u001b[0m         \u001b[0mout_data\u001b[0m \u001b[0;34m=\u001b[0m \u001b[0;34m[\u001b[0m\u001b[0;34m]\u001b[0m\u001b[0;34m\u001b[0m\u001b[0m\n\u001b[1;32m    251\u001b[0m         \u001b[0;32mfor\u001b[0m \u001b[0mg\u001b[0m \u001b[0;32min\u001b[0m \u001b[0morder\u001b[0m\u001b[0;34m:\u001b[0m\u001b[0;34m\u001b[0m\u001b[0m\n",
      "\u001b[0;32m~/.virtualenvs/insight/lib/python3.6/site-packages/pandas/core/generic.py\u001b[0m in \u001b[0;36mgroupby\u001b[0;34m(self, by, axis, level, as_index, sort, group_keys, squeeze, observed, **kwargs)\u001b[0m\n\u001b[1;32m   6663\u001b[0m         return groupby(self, by=by, axis=axis, level=level, as_index=as_index,\n\u001b[1;32m   6664\u001b[0m                        \u001b[0msort\u001b[0m\u001b[0;34m=\u001b[0m\u001b[0msort\u001b[0m\u001b[0;34m,\u001b[0m \u001b[0mgroup_keys\u001b[0m\u001b[0;34m=\u001b[0m\u001b[0mgroup_keys\u001b[0m\u001b[0;34m,\u001b[0m \u001b[0msqueeze\u001b[0m\u001b[0;34m=\u001b[0m\u001b[0msqueeze\u001b[0m\u001b[0;34m,\u001b[0m\u001b[0;34m\u001b[0m\u001b[0m\n\u001b[0;32m-> 6665\u001b[0;31m                        observed=observed, **kwargs)\n\u001b[0m\u001b[1;32m   6666\u001b[0m \u001b[0;34m\u001b[0m\u001b[0m\n\u001b[1;32m   6667\u001b[0m     def asfreq(self, freq, method=None, how=None, normalize=False,\n",
      "\u001b[0;32m~/.virtualenvs/insight/lib/python3.6/site-packages/pandas/core/groupby/groupby.py\u001b[0m in \u001b[0;36mgroupby\u001b[0;34m(obj, by, **kwds)\u001b[0m\n\u001b[1;32m   2150\u001b[0m         \u001b[0;32mraise\u001b[0m \u001b[0mTypeError\u001b[0m\u001b[0;34m(\u001b[0m\u001b[0;34m'invalid type: %s'\u001b[0m \u001b[0;34m%\u001b[0m \u001b[0mtype\u001b[0m\u001b[0;34m(\u001b[0m\u001b[0mobj\u001b[0m\u001b[0;34m)\u001b[0m\u001b[0;34m)\u001b[0m\u001b[0;34m\u001b[0m\u001b[0m\n\u001b[1;32m   2151\u001b[0m \u001b[0;34m\u001b[0m\u001b[0m\n\u001b[0;32m-> 2152\u001b[0;31m     \u001b[0;32mreturn\u001b[0m \u001b[0mklass\u001b[0m\u001b[0;34m(\u001b[0m\u001b[0mobj\u001b[0m\u001b[0;34m,\u001b[0m \u001b[0mby\u001b[0m\u001b[0;34m,\u001b[0m \u001b[0;34m**\u001b[0m\u001b[0mkwds\u001b[0m\u001b[0;34m)\u001b[0m\u001b[0;34m\u001b[0m\u001b[0m\n\u001b[0m\u001b[1;32m   2153\u001b[0m \u001b[0;34m\u001b[0m\u001b[0m\n\u001b[1;32m   2154\u001b[0m \u001b[0;34m\u001b[0m\u001b[0m\n",
      "\u001b[0;32m~/.virtualenvs/insight/lib/python3.6/site-packages/pandas/core/groupby/groupby.py\u001b[0m in \u001b[0;36m__init__\u001b[0;34m(self, obj, keys, axis, level, grouper, exclusions, selection, as_index, sort, group_keys, squeeze, observed, **kwargs)\u001b[0m\n\u001b[1;32m    597\u001b[0m                                                     \u001b[0msort\u001b[0m\u001b[0;34m=\u001b[0m\u001b[0msort\u001b[0m\u001b[0;34m,\u001b[0m\u001b[0;34m\u001b[0m\u001b[0m\n\u001b[1;32m    598\u001b[0m                                                     \u001b[0mobserved\u001b[0m\u001b[0;34m=\u001b[0m\u001b[0mobserved\u001b[0m\u001b[0;34m,\u001b[0m\u001b[0;34m\u001b[0m\u001b[0m\n\u001b[0;32m--> 599\u001b[0;31m                                                     mutated=self.mutated)\n\u001b[0m\u001b[1;32m    600\u001b[0m \u001b[0;34m\u001b[0m\u001b[0m\n\u001b[1;32m    601\u001b[0m         \u001b[0mself\u001b[0m\u001b[0;34m.\u001b[0m\u001b[0mobj\u001b[0m \u001b[0;34m=\u001b[0m \u001b[0mobj\u001b[0m\u001b[0;34m\u001b[0m\u001b[0m\n",
      "\u001b[0;32m~/.virtualenvs/insight/lib/python3.6/site-packages/pandas/core/groupby/groupby.py\u001b[0m in \u001b[0;36m_get_grouper\u001b[0;34m(obj, key, axis, level, sort, observed, mutated, validate)\u001b[0m\n\u001b[1;32m   3289\u001b[0m                 \u001b[0min_axis\u001b[0m\u001b[0;34m,\u001b[0m \u001b[0mname\u001b[0m\u001b[0;34m,\u001b[0m \u001b[0mlevel\u001b[0m\u001b[0;34m,\u001b[0m \u001b[0mgpr\u001b[0m \u001b[0;34m=\u001b[0m \u001b[0;32mFalse\u001b[0m\u001b[0;34m,\u001b[0m \u001b[0;32mNone\u001b[0m\u001b[0;34m,\u001b[0m \u001b[0mgpr\u001b[0m\u001b[0;34m,\u001b[0m \u001b[0;32mNone\u001b[0m\u001b[0;34m\u001b[0m\u001b[0m\n\u001b[1;32m   3290\u001b[0m             \u001b[0;32melse\u001b[0m\u001b[0;34m:\u001b[0m\u001b[0;34m\u001b[0m\u001b[0m\n\u001b[0;32m-> 3291\u001b[0;31m                 \u001b[0;32mraise\u001b[0m \u001b[0mKeyError\u001b[0m\u001b[0;34m(\u001b[0m\u001b[0mgpr\u001b[0m\u001b[0;34m)\u001b[0m\u001b[0;34m\u001b[0m\u001b[0m\n\u001b[0m\u001b[1;32m   3292\u001b[0m         \u001b[0;32melif\u001b[0m \u001b[0misinstance\u001b[0m\u001b[0;34m(\u001b[0m\u001b[0mgpr\u001b[0m\u001b[0;34m,\u001b[0m \u001b[0mGrouper\u001b[0m\u001b[0;34m)\u001b[0m \u001b[0;32mand\u001b[0m \u001b[0mgpr\u001b[0m\u001b[0;34m.\u001b[0m\u001b[0mkey\u001b[0m \u001b[0;32mis\u001b[0m \u001b[0;32mnot\u001b[0m \u001b[0;32mNone\u001b[0m\u001b[0;34m:\u001b[0m\u001b[0;34m\u001b[0m\u001b[0m\n\u001b[1;32m   3293\u001b[0m             \u001b[0;31m# Add key to exclusions\u001b[0m\u001b[0;34m\u001b[0m\u001b[0;34m\u001b[0m\u001b[0m\n",
      "\u001b[0;31mKeyError\u001b[0m: ('right path', 'wrong path')"
     ]
    }
   ],
   "source": [
    "import numpy as np, matplotlib.pyplot as plt, seaborn as sns\n",
    "sns.set(style=\"whitegrid\", color_codes=True)\n",
    "\n",
    "# titanic = sns.load_dataset(\"titanic\")\n",
    "# data = titanic.groupby(\"deck\").size()   # data underlying bar plot in question\n",
    "\n",
    "pal = sns.color_palette(\"Greens_d\", len(data))\n",
    "#rank = data.argsort().argsort()   # http://stackoverflow.com/a/6266510/1628638\n",
    "rank =[1,2,3,4,5]\n",
    "sns.barplot(x=bars, y=height, palette=\"rocket\")\n",
    "\n",
    "plt.show()"
   ]
  },
  {
   "cell_type": "markdown",
   "metadata": {},
   "source": [
    "# how deep can the alg go?"
   ]
  },
  {
   "cell_type": "code",
   "execution_count": null,
   "metadata": {},
   "outputs": [],
   "source": [
    "(4, 0.2), (1, 0.2), (5, 0.248), (2, 0.091), (3, 0.078)"
   ]
  },
  {
   "cell_type": "code",
   "execution_count": 105,
   "metadata": {
    "scrolled": false
   },
   "outputs": [
    {
     "data": {
      "image/png": "[encoded data removed]",
      "text/plain": [
       "<Figure size 576x576 with 1 Axes>"
      ]
     },
     "metadata": {},
     "output_type": "display_data"
    }
   ],
   "source": [
    " \n",
    "# Data to plot\n",
    "labels = 'Wrong','Level 1', 'Level 2','Level 3','Level 4','Level 5'\n",
    "sizes = [1-0.818, 0.2, 0.091, 0.078, 0.2, 0.248]\n",
    "colors = ['lightgrey', 'deepskyblue','orange', 'yellowgreen','hotpink', 'gold']\n",
    "\n",
    "explode = (0.1, 0,0,0,0,0)  # explode 1st slice\n",
    " \n",
    "# Plot\n",
    "fig = plt.figure(figsize=(8,8))\n",
    "plt.pie(sizes, explode=explode, labels=labels, colors=colors,\n",
    "        autopct='%1.1f%%', shadow=True, startangle=-115,textprops={'fontsize': 20})\n",
    " \n",
    "plt.axis('equal')\n",
    "plt.show()"
   ]
  },
  {
   "cell_type": "code",
   "execution_count": null,
   "metadata": {},
   "outputs": [],
   "source": [
    "df_paths.shape"
   ]
  },
  {
   "cell_type": "code",
   "execution_count": null,
   "metadata": {},
   "outputs": [],
   "source": []
  },
  {
   "cell_type": "code",
   "execution_count": null,
   "metadata": {},
   "outputs": [],
   "source": []
  },
  {
   "cell_type": "markdown",
   "metadata": {},
   "source": [
    "# how diff are the Predicted wrt Actual Levels?"
   ]
  },
  {
   "cell_type": "code",
   "execution_count": null,
   "metadata": {},
   "outputs": [],
   "source": [
    "np.sum([ ])"
   ]
  },
  {
   "cell_type": "code",
   "execution_count": 91,
   "metadata": {
    "scrolled": true
   },
   "outputs": [
    {
     "data": {
      "text/plain": [
       "array([[0.89411765, 0.10196078, 0.10980392, 1.        ],\n",
       "       [0.21568627, 0.49411765, 0.72156863, 1.        ],\n",
       "       [0.30196078, 0.68627451, 0.29019608, 1.        ],\n",
       "       [0.59607843, 0.30588235, 0.63921569, 1.        ],\n",
       "       [1.        , 0.49803922, 0.        , 1.        ],\n",
       "       [1.        , 1.        , 0.2       , 1.        ],\n",
       "       [0.65098039, 0.3372549 , 0.15686275, 1.        ],\n",
       "       [0.96862745, 0.50588235, 0.74901961, 1.        ]])"
      ]
     },
     "execution_count": 91,
     "metadata": {},
     "output_type": "execute_result"
    }
   ],
   "source": [
    "cm.Set1(np.arange(8)/8.)"
   ]
  },
  {
   "cell_type": "code",
   "execution_count": 99,
   "metadata": {},
   "outputs": [
    {
     "data": {
      "text/plain": [
       "0.18200000000000005"
      ]
     },
     "execution_count": 99,
     "metadata": {},
     "output_type": "execute_result"
    }
   ],
   "source": [
    "1-0.818"
   ]
  },
  {
   "cell_type": "code",
   "execution_count": 103,
   "metadata": {
    "scrolled": false
   },
   "outputs": [
    {
     "data": {
      "image/png": "[encoded data removed]",
      "text/plain": [
       "<Figure size 576x576 with 1 Axes>"
      ]
     },
     "metadata": {},
     "output_type": "display_data"
    }
   ],
   "source": [
    "import matplotlib.pyplot as plt\n",
    "from matplotlib import cm\n",
    "# Data to plot\n",
    "labels = 'Wrong Split','Diff=0', 'Diff=1','Diff=2','Diff=3','Diff=4',\\\n",
    "\n",
    "sizes = [1-0.818, 0.289, 0.257, 0.088, 0.061, 0.123]\n",
    "# #colors = ['r','lime','limegreen','mediumseagreen','forestgreen',\\\n",
    "#           'lawngreen'] #,'turquoise','mediumseagreen'\n",
    "\n",
    "colors = ['r', 'deepskyblue','orange', 'yellowgreen','hotpink', 'gold']\n",
    "\n",
    "#colors = cm.Set1(np.arange(6)/6.)\n",
    "explode = (0.1, 0,0,0,0,0)  # explode 1st slice\n",
    " \n",
    "# Plot\n",
    "fig = plt.figure(figsize=(8,8))\n",
    "plt.pie(sizes, explode=explode, labels=labels, colors=colors,\n",
    "        autopct='%1.1f%%', shadow=True, startangle=-119,textprops={'fontsize': 20})\n",
    "\n",
    "\n",
    "plt.axis('equal')\n",
    "plt.show()"
   ]
  },
  {
   "cell_type": "code",
   "execution_count": 112,
   "metadata": {},
   "outputs": [
    {
     "data": {
      "text/html": [
       "<div>\n",
       "<style scoped>\n",
       "    .dataframe tbody tr th:only-of-type {\n",
       "        vertical-align: middle;\n",
       "    }\n",
       "\n",
       "    .dataframe tbody tr th {\n",
       "        vertical-align: top;\n",
       "    }\n",
       "\n",
       "    .dataframe thead th {\n",
       "        text-align: right;\n",
       "    }\n",
       "</style>\n",
       "<table border=\"1\" class=\"dataframe\">\n",
       "  <thead>\n",
       "    <tr style=\"text-align: right;\">\n",
       "      <th></th>\n",
       "      <th>0</th>\n",
       "      <th>1</th>\n",
       "      <th>2</th>\n",
       "      <th>3</th>\n",
       "      <th>4</th>\n",
       "      <th>-1</th>\n",
       "    </tr>\n",
       "  </thead>\n",
       "  <tbody>\n",
       "    <tr>\n",
       "      <th>0</th>\n",
       "      <td>Research</td>\n",
       "      <td>NaN</td>\n",
       "      <td>NaN</td>\n",
       "      <td>NaN</td>\n",
       "      <td>NaN</td>\n",
       "      <td>dummy</td>\n",
       "    </tr>\n",
       "    <tr>\n",
       "      <th>1</th>\n",
       "      <td>Research</td>\n",
       "      <td>NaN</td>\n",
       "      <td>NaN</td>\n",
       "      <td>NaN</td>\n",
       "      <td>NaN</td>\n",
       "      <td>dummy</td>\n",
       "    </tr>\n",
       "    <tr>\n",
       "      <th>2</th>\n",
       "      <td>Research</td>\n",
       "      <td>NaN</td>\n",
       "      <td>NaN</td>\n",
       "      <td>NaN</td>\n",
       "      <td>NaN</td>\n",
       "      <td>dummy</td>\n",
       "    </tr>\n",
       "    <tr>\n",
       "      <th>3</th>\n",
       "      <td>Research</td>\n",
       "      <td>NaN</td>\n",
       "      <td>NaN</td>\n",
       "      <td>NaN</td>\n",
       "      <td>NaN</td>\n",
       "      <td>dummy</td>\n",
       "    </tr>\n",
       "    <tr>\n",
       "      <th>4</th>\n",
       "      <td>Research</td>\n",
       "      <td>NaN</td>\n",
       "      <td>NaN</td>\n",
       "      <td>NaN</td>\n",
       "      <td>NaN</td>\n",
       "      <td>dummy</td>\n",
       "    </tr>\n",
       "    <tr>\n",
       "      <th>5</th>\n",
       "      <td>Research</td>\n",
       "      <td>Research/XeI</td>\n",
       "      <td>NaN</td>\n",
       "      <td>NaN</td>\n",
       "      <td>NaN</td>\n",
       "      <td>dummy</td>\n",
       "    </tr>\n",
       "    <tr>\n",
       "      <th>6</th>\n",
       "      <td>Research</td>\n",
       "      <td>Research/XeI</td>\n",
       "      <td>NaN</td>\n",
       "      <td>NaN</td>\n",
       "      <td>NaN</td>\n",
       "      <td>dummy</td>\n",
       "    </tr>\n",
       "    <tr>\n",
       "      <th>7</th>\n",
       "      <td>Research</td>\n",
       "      <td>Research/XeI</td>\n",
       "      <td>NaN</td>\n",
       "      <td>NaN</td>\n",
       "      <td>NaN</td>\n",
       "      <td>dummy</td>\n",
       "    </tr>\n",
       "    <tr>\n",
       "      <th>8</th>\n",
       "      <td>Research</td>\n",
       "      <td>Research/XeI</td>\n",
       "      <td>NaN</td>\n",
       "      <td>NaN</td>\n",
       "      <td>NaN</td>\n",
       "      <td>dummy</td>\n",
       "    </tr>\n",
       "    <tr>\n",
       "      <th>9</th>\n",
       "      <td>Research</td>\n",
       "      <td>Research/XeI</td>\n",
       "      <td>NaN</td>\n",
       "      <td>NaN</td>\n",
       "      <td>NaN</td>\n",
       "      <td>dummy</td>\n",
       "    </tr>\n",
       "  </tbody>\n",
       "</table>\n",
       "</div>"
      ],
      "text/plain": [
       "          0             1    2    3    4     -1\n",
       "0  Research           NaN  NaN  NaN  NaN  dummy\n",
       "1  Research           NaN  NaN  NaN  NaN  dummy\n",
       "2  Research           NaN  NaN  NaN  NaN  dummy\n",
       "3  Research           NaN  NaN  NaN  NaN  dummy\n",
       "4  Research           NaN  NaN  NaN  NaN  dummy\n",
       "5  Research  Research/XeI  NaN  NaN  NaN  dummy\n",
       "6  Research  Research/XeI  NaN  NaN  NaN  dummy\n",
       "7  Research  Research/XeI  NaN  NaN  NaN  dummy\n",
       "8  Research  Research/XeI  NaN  NaN  NaN  dummy\n",
       "9  Research  Research/XeI  NaN  NaN  NaN  dummy"
      ]
     },
     "execution_count": 112,
     "metadata": {},
     "output_type": "execute_result"
    }
   ],
   "source": [
    "df_paths.head(10)"
   ]
  },
  {
   "cell_type": "markdown",
   "metadata": {},
   "source": [
    "# confustion matrix:"
   ]
  },
  {
   "cell_type": "code",
   "execution_count": 115,
   "metadata": {},
   "outputs": [
    {
     "data": {
      "image/png": "[encoded data removed]",
      "text/plain": [
       "<Figure size 720x576 with 2 Axes>"
      ]
     },
     "metadata": {
      "needs_background": "light"
     },
     "output_type": "display_data"
    }
   ],
   "source": [
    "count_vect = CountVectorizer(min_df=8, encoding='latin-1', \\\n",
    "                ngram_range=(1, 2), stop_words='english')\n",
    "\n",
    "X_train_counts = count_vect.fit_transform(file_name_final)\n",
    "features = X_train_counts.toarray()\n",
    "\n",
    "\n",
    "categ_labels = list(df_paths[0].unique())\n",
    "\n",
    "\n",
    "model = LogisticRegression()\n",
    "X_train, X_test, y_train, y_test, indices_train, indices_test = \\\n",
    "train_test_split(features, df_paths[0], df_paths.index, test_size=0.2, random_state=0)\n",
    "model.fit(X_train, y_train)\n",
    "y_pred = model.predict(X_test)\n",
    "\n",
    "\n",
    "from sklearn.metrics import confusion_matrix\n",
    "\n",
    "\n",
    "conf_mat = confusion_matrix(y_test, y_pred,labels=categ_labels)\n",
    "fig, ax = plt.subplots(figsize=(10,8))\n",
    "\n",
    "#if normalize:\n",
    "conf_mat = conf_mat.astype('float') / conf_mat.sum(axis=1)[:, np.newaxis]\n",
    "        \n",
    "#sns.heatmap(conf_mat, annot=True, fmt='d',xticklabels=categ_labels, yticklabels=categ_labels)\n",
    "sns.heatmap(conf_mat, annot=True,xticklabels=categ_labels, yticklabels=categ_labels)\n",
    "\n",
    "plt.ylabel('Actual')\n",
    "plt.xlabel('Predicted')\n",
    "plt.show()\n"
   ]
  },
  {
   "cell_type": "code",
   "execution_count": 116,
   "metadata": {},
   "outputs": [
    {
     "data": {
      "text/plain": [
       "array([[9.95238095e-01, 0.00000000e+00, 4.39560440e-03, 3.66300366e-04,\n",
       "        0.00000000e+00],\n",
       "       [0.00000000e+00, 1.00000000e+00, 0.00000000e+00, 0.00000000e+00,\n",
       "        0.00000000e+00],\n",
       "       [4.71698113e-02, 0.00000000e+00, 9.52830189e-01, 0.00000000e+00,\n",
       "        0.00000000e+00],\n",
       "       [3.69811321e-01, 0.00000000e+00, 1.13207547e-02, 6.18867925e-01,\n",
       "        0.00000000e+00],\n",
       "       [1.53846154e-02, 0.00000000e+00, 0.00000000e+00, 0.00000000e+00,\n",
       "        9.84615385e-01]])"
      ]
     },
     "execution_count": 116,
     "metadata": {},
     "output_type": "execute_result"
    }
   ],
   "source": [
    "conf_mat "
   ]
  },
  {
   "cell_type": "code",
   "execution_count": null,
   "metadata": {},
   "outputs": [],
   "source": []
  },
  {
   "cell_type": "code",
   "execution_count": null,
   "metadata": {},
   "outputs": [],
   "source": []
  },
  {
   "cell_type": "code",
   "execution_count": 117,
   "metadata": {},
   "outputs": [
    {
     "data": {
      "image/png": "[encoded data removed]",
      "text/plain": [
       "<Figure size 576x432 with 1 Axes>"
      ]
     },
     "metadata": {
      "needs_background": "light"
     },
     "output_type": "display_data"
    }
   ],
   "source": [
    "dist_hier = np.array([0.912, 0.227])*100\n",
    "dist_flat = [93.4, 0.2]\n",
    "\n",
    "\n",
    "x = np.array(range(len(dist_hier)))\n",
    "\n",
    "y1 = dist_hier\n",
    "y2 = dist_flat\n",
    "\n",
    "\n",
    "fig = plt.figure(figsize=(8,6))\n",
    "ax = plt.subplot(111)\n",
    "\n",
    "\n",
    "ax.bar(x-0.2, y1,width=0.2,color='g',align='center')\n",
    "ax.bar(x, y2,width=0.2,color='y',align='center')\n",
    "\n",
    "\n",
    "ind = np.arange(1)  # the x locations for the groups\n",
    "width = 0.27       # the width of the bars\n",
    "\n",
    "\n",
    "\n",
    "\n",
    "ax.set_ylabel('AUC')\n",
    "ax.set_xticks(ind+width)\n",
    "#ax.set_xticklabels( ind )\n",
    "ax.legend( ('Hierarchical', '1-st folder') )\n",
    "\n",
    "def autolabel(rects):\n",
    "    for rect in rects:\n",
    "        h = rect.get_height()\n",
    "        ax.text(rect.get_x()+rect.get_width()/2., 1.05*h, '%d'%int(h),\n",
    "                ha='center', va='bottom')\n",
    "plt.show()"
   ]
  },
  {
   "cell_type": "code",
   "execution_count": 118,
   "metadata": {},
   "outputs": [
    {
     "data": {
      "image/png": "[encoded data removed]",
      "text/plain": [
       "<Figure size 576x432 with 1 Axes>"
      ]
     },
     "metadata": {
      "needs_background": "light"
     },
     "output_type": "display_data"
    }
   ],
   "source": [
    "dist_hier = [0.379, 0.245, 0.274, 0.014] #(3, 0.274), (2, 0.245), (1, 0.379), (4, 0.014)\n",
    "dist_flat = [0.934, 0, 0, 0]\n",
    "\n",
    "\n",
    "x = np.array(range(len(dist_hier)))\n",
    "\n",
    "y1 = dist_hier\n",
    "y2 = dist_flat\n",
    "\n",
    "\n",
    "fig = plt.figure(figsize=(8,6))\n",
    "ax = plt.subplot(111)\n",
    "\n",
    "\n",
    "ax.bar(x-0.2, y1,width=0.2,color='g',align='center')\n",
    "ax.bar(x, y2,width=0.2,color='y',align='center')\n",
    "\n",
    "\n",
    "ind = np.arange(9)  # the x locations for the groups\n",
    "width = 0.27       # the width of the bars\n",
    "\n",
    "\n",
    "\n",
    "\n",
    "ax.set_ylabel('AUC')\n",
    "ax.set_xticks(ind+width)\n",
    "ax.set_xticklabels( ind )\n",
    "ax.legend( ('Hierarchical', '1-st folder') )\n",
    "\n",
    "def autolabel(rects):\n",
    "    for rect in rects:\n",
    "        h = rect.get_height()\n",
    "        ax.text(rect.get_x()+rect.get_width()/2., 1.05*h, '%d'%int(h),\n",
    "                ha='center', va='bottom')\n",
    "plt.show()"
   ]
  },
  {
   "cell_type": "markdown",
   "metadata": {},
   "source": [
    "# difference between pred & actual levels"
   ]
  },
  {
   "cell_type": "code",
   "execution_count": 119,
   "metadata": {},
   "outputs": [
    {
     "data": {
      "image/png": "[encoded data removed]",
      "text/plain": [
       "<Figure size 576x432 with 1 Axes>"
      ]
     },
     "metadata": {
      "needs_background": "light"
     },
     "output_type": "display_data"
    }
   ],
   "source": [
    "dist_hier = [0.227, 0.147, 0.127, 0.136, 0.084, 0.07, 0.07, 0.041, 0.009]\n",
    "dist_flat = [0.002, 0.057, 0.354, 0.163, 0.116, 0.093, 0.063, 0.063, 0.023]\n",
    "\n",
    "\n",
    "x = np.array(range(len(dist_hier)))\n",
    "\n",
    "y1 = dist_hier\n",
    "y2 = dist_flat\n",
    "\n",
    "\n",
    "fig = plt.figure(figsize=(8,6))\n",
    "ax = plt.subplot(111)\n",
    "\n",
    "\n",
    "ax.bar(x-0.2, y1,width=0.2,color='g',align='center')\n",
    "ax.bar(x, y2,width=0.2,color='y',align='center')\n",
    "\n",
    "\n",
    "ind = np.arange(9)  # the x locations for the groups\n",
    "width = 0.27       # the width of the bars\n",
    "\n",
    "\n",
    "\n",
    "\n",
    "ax.set_ylabel('AUC')\n",
    "ax.set_xticks(ind+width)\n",
    "ax.set_xticklabels( ind )\n",
    "ax.legend( ('Hierarchical', '1-st folder') )\n",
    "\n",
    "def autolabel(rects):\n",
    "    for rect in rects:\n",
    "        h = rect.get_height()\n",
    "        ax.text(rect.get_x()+rect.get_width()/2., 1.05*h, '%d'%int(h),\n",
    "                ha='center', va='bottom')\n",
    "plt.show()"
   ]
  },
  {
   "cell_type": "markdown",
   "metadata": {},
   "source": [
    "# accumulated prob_total version for old data set "
   ]
  },
  {
   "cell_type": "code",
   "execution_count": 120,
   "metadata": {
    "scrolled": false
   },
   "outputs": [],
   "source": [
    "# # accumulated prob_total version \n",
    "\n",
    "# for prob_threshold in np.linspace(0,1,11):\n",
    "#     print(prob_threshold)\n",
    "#     print('train_set:')\n",
    "#     preds = Hierarchical_predict(X_train, prob_threshold)\n",
    "\n",
    "#     Hierarchical_auc(preds, y_train)\n",
    "#     print('test_set')\n",
    "#     preds_test = Hierarchical_predict(X_test,prob_threshold)\n",
    "\n",
    "#     Hierarchical_auc(preds_test, y_test)\n",
    "#     print('\\n')"
   ]
  },
  {
   "cell_type": "markdown",
   "metadata": {},
   "source": [
    "# Non- accumulated prob_total version : Doesn't do as well as accumulated version\n"
   ]
  },
  {
   "cell_type": "code",
   "execution_count": 121,
   "metadata": {},
   "outputs": [],
   "source": [
    "# # # non - accumulated prob_total version \n",
    "# for prob_threshold in np.linspace(0,1,11):\n",
    "#     print(prob_threshold)\n",
    "#     print('train_set:')\n",
    "#     preds = Hierarchical_predict_non_accum(X_train, prob_threshold)\n",
    "\n",
    "#     Hierarchical_auc(preds, y_train)\n",
    "#     print('test_set')\n",
    "#     preds_test = Hierarchical_predict_non_accum(X_test,prob_threshold)\n",
    "\n",
    "#     Hierarchical_auc(preds_test, y_test)\n",
    "#     print('\\n')"
   ]
  },
  {
   "cell_type": "code",
   "execution_count": null,
   "metadata": {},
   "outputs": [],
   "source": []
  },
  {
   "cell_type": "code",
   "execution_count": 122,
   "metadata": {},
   "outputs": [
    {
     "ename": "SyntaxError",
     "evalue": "invalid syntax (<ipython-input-122-bcbfcfe35034>, line 4)",
     "output_type": "error",
     "traceback": [
      "\u001b[0;36m  File \u001b[0;32m\"<ipython-input-122-bcbfcfe35034>\"\u001b[0;36m, line \u001b[0;32m4\u001b[0m\n\u001b[0;31m    train_set:\u001b[0m\n\u001b[0m              ^\u001b[0m\n\u001b[0;31mSyntaxError\u001b[0m\u001b[0;31m:\u001b[0m invalid syntax\n"
     ]
    }
   ],
   "source": [
    "# no stemming results:\n",
    "\n",
    "0.0\n",
    "train_set:\n",
    "Ratio of count_right_path Ratio of count_right_level Ratio of count_close_level [0.385, 0.001, 0.13]\n",
    "dict_items([(9, 0.385)])\n",
    "test_set\n",
    "Ratio of count_right_path Ratio of count_right_level Ratio of count_close_level [0.343, 0.0, 0.145]\n",
    "dict_items([(9, 0.343)])\n",
    "\n",
    "\n",
    "0.1\n",
    "train_set:\n",
    "Ratio of count_right_path Ratio of count_right_level Ratio of count_close_level [0.403, 0.008, 0.149]\n",
    "dict_items([(9, 0.383), (3, 0.006), (2, 0.013), (4, 0.001)])\n",
    "test_set\n",
    "Ratio of count_right_path Ratio of count_right_level Ratio of count_close_level [0.37, 0.013, 0.172]\n",
    "dict_items([(9, 0.343), (2, 0.023), (3, 0.004)])\n",
    "\n",
    "\n",
    "0.2\n",
    "train_set:\n",
    "Ratio of count_right_path Ratio of count_right_level Ratio of count_close_level [0.514, 0.09, 0.264]\n",
    "dict_items([(9, 0.347), (3, 0.049), (4, 0.01), (2, 0.107), (1, 0.001)])\n",
    "test_set\n",
    "Ratio of count_right_path Ratio of count_right_level Ratio of count_close_level [0.46, 0.074, 0.26]\n",
    "dict_items([(9, 0.326), (3, 0.034), (2, 0.091), (4, 0.006), (1, 0.002)])\n",
    "\n",
    "\n",
    "0.30000000000000004\n",
    "train_set:\n",
    "Ratio of count_right_path Ratio of count_right_level Ratio of count_close_level [0.574, 0.099, 0.298]\n",
    "dict_items([(1, 0.006), (9, 0.307), (3, 0.069), (2, 0.167), (4, 0.025)])\n",
    "test_set\n",
    "Ratio of count_right_path Ratio of count_right_level Ratio of count_close_level [0.523, 0.085, 0.289]\n",
    "dict_items([(9, 0.294), (2, 0.14), (3, 0.062), (4, 0.021), (1, 0.006)])\n",
    "\n",
    "\n",
    "0.4\n",
    "train_set:\n",
    "Ratio of count_right_path Ratio of count_right_level Ratio of count_close_level [0.671, 0.109, 0.38]\n",
    "dict_items([(1, 0.073), (4, 0.029), (9, 0.268), (3, 0.105), (2, 0.197)])\n",
    "test_set\n",
    "Ratio of count_right_path Ratio of count_right_level Ratio of count_close_level [0.64, 0.098, 0.402]\n",
    "dict_items([(9, 0.253), (2, 0.185), (1, 0.066), (3, 0.102), (4, 0.034)])\n",
    "\n",
    "\n",
    "0.5\n",
    "train_set:\n",
    "Ratio of count_right_path Ratio of count_right_level Ratio of count_close_level [0.74, 0.106, 0.422]\n",
    "dict_items([(1, 0.163), (4, 0.027), (9, 0.242), (2, 0.213), (3, 0.095)])\n",
    "test_set\n",
    "Ratio of count_right_path Ratio of count_right_level Ratio of count_close_level [0.702, 0.102, 0.434]\n",
    "dict_items([(9, 0.236), (1, 0.149), (2, 0.204), (3, 0.074), (4, 0.038)])\n",
    "\n",
    "\n",
    "0.6000000000000001\n",
    "train_set:\n",
    "Ratio of count_right_path Ratio of count_right_level Ratio of count_close_level [0.784, 0.094, 0.429]\n",
    "dict_items([(3, 0.099), (1, 0.219), (2, 0.264), (9, 0.182), (4, 0.019)])\n",
    "test_set\n",
    "Ratio of count_right_path Ratio of count_right_level Ratio of count_close_level [0.749, 0.085, 0.44]\n",
    "dict_items([(4, 0.028), (9, 0.185), (1, 0.204), (2, 0.247), (3, 0.085)])\n",
    "\n",
    "\n",
    "0.7000000000000001\n",
    "train_set:\n",
    "Ratio of count_right_path Ratio of count_right_level Ratio of count_close_level [0.835, 0.11, 0.493]\n",
    "dict_items([(2, 0.312), (1, 0.288), (3, 0.092), (9, 0.137), (4, 0.006)])\n",
    "test_set\n",
    "Ratio of count_right_path Ratio of count_right_level Ratio of count_close_level [0.823, 0.109, 0.534]\n",
    "dict_items([(3, 0.087), (9, 0.126), (1, 0.279), (2, 0.311), (4, 0.021)])\n",
    "\n",
    "\n",
    "0.8\n",
    "train_set:\n",
    "Ratio of count_right_path Ratio of count_right_level Ratio of count_close_level [0.877, 0.135, 0.517]\n",
    "dict_items([(2, 0.307), (1, 0.363), (3, 0.086), (4, 0.007), (9, 0.115)])\n",
    "test_set\n",
    "Ratio of count_right_path Ratio of count_right_level Ratio of count_close_level [0.868, 0.119, 0.553]\n",
    "dict_items([(2, 0.311), (1, 0.381), (3, 0.064), (4, 0.015), (9, 0.098)])\n",
    "\n",
    "\n",
    "0.9\n",
    "train_set:\n",
    "Ratio of count_right_path Ratio of count_right_level Ratio of count_close_level [0.904, 0.093, 0.568]\n",
    "dict_items([(1, 0.645), (2, 0.215), (3, 0.011), (9, 0.031), (4, 0.003)])\n",
    "test_set\n",
    "Ratio of count_right_path Ratio of count_right_level Ratio of count_close_level [0.904, 0.079, 0.583]\n",
    "dict_items([(2, 0.2), (1, 0.681), (9, 0.021), (3, 0.002)])\n",
    "\n",
    "\n",
    "1.0\n",
    "train_set:\n",
    "Ratio of count_right_path Ratio of count_right_level Ratio of count_close_level [0.92, 0.002, 0.591]\n",
    "dict_items([(1, 0.92)])\n",
    "test_set\n",
    "Ratio of count_right_path Ratio of count_right_level Ratio of count_close_level [0.909, 0.002, 0.583]\n",
    "dict_items([(1, 0.909)])"
   ]
  },
  {
   "cell_type": "code",
   "execution_count": null,
   "metadata": {},
   "outputs": [],
   "source": []
  },
  {
   "cell_type": "markdown",
   "metadata": {},
   "source": [
    "**Hierarchical Classification**\n",
    "\n",
    "In the **top-down approach**, in the training phase, the class hierarchy is processed one\n",
    "level at a time, producing one or more classifiers for each class level. In the test phase,\n",
    "each example is classified in a top-down fashion, as follows. \n",
    "\n",
    "First, the test example is assigned to one or more classes by the first-level classifier(s). \n",
    "\n",
    "Then the second level classifier(s) will assign to this example one or more sub-classes of the class(es) predicted\n",
    "at the first level, and so on, until the example’s class(es) is(are) predicted at the deepest\n",
    "possible level.\n",
    "\n",
    "In order to produce a hierarchical set of classifiers in the top-down approach, we can\n",
    "either train a single classifier per class level or train multiple classifiers per level. In the\n",
    "former case, we use a multi-class classification algorithm. Thus, at each class level, we\n",
    "build a classifier that predicts the class(es) of an example at that level. \n",
    "\n",
    "**Plan:**\n",
    "\n",
    "At each node, build a classifier? And then save all the calssifiers?"
   ]
  },
  {
   "cell_type": "markdown",
   "metadata": {},
   "source": [
    "# NO-hierarchical part"
   ]
  },
  {
   "cell_type": "code",
   "execution_count": 123,
   "metadata": {},
   "outputs": [],
   "source": [
    "# same as the part in the begining of this notebook\n",
    "\n",
    "# data_split = list(map(lambda x: os.path.normpath(x).split(os.sep), data))\n",
    "# data_drop_single = list(filter(lambda x: len(x)>1, data_split)) #change to len(x)>1 since solver needs >=2 classes!!!!\n",
    "# file_name = list(map(lambda x: x[-1], data_drop_single))\n",
    "# file_name_html = [html.unescape(x) for x in file_name]\n",
    "# file_name_underscore = [x.lower().replace(\"_\", \" \") for x in file_name_html]\n",
    "# file_name_word_split = [re.findall(r\"[\\w']+\", x) for x in file_name_underscore]\n",
    "# file_name_final = [' '.join(x) for x in file_name_word_split]        \n",
    "\n",
    "# #file_names_col = np.array(file_name_final).reshape(-1,1)\n",
    "\n",
    "\n",
    "# file_labels = list(map(lambda x: x[:-1], data_drop_single))\n",
    "# df_labels = pd.DataFrame(data = file_labels)\n",
    "# df_paths = pd.DataFrame(data = df_labels[0])\n",
    "# for i in range(1, df_labels.shape[1]):\n",
    "#     df_paths[i] = df_labels[i]\n",
    "\n",
    "#     df_paths.loc[pd.notna(df_labels[i]), i] = df_paths[i-1].map(str) + '/' + df_paths[i]\n",
    "    \n",
    "# df_paths.replace('None', np.nan, inplace=True)\n",
    "# df_paths[-1] = 'dummy'\n",
    "# df_paths = df_paths.astype('category', copy = False)\n",
    "\n"
   ]
  },
  {
   "cell_type": "markdown",
   "metadata": {},
   "source": [
    "# feature Vectorizition"
   ]
  },
  {
   "cell_type": "code",
   "execution_count": 124,
   "metadata": {},
   "outputs": [],
   "source": [
    "# #TfidfVectorizer is Equivalent to CountVectorizer followed by TfidfTransformer.\n",
    "# tfidf = TfidfVectorizer(sublinear_tf=True, min_df=8, norm='l2', encoding='latin-1', \\\n",
    "#                         ngram_range=(1, 2), stop_words='english') \n",
    "# features = tfidf.fit_transform(df.file_name).toarray()\n",
    "# labels = df.main_folder\n",
    "# features.shape"
   ]
  },
  {
   "cell_type": "markdown",
   "metadata": {},
   "source": [
    "# equivalent:"
   ]
  },
  {
   "cell_type": "code",
   "execution_count": 125,
   "metadata": {},
   "outputs": [
    {
     "data": {
      "text/plain": [
       "(16404, 1259)"
      ]
     },
     "execution_count": 125,
     "metadata": {},
     "output_type": "execute_result"
    }
   ],
   "source": [
    "# count_vect = CountVectorizer(min_df=8, encoding='latin-1', \\\n",
    "#                     ngram_range=(1, 2), stop_words='english')\n",
    "\n",
    "# X_train_counts = count_vect.fit_transform(file_name_final )\n",
    "# tfidf_transformer = TfidfTransformer(norm='l2', use_idf=True, smooth_idf=True, sublinear_tf=True)\n",
    "\n",
    "# X_train_tfidf = tfidf_transformer.fit_transform(X_train_counts)\n",
    "\n",
    "# features = X_train_tfidf.toarray()\n",
    "# labels = df_paths[0]\n",
    "# features.shape"
   ]
  },
  {
   "cell_type": "markdown",
   "metadata": {},
   "source": [
    "# chi2 uses tfidf.get_feature_names()"
   ]
  },
  {
   "cell_type": "code",
   "execution_count": 126,
   "metadata": {},
   "outputs": [],
   "source": [
    "tfidf = TfidfVectorizer(sublinear_tf=True, min_df=5, norm='l2', encoding='latin-1', ngram_range=(1, 2), stop_words='english')\n",
    "features = tfidf.fit_transform(file_name_final ).toarray()"
   ]
  },
  {
   "cell_type": "code",
   "execution_count": 129,
   "metadata": {},
   "outputs": [
    {
     "data": {
      "text/plain": [
       "[Research, music, pictures, CS, videos]\n",
       "Categories (5, object): [Research, music, pictures, CS, videos]"
      ]
     },
     "execution_count": 129,
     "metadata": {},
     "output_type": "execute_result"
    }
   ],
   "source": [
    "df_paths[0].unique()"
   ]
  },
  {
   "cell_type": "markdown",
   "metadata": {},
   "source": [
    "# visualize output label"
   ]
  },
  {
   "cell_type": "code",
   "execution_count": 131,
   "metadata": {},
   "outputs": [
    {
     "name": "stdout",
     "output_type": "stream",
     "text": [
      "# 'CS':\n",
      "  . Most correlated unigrams:\n",
      ". png\n",
      ". evict\n",
      ". py\n",
      ". output\n",
      ". ipynb\n",
      "  . Most correlated bigrams:\n",
      ". 5yr s2301\n",
      ". solut ipynb\n",
      ". output 19\n",
      ". output 18\n",
      ". output 15\n",
      "\n",
      "# 'Research':\n",
      "  . Most correlated unigrams:\n",
      ". lvm\n",
      ". output\n",
      ". ipynb\n",
      ". jpg\n",
      ". img\n",
      "  . Most correlated bigrams:\n",
      ". img 20170909\n",
      ". img 20170913\n",
      ". img 20170911\n",
      ". img 20180114\n",
      ". img 20170912\n",
      "\n",
      "# 'music':\n",
      "  . Most correlated unigrams:\n",
      ". suit\n",
      ". op\n",
      ". minor\n",
      ". concerto\n",
      ". mp3\n",
      "  . Most correlated bigrams:\n",
      ". 200uj csv\n",
      ". 335nm 200uj\n",
      ". 485 csv\n",
      ". 335 csv\n",
      ". major mp3\n",
      "\n",
      "# 'pictures':\n",
      "  . Most correlated unigrams:\n",
      ". larg\n",
      ". 20180114\n",
      ". 20170912\n",
      ". jpg\n",
      ". img\n",
      "  . Most correlated bigrams:\n",
      ". img 20170909\n",
      ". img 20170913\n",
      ". img 20170911\n",
      ". img 20180114\n",
      ". img 20170912\n",
      "\n",
      "# 'videos':\n",
      "  . Most correlated unigrams:\n",
      ". en\n",
      ". lang\n",
      ". srt\n",
      ". v1\n",
      ". mp4\n",
      "  . Most correlated bigrams:\n",
      ". learn l3\n",
      ". unsupervis learn\n",
      ". mlnd unsupervis\n",
      ". en srt\n",
      ". lang en\n",
      "\n"
     ]
    }
   ],
   "source": [
    "N = 5\n",
    "for category_id in df_paths[0].cat.categories.tolist():\n",
    "    features_chi2 = chi2(features, labels == category_id)\n",
    "    indices = np.argsort(features_chi2[0])\n",
    "    feature_names = np.array(tfidf.get_feature_names())[indices]\n",
    "    unigrams = [v for v in feature_names if len(v.split(' ')) == 1]\n",
    "    bigrams = [v for v in feature_names if len(v.split(' ')) == 2]\n",
    "    print(\"# '{}':\".format(category_id))\n",
    "    print(\"  . Most correlated unigrams:\\n. {}\".format('\\n. '.join(unigrams[-N:])))\n",
    "    print(\"  . Most correlated bigrams:\\n. {}\\n\".format('\\n. '.join(bigrams[-N:])))"
   ]
  },
  {
   "cell_type": "markdown",
   "metadata": {},
   "source": [
    "# Model Selection Based on First Folder"
   ]
  },
  {
   "cell_type": "code",
   "execution_count": null,
   "metadata": {},
   "outputs": [],
   "source": [
    "models = [\n",
    "    RandomForestClassifier(n_estimators=200, max_depth=3, random_state=0),\n",
    "    LinearSVC(),\n",
    "    MultinomialNB(),\n",
    "    LogisticRegression(random_state=0),\n",
    "]\n",
    "CV = 10\n",
    "cv_df = pd.DataFrame(index=range(CV * len(models)))\n",
    "entries = []\n",
    "for model in models:\n",
    "    model_name = model.__class__.__name__\n",
    "    accuracies = cross_val_score(model, features, labels, scoring='accuracy', cv=CV)\n",
    "    for fold_idx, accuracy in enumerate(accuracies):\n",
    "        entries.append((model_name, fold_idx, accuracy))\n",
    "        cv_df = pd.DataFrame(entries, columns=['model_name', 'fold_idx', 'accuracy'])"
   ]
  },
  {
   "cell_type": "code",
   "execution_count": null,
   "metadata": {},
   "outputs": [],
   "source": [
    "fig = plt.figure(figsize=(8,6))\n",
    "sns.boxplot(x='model_name', y='accuracy', data=cv_df)\n",
    "sns.stripplot(x='model_name', y='accuracy', data=cv_df, \n",
    "              size=8, jitter=True, edgecolor=\"gray\", linewidth=2)\n",
    "plt.show()"
   ]
  },
  {
   "cell_type": "code",
   "execution_count": null,
   "metadata": {
    "scrolled": true
   },
   "outputs": [],
   "source": [
    "cv_df.groupby('model_name').accuracy.mean()"
   ]
  },
  {
   "cell_type": "markdown",
   "metadata": {},
   "source": [
    "# Confusin Matrix"
   ]
  },
  {
   "cell_type": "code",
   "execution_count": 138,
   "metadata": {},
   "outputs": [
    {
     "data": {
      "image/png": "[encoded data removed]",
      "text/plain": [
       "<Figure size 720x576 with 2 Axes>"
      ]
     },
     "metadata": {
      "needs_background": "light"
     },
     "output_type": "display_data"
    }
   ],
   "source": [
    "count_vect = CountVectorizer(min_df=8, encoding='latin-1', \\\n",
    "                ngram_range=(1, 2), stop_words='english')\n",
    "\n",
    "X_train_counts = count_vect.fit_transform(file_name_final)\n",
    "features = X_train_counts.toarray()\n",
    "\n",
    "\n",
    "categ_labels = list(df_paths[0].unique())\n",
    "\n",
    "\n",
    "model = LogisticRegression()\n",
    "X_train, X_test, y_train, y_test, indices_train, indices_test = \\\n",
    "train_test_split(features, df_paths[0], df_paths.index, test_size=0.2, random_state=0)\n",
    "model.fit(X_train, y_train)\n",
    "y_pred = model.predict(X_test)\n",
    "\n",
    "\n",
    "from sklearn.metrics import confusion_matrix\n",
    "\n",
    "\n",
    "conf_mat = confusion_matrix(y_test, y_pred,labels=categ_labels)\n",
    "fig, ax = plt.subplots(figsize=(10,8))\n",
    "\n",
    "#if normalize:\n",
    "conf_mat = conf_mat.astype('float') / conf_mat.sum(axis=1)[:, np.newaxis]\n",
    "        \n",
    "#sns.heatmap(conf_mat, annot=True, fmt='d',xticklabels=categ_labels, yticklabels=categ_labels)\n",
    "sns.heatmap(conf_mat, annot=True,xticklabels=categ_labels, yticklabels=categ_labels)\n",
    "\n",
    "plt.ylabel('Actual', fontsize = 20)\n",
    "plt.xlabel('Predicted',fontsize = 20)\n",
    "\n",
    "ax.xaxis.label.set_size(20)\n",
    "plt.show()\n",
    "\n"
   ]
  },
  {
   "cell_type": "markdown",
   "metadata": {},
   "source": [
    "## fucntion for main folder prediction"
   ]
  },
  {
   "cell_type": "code",
   "execution_count": null,
   "metadata": {},
   "outputs": [],
   "source": []
  },
  {
   "cell_type": "code",
   "execution_count": null,
   "metadata": {},
   "outputs": [],
   "source": [
    "# import pandas as pd\n",
    "# import numpy as np\n",
    "# import os\n",
    "# import glob\n",
    "# import random\n",
    "# import string\n",
    "# import html\n",
    "# import re\n",
    "# from sklearn.feature_extraction.text import TfidfVectorizer, CountVectorizer, TfidfTransformer\n",
    "# from sklearn.svm import LinearSVC\n",
    "# import pickle\n",
    "\n",
    "\n",
    "# def ModelIt(file_name_input, file_path_input):\n",
    "#     model_train(file_path_input)\n",
    "#     path_pred = model_predict(file_name_input)\n",
    "#     return path_pred\n",
    "\n",
    "# def model_train( file_path_input):\n",
    "\n",
    "#     if file_path_input == '':\n",
    "#         file_path_input = os.path.abspath(os.path.join(os.path.dirname(__file__), os.path.pardir)) \\\n",
    "#         # the expression returns the full path name of the executing script in a multiplatform-safe way. \n",
    "# #         No need to hardwire any directions, that's why it is so useful.\n",
    "\n",
    "#     root_dir = file_path_input\n",
    "#     data = []\n",
    "#     for filename in glob.iglob(root_dir + '**/*', recursive=True):\n",
    "#          data.append(os.path.relpath(filename, root_dir))\n",
    "#     #print(data)\n",
    "#     data_split = list(map(lambda x: os.path.normpath(x).split(os.sep), data))\n",
    "#     data_drop_single = list(filter(lambda x: len(x)>1, data_split))\n",
    "#     file_name = list(map(lambda x: x[-1], data_drop_single))\n",
    "#     file_name_html = [html.unescape(x) for x in file_name]\n",
    "#     file_name_underscore = [x.replace(\"_\", \" \") for x in file_name_html]\n",
    "#     file_name_word_split = [re.findall(r\"[\\w']+\", x) for x in file_name_underscore]\n",
    "#     file_name_final = [' '.join(x) for x in file_name_word_split]\n",
    "\n",
    "#     data_first_folder = list(map(lambda x: x[0], data_drop_single))\n",
    "#     data_1_folder = np.array([data_first_folder, file_name_final]).transpose()\n",
    "\n",
    "#     df = pd.DataFrame(data = data_1_folder, columns=['main_folder', 'file_name'])\n",
    "#     df.main_folder = df.main_folder.astype('category',copy=False)\n",
    "#     df.file_name = df.file_name.astype('str', copy = False)\n",
    "    \n",
    "#     X_train = df['file_name']\n",
    "#     y_train = df['main_folder']\n",
    "#     count_vect = CountVectorizer(min_df=8, encoding='latin-1', \\\n",
    "#                         ngram_range=(1, 2), stop_words='english')\n",
    "#     X_train_counts = count_vect.fit_transform(X_train)\n",
    "#     tfidf_transformer = TfidfTransformer(norm='l2', use_idf=True, smooth_idf=True, sublinear_tf=True)\n",
    "\n",
    "#     X_train_tfidf = tfidf_transformer.fit_transform(X_train_counts)\n",
    "\n",
    "#     clf = LinearSVC(random_state=0)\n",
    "\n",
    "#     clf.fit(X_train_tfidf, y_train)\n",
    "#     #After fitting the training set, let’s make some predictions.\n",
    "#     # put file_name inside a []\n",
    "\n",
    "#     pickle.dump(clf, open('clf_folder_picker', 'wb'))\n",
    "#     pickle.dump(count_vect, open('count_vect', 'wb'))\n",
    "    \n",
    "# def model_predict(file_name_input):\n",
    "#     clf = pickle.load(open('clf_folder_picker', 'rb'))\n",
    "#     count_vect = pickle.load(open('count_vect', 'rb'))\n",
    "    \n",
    "#     y_pred = clf.predict(count_vect.transform([file_name_input]))\n",
    "   \n",
    "#     # abs_file_path = os.path.join('/Users/wentingchen/Documents/',y_pred[0])\n",
    "#     path_pred = y_pred[0]\n",
    "#     return path_pred\n",
    "\n",
    "\n"
   ]
  },
  {
   "cell_type": "code",
   "execution_count": null,
   "metadata": {},
   "outputs": [],
   "source": [
    "# ModelIt('summer.png', '/Users/wentingchen/Documents/Folder_Sample/')"
   ]
  },
  {
   "cell_type": "code",
   "execution_count": null,
   "metadata": {},
   "outputs": [],
   "source": []
  }
 ],
 "metadata": {
  "kernelspec": {
   "display_name": "Python 3",
   "language": "python",
   "name": "python3"
  },
  "language_info": {
   "codemirror_mode": {
    "name": "ipython",
    "version": 3
   },
   "file_extension": ".py",
   "mimetype": "text/x-python",
   "name": "python",
   "nbconvert_exporter": "python",
   "pygments_lexer": "ipython3",
   "version": "3.6.5"
  }
 },
 "nbformat": 4,
 "nbformat_minor": 2
}
